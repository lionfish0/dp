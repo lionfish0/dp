{
 "cells": [
  {
   "cell_type": "markdown",
   "metadata": {},
   "source": [
    "This class uses the integral kernel to make DP predictions"
   ]
  },
  {
   "cell_type": "code",
   "execution_count": 1,
   "metadata": {
    "collapsed": false
   },
   "outputs": [
    {
     "name": "stdout",
     "output_type": "stream",
     "text": [
      "warning in stationary: failed to import cython module: falling back to numpy\n"
     ]
    }
   ],
   "source": [
    "import dp4gp_datasets\n",
    "import dp4gp\n",
    "import dp4gp_histogram\n",
    "\n",
    "import random\n",
    "import numpy as np\n",
    "import GPy\n",
    "import matplotlib.pyplot as plt\n",
    "import pandas as pd\n",
    "%matplotlib inline\n",
    "c = pd.read_csv('price_dataset10k.csv')\n",
    "#c = c.ix[random.sample(c.index, 4000)]\n",
    "#east, north, time, education -> price\n",
    "training_inputs = np.vstack([c['easting'].values,c['northing'].values]).T #c['seconds'].values)#,(c['QS501EW_6']/c['QS501EW_0']).values]).T\n",
    "ys = c['price'].values\n",
    "\n",
    "training_inputs = training_inputs[c['years'].values>2015,:]\n",
    "ys = ys[c['years'].values>2015]\n",
    "ys[ys>1e6] = 1e6 #threshold to make sensitivity manageable\n",
    "\n",
    "Xtest, free_inputs, step = dp4gp.compute_Xtest(training_inputs,steps=10)"
   ]
  },
  {
   "cell_type": "code",
   "execution_count": 3,
   "metadata": {
    "collapsed": false
   },
   "outputs": [],
   "source": [
    "dpgp = dp4gp_histogram.DPGP_histogram(1e6,100.0,0.01)\n",
    "dpgp.prepare_model(Xtest,training_inputs,step,ys)"
   ]
  },
  {
   "cell_type": "code",
   "execution_count": 4,
   "metadata": {
    "collapsed": false
   },
   "outputs": [
    {
     "name": "stdout",
     "output_type": "stream",
     "text": [
      "[[ 520000.       0.  240000.       0.]]\n",
      "[[-1780.49620608]]\n",
      "[[  2.62874063e+08]]\n"
     ]
    }
   ],
   "source": [
    "p,c = dpgp.draw_prediction_sample(np.array([[520e3,240e3]]))"
   ]
  },
  {
   "cell_type": "code",
   "execution_count": 5,
   "metadata": {
    "collapsed": false
   },
   "outputs": [
    {
     "data": {
      "text/plain": [
       "(array([[ 287402.68343799]]), array([[  1.04453618e+08]]))"
      ]
     },
     "execution_count": 5,
     "metadata": {},
     "output_type": "execute_result"
    }
   ],
   "source": [
    "dpgp.model.predict(np.array([[520e3,0,180e3,0]]))"
   ]
  },
  {
   "cell_type": "code",
   "execution_count": null,
   "metadata": {
    "collapsed": false
   },
   "outputs": [],
   "source": [
    "c"
   ]
  },
  {
   "cell_type": "code",
   "execution_count": null,
   "metadata": {
    "collapsed": false
   },
   "outputs": [],
   "source": [
    "xs = np.arange(480e3,550e3,10e3)\n",
    "preds = []\n",
    "for x in xs:\n",
    "    p,c = dpgp.draw_prediction_sample(np.array([[x,240e3]]))\n",
    "    preds.append(p[0,0])"
   ]
  },
  {
   "cell_type": "code",
   "execution_count": null,
   "metadata": {
    "collapsed": false
   },
   "outputs": [],
   "source": [
    "preds"
   ]
  },
  {
   "cell_type": "code",
   "execution_count": null,
   "metadata": {
    "collapsed": false
   },
   "outputs": [],
   "source": [
    "plt.plot(xs,np.array(preds))"
   ]
  },
  {
   "cell_type": "code",
   "execution_count": null,
   "metadata": {
    "collapsed": true
   },
   "outputs": [],
   "source": []
  },
  {
   "cell_type": "code",
   "execution_count": null,
   "metadata": {
    "collapsed": false
   },
   "outputs": [],
   "source": [
    "def make_prediction(Xtest,X,step,ys):\n",
    "    bincounts, bintotals, prices = bin_data(Xtest,X,step,ys)\n",
    "    sens = 1e6\n",
    "    sens_per_bin = sens/bincounts\n",
    "    delta = 0.01\n",
    "    epsilon = 100.0\n",
    "    c = np.sqrt(2*np.log(2/delta)) #1.25 or 2 over delta?\n",
    "    bin_sigma = c*sens_per_bin/epsilon #noise standard deviation to add to each bin\n",
    "    #add DP noise to the prices\n",
    "    dp_prices=prices+np.random.randn(prices.shape[0])*bin_sigma\n",
    "    \n",
    "    newXtest = np.zeros([Xtest.shape[0],2*Xtest.shape[1]])\n",
    "    newXtest[:,0::2] = Xtest+step\n",
    "    newXtest[:,1::2] = Xtest\n",
    "    \n",
    "    keep = ~np.isnan(dp_prices)\n",
    "    #keep = bincounts>5\n",
    "    finalXtest = newXtest[keep,:]\n",
    "    #the integral kernel takes as y the integral... \n",
    "    #eg. if there's one dimension we're integrating over, km\n",
    "    #then we need to give y in £.km\n",
    "    #\n",
    "    final_dp_prices = dp_prices[keep]\n",
    "    meanoffset = np.mean(final_dp_prices)\n",
    "    final_dp_prices-= meanoffset\n",
    "    finalintegralprices = final_dp_prices * np.prod(step) \n",
    "    final_sigma = bin_sigma[keep]\n",
    "    finalintegralsigma = final_sigma * np.prod(step)\n",
    "    \n",
    "    kernel = GPy.kern.Multidimensional_Integral_Limits(input_dim=newXtest.shape[1], variances=1.0, lengthscale=[3e3,3e3])\n",
    "    kernel = kernel + GPy.kern.WhiteHeteroscedastic(input_dim=newXtest.shape[1], num_data=len(finalintegralsigma), variance=finalintegralsigma**2)\n",
    "    m = GPy.models.GPRegression(finalXtest,finalintegralprices[:,None],kernel)\n",
    "    #m.Gaussian_noise.variance.fix(1.0)\n",
    "    m.optimize(max_iters=200)\n",
    "    #m.predict_noiseless(np.array([[500e3,0,190e3,0]]))\n",
    "    preds = []\n",
    "    xtest=np.arange(480e3,580e3,1e3)\n",
    "    for p in xtest:\n",
    "        pred,v = m.predict_noiseless(np.array([[p,0,240e3,0]]))\n",
    "        preds.append(pred[0,0]+meanoffset)\n",
    "    return preds"
   ]
  },
  {
   "cell_type": "code",
   "execution_count": null,
   "metadata": {
    "collapsed": false
   },
   "outputs": [],
   "source": [
    "preds = make_prediction(Xtest,training_inputs,step,ys)"
   ]
  },
  {
   "cell_type": "code",
   "execution_count": null,
   "metadata": {
    "collapsed": false
   },
   "outputs": [],
   "source": [
    "keep = ~np.isnan(dp_prices)\n",
    "#keep = bincounts>5\n",
    "finalXtest = newXtest[keep,:]\n",
    "#the integral kernel takes as y the integral... \n",
    "#eg. if there's one dimension we're integrating over, km\n",
    "#then we need to give y in £.km\n",
    "#\n",
    "final_dp_prices = dp_prices[keep]\n",
    "meanoffset = np.mean(final_dp_prices)\n",
    "final_dp_prices-= meanoffset\n",
    "finalintegralprices = final_dp_prices * np.prod(step) \n",
    "final_sigma = bin_sigma[keep]\n",
    "finalintegralsigma = final_sigma * np.prod(step)"
   ]
  },
  {
   "cell_type": "code",
   "execution_count": null,
   "metadata": {
    "collapsed": false
   },
   "outputs": [],
   "source": [
    "plt.figure(figsize=[13,13])\n",
    "plt.scatter(X[:,0],X[:,1],ys/1e4)\n",
    "\n",
    "    \n",
    "for i in range(len(finalXtest)):\n",
    "    l = final_dp_prices[i]/1e5\n",
    "    plt.plot([finalXtest[i,0],finalXtest[i,0],finalXtest[i,1],finalXtest[i,1]],[finalXtest[i,2],finalXtest[i,3],finalXtest[i,3],finalXtest[i,2]],'k-',lw=l,alpha=0.6)\n",
    "    plt.plot([finalXtest[i,0],finalXtest[i,1]],[finalXtest[i,2],finalXtest[i,3]],'-k',lw=l,alpha=0.6)\n",
    "    plt.plot([finalXtest[i,1],finalXtest[i,0]],[finalXtest[i,2],finalXtest[i,3]],'-k',lw=l,alpha=0.6)"
   ]
  },
  {
   "cell_type": "code",
   "execution_count": null,
   "metadata": {
    "collapsed": false
   },
   "outputs": [],
   "source": [
    "kernel = GPy.kern.Multidimensional_Integral_Limits(input_dim=newXtest.shape[1], variances=1.0, lengthscale=[3e3,3e3])\n",
    "kernel = kernel + GPy.kern.WhiteHeteroscedastic(input_dim=newXtest.shape[1], num_data=len(finalintegralsigma), variance=finalintegralsigma**2)\n",
    "m = GPy.models.GPRegression(finalXtest,finalintegralprices[:,None],kernel)\n",
    "#m.Gaussian_noise.variance.fix(1.0)\n",
    "m.optimize()\n",
    "#m.predict_noiseless(np.array([[500e3,0,190e3,0]]))\n",
    "preds = []\n",
    "xtest=np.arange(480e3,580e3,1e3)\n",
    "for p in xtest:\n",
    "    pred,v = m.predict_noiseless(np.array([[p,0,240e3,0]]))\n",
    "    preds.append(pred[0,0]+meanoffset)"
   ]
  },
  {
   "cell_type": "code",
   "execution_count": null,
   "metadata": {
    "collapsed": false
   },
   "outputs": [],
   "source": [
    "plt.plot(finalintegralprices,finalintegralsigma,'x')"
   ]
  },
  {
   "cell_type": "code",
   "execution_count": null,
   "metadata": {
    "collapsed": false
   },
   "outputs": [],
   "source": [
    "plt.plot(Xtest[:,0],preds,'x')\n",
    "#plt.plot(X,ys,'.',alpha=0.1)"
   ]
  },
  {
   "cell_type": "code",
   "execution_count": null,
   "metadata": {
    "collapsed": false
   },
   "outputs": [],
   "source": [
    "m.plot_noiseless(fixed_inputs=[(1,0),(3,0)])#,(0,200e3)])\n",
    "plt.scatter(training_inputs[:,0],training_inputs[:,1],ys/10000,alpha=0.3)"
   ]
  },
  {
   "cell_type": "code",
   "execution_count": null,
   "metadata": {
    "collapsed": false
   },
   "outputs": [],
   "source": [
    "AX = 1.0*np.array([[0,10,0,10],[10,20,0,10],[0,10,10,20],[10,20,10,20]])\n",
    "Ay = 1.0*np.array([[100,200,200,100]]).T \n",
    "kernel = GPy.kern.Multidimensional_Integral_Limits(input_dim=4, variances=0.1, lengthscale=[1.0,1.0])\n",
    "m = GPy.models.GPRegression(AX,Ay,kernel)\n",
    "m.Gaussian_noise.variance.fix(0.000002)\n",
    "#m.optimize()\n",
    "m.predict_noiseless(np.array([[5.0,0,5.0,0]]))"
   ]
  },
  {
   "cell_type": "code",
   "execution_count": null,
   "metadata": {
    "collapsed": false
   },
   "outputs": [],
   "source": [
    "kernel = GPy.kern.Multidimensional_Integral_Limits(input_dim=2, variances=1.0, lengthscale=10.0)\n",
    "m = GPy.models.GPRegression(training_inputs,Y,kernel)\n",
    "if lengthscale is not None:\n",
    "    m.integral.lengthscale.fix(lengthscale)\n",
    "m.optimize()"
   ]
  },
  {
   "cell_type": "code",
   "execution_count": null,
   "metadata": {
    "collapsed": false
   },
   "outputs": [],
   "source": [
    "prices[nitems<10] = np.nan"
   ]
  },
  {
   "cell_type": "code",
   "execution_count": null,
   "metadata": {
    "collapsed": false
   },
   "outputs": [],
   "source": [
    "sens_per_bin.shape"
   ]
  },
  {
   "cell_type": "code",
   "execution_count": null,
   "metadata": {
    "collapsed": false
   },
   "outputs": [],
   "source": [
    "Xtest.shape"
   ]
  },
  {
   "cell_type": "code",
   "execution_count": null,
   "metadata": {
    "collapsed": false
   },
   "outputs": [],
   "source": [
    "plt.figure(figsize=[12,12])\n",
    "plt.scatter(X[:,0],X[:,1],(ys/20000)**2,'r',alpha=0.1)\n",
    "plt.scatter(Xtest[:,0],Xtest[:,1],(prices/20000)**2)\n"
   ]
  },
  {
   "cell_type": "code",
   "execution_count": null,
   "metadata": {
    "collapsed": true
   },
   "outputs": [],
   "source": []
  },
  {
   "cell_type": "code",
   "execution_count": null,
   "metadata": {
    "collapsed": true
   },
   "outputs": [],
   "source": []
  }
 ],
 "metadata": {
  "kernelspec": {
   "display_name": "Python 2",
   "language": "python",
   "name": "python2"
  },
  "language_info": {
   "codemirror_mode": {
    "name": "ipython",
    "version": 2
   },
   "file_extension": ".py",
   "mimetype": "text/x-python",
   "name": "python",
   "nbconvert_exporter": "python",
   "pygments_lexer": "ipython2",
   "version": "2.7.12"
  }
 },
 "nbformat": 4,
 "nbformat_minor": 0
}
