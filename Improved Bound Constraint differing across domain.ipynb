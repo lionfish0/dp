{
 "cells": [
  {
   "cell_type": "markdown",
   "metadata": {},
   "source": [
    "# Improved Bound Constraint differing across domain\n",
    "\n",
    "We are interested still in protecting just the outputs. Reiterating the previous paper, we need to find:\n",
    "\n",
    "$$||f_D(x_*) - f_{D'}(x_*)||^2_H$$\n",
    "\n",
    "We can express this difference as:\n",
    "\n",
    "$$f_D(x_*) - f_{D'}(x_*) = \\sum_{i=1}^n k(x_*,x_i) \\; (\\alpha_i - \\alpha_i')$$\n",
    "\n",
    "We also noted that \n",
    "$$\\mathbf{\\alpha} - \\mathbf{\\alpha}' = K^{-1} (\\mathbf{y}-\\mathbf{y}')$$\n",
    "\n",
    "The change we propose at this point is that, rather than just put a bound on the values of $k(\\cdot,\\cdot)$ we calculate these values for every test point.\n",
    "\n",
    "So rather than just accept that $-1<k(\\cdot,\\cdot)<1$ we actually input the value of this function. \n",
    "\n",
    "Thus the bound is:\n",
    "\n",
    "$$\\text{max}_j\\; \\text{abs}\\left( \\sum_{i=1}^n { k(x_*,x_i) \\; (K^{-1})_{ij} } \\right) \\Delta_y$$"
   ]
  },
  {
   "cell_type": "markdown",
   "metadata": {},
   "source": [
    "So we need to calculate the kernel value from a test point $x_*$ to each training point $x_i$ (shape, transposed, 1xN). Such a vector will then be multiplied by $K^{-1}$ (NxN) such that each column is multiplied element wise with the $k$s. The resulting 1xN vector is the result of whether the differing element of $\\mathbf{y}$ lies at that index. We find the absolute change, as that's what we want to protect. Find the largest of these, and then scale by the largest change in y.\n",
    "\n",
    "$$\\text{max} \\; \\left[ \\text{abs} \\left(\\mathbf{k}_*^{\\top} \\mathbf{K}^{-1} \\right) \\right] \\Delta_y$$"
   ]
  },
  {
   "cell_type": "markdown",
   "metadata": {
    "collapsed": true
   },
   "source": [
    "For speed we can consider the matrix of covariance between all test and training points $\\mathbf{K}_*$, we want the maximum of each row:\n",
    "\n",
    "$$\\text{max}_{by\\;row} \\; \\left[ \\text{abs} \\left(\\mathbf{K}_*^{\\top} \\mathbf{K}^{-1} \\right) \\right] \\Delta_y$$"
   ]
  },
  {
   "cell_type": "markdown",
   "metadata": {},
   "source": [
    "### Inducing inputs using the improved bound constraint"
   ]
  },
  {
   "cell_type": "markdown",
   "metadata": {},
   "source": [
    "We need to apply the above to inducing inputs. We just need to consider the calculation of $\\mathbf{\\alpha}$ for the inducing inputs, and then use the same expression as above.\n",
    "\n",
    "From the paper,\n",
    "\n",
    "$\\mu_* = \\mathbf{k}_*^\\top Q_{uu}^{-1} K_{uf} \\left( \\Lambda + \\sigma^2 I \\right)^{-1} \\mathbf{y}$\n",
    "\n",
    "where $Q_{uu} = K_{uu} + K_{uf}\\left( \\Lambda + \\sigma^2 I \\right)^{-1} K_{fu}$ and the matrix $\\Lambda = \\text{diag}(\\mathbf{\\lambda})$ where the diagonal elements are $\\lambda_i = K_{ii} - \\mathbf{k}_i^\\top K_{uu}^{-1} \\mathbf{k}_i$.\n",
    "\n",
    "So we just need to substitute in,\n",
    "\n",
    "$\\mathbf{K}_{pseudo}^{-1} = Q_{uu}^{-1} K_{uf} \\left( \\Lambda + \\sigma^2 I \\right)^{-1}$\n",
    "\n",
    "thus,\n",
    "\n",
    "$$\\text{max}_{by\\;row} \\; \\left[ \\text{abs} \\left(\\mathbf{K}_*^{\\top} \\mathbf{K}_{pseudo}^{-1} \\right) \\right] \\Delta_y$$\n",
    "\n",
    "where $\\mathbf{K}_*$ is now the covariance between inducing inputs and test inputs.\n",
    "\n",
    "Applying this to the fish length example;"
   ]
  },
  {
   "cell_type": "code",
   "execution_count": 1,
   "metadata": {
    "collapsed": false
   },
   "outputs": [
    {
     "name": "stdout",
     "output_type": "stream",
     "text": [
      "warning in stationary: failed to import cython module: falling back to numpy\n"
     ]
    },
    {
     "data": {
      "text/plain": [
       "<matplotlib.text.Text at 0x7f06da9c49d0>"
      ]
     },
     "execution_count": 1,
     "metadata": {},
     "output_type": "execute_result"
    },
    {
     "data": {
      "image/png": "[encoded data removed]",
      "text/plain": [
       "<matplotlib.figure.Figure at 0x7f070c65a450>"
      ]
     },
     "metadata": {},
     "output_type": "display_data"
    }
   ],
   "source": [
    "import dp4gp_datasets as datasets\n",
    "import dp4gp\n",
    "import GPy\n",
    "\n",
    "import pandas as pd\n",
    "import dp4gp_datasets as datasets\n",
    "import matplotlib.pyplot as plt\n",
    "import numpy as np\n",
    "%matplotlib inline\n",
    "import dp4gp\n",
    "\n",
    "fishdata = datasets.load_fishlength()\n",
    "\n",
    "X = fishdata[:,1] #age of fishes (days)\n",
    "Y = fishdata[:,3] #length of fishes (inches)\n",
    "X = X+np.random.randn(X.shape[0])*3.0 #adding some jitter to the dataset for demo purposes\n",
    "plt.plot(X,Y,'o',alpha=0.4,markersize=5)\n",
    "plt.xlabel('Fish Age / days')\n",
    "plt.ylabel('Fish Length / inches')\n"
   ]
  },
  {
   "cell_type": "code",
   "execution_count": 2,
   "metadata": {
    "collapsed": false
   },
   "outputs": [
    {
     "name": "stdout",
     "output_type": "stream",
     "text": [
      "Calculating covariance between test inputs\n",
      "Calculating covariance between training inputs and test inputs\n",
      "Calculating K_NM\n",
      "Calculating K_MM\n",
      "Calculating K_NN diagonals\n",
      "Calculating K_star\n",
      "Calculating K_NN\n",
      "Calculating lambda\n"
     ]
    }
   ],
   "source": [
    "test_inputs = np.arange(0,260,1)\n",
    "pseudo_inputs = np.array([0,40,80,120,160])\n",
    "lengthscales = 20.0\n",
    "sigma = 0.1\n",
    "\n",
    "test_cov, normal_msense, pseudo_msense, normal_peroutput_msense, pseudo_peroutput_msense, normal_mu, pseudo_mu, K_normal, K_pseudo = dp4gp.get_noise_scale(Y,test_inputs,X,pseudo_inputs,lengthscales,sigma,calc_normal=True)"
   ]
  },
  {
   "cell_type": "markdown",
   "metadata": {},
   "source": [
    "We now have four results,\n",
    "\n",
    "- normal GP\n",
    "- inducing variable GP\n",
    "- normal GP, but with the kernel computed for each test point (i.e. test point specific)\n",
    "- test point specific IV GP\n",
    "\n",
    "The results for the above fish example are as follows;"
   ]
  },
  {
   "cell_type": "code",
   "execution_count": 3,
   "metadata": {
    "collapsed": false
   },
   "outputs": [
    {
     "name": "stdout",
     "output_type": "stream",
     "text": [
      "Normal GP     13.967\n",
      "IV GP         1.646\n",
      "TPS normal GP 0.241\n",
      "TPS IV GP     0.292\n"
     ]
    }
   ],
   "source": [
    "print(\"Normal GP     %03.3f\" % normal_msense)\n",
    "print(\"IV GP         %3.3f\" % pseudo_msense)\n",
    "print(\"TPS normal GP %3.3f\" % np.mean(normal_peroutput_msense))\n",
    "print(\"TPS IV GP     %3.3f\" % np.mean(pseudo_peroutput_msense))"
   ]
  },
  {
   "cell_type": "markdown",
   "metadata": {},
   "source": [
    "The TPS do far better on average (although it depends on which points you care about! The figure below illustrates how the sensitivity varies. The horizontal line near the top indicates the sensitivity of the IV GP."
   ]
  },
  {
   "cell_type": "code",
   "execution_count": 4,
   "metadata": {
    "collapsed": false
   },
   "outputs": [
    {
     "data": {
      "text/plain": [
       "<matplotlib.collections.LineCollection at 0x7f06d97aef50>"
      ]
     },
     "execution_count": 4,
     "metadata": {},
     "output_type": "execute_result"
    },
    {
     "data": {
      "image/png": "[encoded data removed]",
      "text/plain": [
       "<matplotlib.figure.Figure at 0x7f06da90d090>"
      ]
     },
     "metadata": {},
     "output_type": "display_data"
    }
   ],
   "source": [
    "plt.plot(test_inputs,pseudo_peroutput_msense)\n",
    "plt.plot(test_inputs,normal_peroutput_msense)\n",
    "plt.vlines(X,0,0.1)\n",
    "plt.hlines(pseudo_msense,0,250)"
   ]
  },
  {
   "cell_type": "markdown",
   "metadata": {},
   "source": [
    "The vertical lines along the bottom of the figure indicate where the training data is.\n",
    "\n",
    "Note that the sensitivity increases beyond the last set of data. I assume this is because these test points depend on fewer training data, and so are more easily altered by single training point values. To further demonstrate this we add a new fish of 200 days,"
   ]
  },
  {
   "cell_type": "code",
   "execution_count": 5,
   "metadata": {
    "collapsed": false
   },
   "outputs": [
    {
     "name": "stdout",
     "output_type": "stream",
     "text": [
      "Calculating covariance between test inputs\n",
      "Calculating covariance between training inputs and test inputs\n",
      "Calculating K_NM\n",
      "Calculating K_MM\n",
      "Calculating K_NN diagonals\n",
      "Calculating K_star\n",
      "Calculating K_NN\n",
      "Calculating lambda\n"
     ]
    }
   ],
   "source": [
    "X = np.hstack([200,X])\n",
    "Y = np.hstack([10,Y])\n",
    "test_cov, normal_msense, pseudo_msense, normal_peroutput_msense, pseudo_peroutput_msense, normal_mu, pseudo_mu, K_normal, K_pseudo = dp4gp.get_noise_scale(Y,test_inputs,X,pseudo_inputs,lengthscales,sigma,calc_normal=True)\n"
   ]
  },
  {
   "cell_type": "code",
   "execution_count": 6,
   "metadata": {
    "collapsed": false
   },
   "outputs": [
    {
     "data": {
      "text/plain": [
       "<matplotlib.collections.LineCollection at 0x7f06d9705b90>"
      ]
     },
     "execution_count": 6,
     "metadata": {},
     "output_type": "execute_result"
    },
    {
     "data": {
      "image/png": "[encoded data removed]",
      "text/plain": [
       "<matplotlib.figure.Figure at 0x7f06d9752bd0>"
      ]
     },
     "metadata": {},
     "output_type": "display_data"
    }
   ],
   "source": [
    "plt.plot(test_inputs,pseudo_peroutput_msense)\n",
    "plt.plot(test_inputs,normal_peroutput_msense)\n",
    "plt.vlines(X,0,0.1)\n",
    "plt.hlines(pseudo_msense,0,250)"
   ]
  },
  {
   "cell_type": "code",
   "execution_count": 7,
   "metadata": {
    "collapsed": false
   },
   "outputs": [
    {
     "name": "stdout",
     "output_type": "stream",
     "text": [
      "Normal GP     17.959\n",
      "IV GP         1.700\n",
      "TPS normal GP 0.374\n",
      "TPS IV GP     0.311\n"
     ]
    }
   ],
   "source": [
    "print(\"Normal GP     %03.3f\" % normal_msense)\n",
    "print(\"IV GP         %3.3f\" % pseudo_msense)\n",
    "print(\"TPS normal GP %3.3f\" % np.mean(normal_peroutput_msense))\n",
    "print(\"TPS IV GP     %3.3f\" % np.mean(pseudo_peroutput_msense))"
   ]
  },
  {
   "cell_type": "markdown",
   "metadata": {},
   "source": [
    "One can see that the sensitivity of the normal GP is greatest around this single outlying training point. The inducing input GP is protected from this as there are no inducing inputs near the training point.\n",
    "\n",
    "This method seems to have many intuitive features;\n",
    "\n",
    " - the sensitivity approaches zero far from the training data (where we return to the GP prior).\n",
    " - conversely, the more training data in a locale, the less the sensitivity too. However, this seems to sometimes be cancelled out by increased sensitivity in the surrounding area, presumably the effect of the gradient of the mean can still be strongly affected by individual training point, as one moves away from a concentration of training data?\n",
    " - we can reduce the sensitivity by placing inducing inputs near the higher concentrations of training points, and away from single outliers. This might explain why the TPS IV GP method above did poorly;\n",
    " \n",
    "To further investigate these points, we add 9 more points and an inducing input, all around 200 days;"
   ]
  },
  {
   "cell_type": "code",
   "execution_count": 8,
   "metadata": {
    "collapsed": false
   },
   "outputs": [
    {
     "name": "stdout",
     "output_type": "stream",
     "text": [
      "Calculating covariance between test inputs\n",
      "Calculating covariance between training inputs and test inputs\n",
      "Calculating K_NM\n",
      "Calculating K_MM\n",
      "Calculating K_NN diagonals\n",
      "Calculating K_star\n",
      "Calculating K_NN\n",
      "Calculating lambda\n"
     ]
    }
   ],
   "source": [
    "X = np.hstack([201,199,198,196,202,204,205,206,208,X])\n",
    "Y = np.hstack([10,12,13,14,15,16,14,13,11,Y])\n",
    "pseudo_inputs = np.array([0,40,80,120,160,200])\n",
    "\n",
    "test_cov, normal_msense, pseudo_msense, normal_peroutput_msense, pseudo_peroutput_msense, normal_mu, pseudo_mu, K_normal, K_pseudo = dp4gp.get_noise_scale(Y,test_inputs,X,pseudo_inputs,lengthscales,sigma,calc_normal=True)\n"
   ]
  },
  {
   "cell_type": "code",
   "execution_count": 9,
   "metadata": {
    "collapsed": false
   },
   "outputs": [
    {
     "data": {
      "text/plain": [
       "<matplotlib.collections.LineCollection at 0x7f06d91bcfd0>"
      ]
     },
     "execution_count": 9,
     "metadata": {},
     "output_type": "execute_result"
    },
    {
     "data": {
      "image/png": "[encoded data removed]",
      "text/plain": [
       "<matplotlib.figure.Figure at 0x7f06d964c8d0>"
      ]
     },
     "metadata": {},
     "output_type": "display_data"
    }
   ],
   "source": [
    "plt.plot(test_inputs,pseudo_peroutput_msense)\n",
    "plt.plot(test_inputs,normal_peroutput_msense)\n",
    "plt.vlines(X,0,0.1)\n",
    "plt.hlines(pseudo_msense,0,250)"
   ]
  },
  {
   "cell_type": "code",
   "execution_count": 10,
   "metadata": {
    "collapsed": false
   },
   "outputs": [
    {
     "name": "stdout",
     "output_type": "stream",
     "text": [
      "Calculating covariance between test inputs\n",
      "Calculating covariance between training inputs and test inputs\n",
      "Calculating K_NM\n",
      "Calculating K_MM\n",
      "Calculating K_NN diagonals\n",
      "Calculating K_star\n",
      "Calculating K_NN\n",
      "Calculating lambda\n"
     ]
    },
    {
     "data": {
      "text/plain": [
       "<matplotlib.collections.LineCollection at 0x7f06d9108990>"
      ]
     },
     "execution_count": 10,
     "metadata": {},
     "output_type": "execute_result"
    },
    {
     "data": {
      "image/png": "[encoded data removed]",
      "text/plain": [
       "<matplotlib.figure.Figure at 0x7f06d9752150>"
      ]
     },
     "metadata": {},
     "output_type": "display_data"
    }
   ],
   "source": [
    "pseudo_inputs = np.array([17,42,72,98,125,140,170,200])\n",
    "test_cov, normal_msense, pseudo_msense, normal_peroutput_msense, pseudo_peroutput_msense, normal_mu, pseudo_mu, K_normal, K_pseudo = dp4gp.get_noise_scale(Y,test_inputs,X,pseudo_inputs,lengthscales,sigma,calc_normal=True)\n",
    "plt.plot(test_inputs,pseudo_peroutput_msense)\n",
    "plt.plot(test_inputs,normal_peroutput_msense)\n",
    "plt.vlines(X,0,0.1)\n",
    "plt.hlines(pseudo_msense,0,250)"
   ]
  },
  {
   "cell_type": "markdown",
   "metadata": {},
   "source": [
    "The inducing variables potentially are useful in situations with lots of outliers, or higher numbers of dimensions."
   ]
  },
  {
   "cell_type": "code",
   "execution_count": null,
   "metadata": {
    "collapsed": true
   },
   "outputs": [],
   "source": []
  }
 ],
 "metadata": {
  "kernelspec": {
   "display_name": "Python 2",
   "language": "python",
   "name": "python2"
  },
  "language_info": {
   "codemirror_mode": {
    "name": "ipython",
    "version": 2
   },
   "file_extension": ".py",
   "mimetype": "text/x-python",
   "name": "python",
   "nbconvert_exporter": "python",
   "pygments_lexer": "ipython2",
   "version": "2.7.12"
  }
 },
 "nbformat": 4,
 "nbformat_minor": 0
}
