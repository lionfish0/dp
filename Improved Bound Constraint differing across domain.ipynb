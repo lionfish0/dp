{
 "cells": [
  {
   "cell_type": "markdown",
   "metadata": {},
   "source": [
    "# Improved Bound Constraint differing across domain\n",
    "\n",
    "We are interested still in protecting just the outputs. Reiterating the previous paper, we need to find:\n",
    "\n",
    "$$||f_D(x_*) - f_{D'}(x_*)||^2_H$$\n",
    "\n",
    "We can express this difference as:\n",
    "\n",
    "$$f_D(x_*) - f_{D'}(x_*) = \\sum_{i=1}^n k(x_*,x_i) \\; (\\alpha_i - \\alpha_i')$$\n",
    "\n",
    "We also noted that \n",
    "$$\\mathbf{\\alpha} - \\mathbf{\\alpha}' = K^{-1} (\\mathbf{y}-\\mathbf{y}')$$\n",
    "\n",
    "The change we propose at this point is that, rather than just put a bound on the values of $k(\\cdot,\\cdot)$ we calculate these values for every test point.\n",
    "\n",
    "So rather than just accept that $-1<k(\\cdot,\\cdot)<1$ we actually input the value of this function. \n",
    "\n",
    "Thus the bound is:\n",
    "\n",
    "$$\\text{max}_j\\; \\text{abs}\\left( \\sum_{i=1}^n { k(x_*,x_i) \\; (K^{-1})_{ij} } \\right) \\Delta_y$$"
   ]
  },
  {
   "cell_type": "markdown",
   "metadata": {},
   "source": [
    "So we need to calculate the kernel value from a test point $x_*$ to each training point $x_i$ (shape, transposed, 1xN). Such a vector will then be multiplied by $K^{-1}$ (NxN) such that each column is multiplied element wise with the $k$s. The resulting 1xN vector is the result of whether the differing element of $\\mathbf{y}$ lies at that index. We find the absolute change, as that's what we want to protect. Find the largest of these, and then scale by the largest change in y.\n",
    "\n",
    "$$\\text{max} \\; \\left[ \\text{abs} \\left(\\mathbf{k}_*^{\\top} \\mathbf{K}^{-1} \\right) \\right] \\Delta_y$$"
   ]
  },
  {
   "cell_type": "markdown",
   "metadata": {
    "collapsed": true
   },
   "source": [
    "For speed we can consider the matrix of covariance between all test and training points $\\mathbf{K}_*$, we want the maximum of each row:\n",
    "\n",
    "$$\\text{max}_{by\\;row} \\; \\left[ \\text{abs} \\left(\\mathbf{K}_*^{\\top} \\mathbf{K}^{-1} \\right) \\right] \\Delta_y$$"
   ]
  },
  {
   "cell_type": "markdown",
   "metadata": {},
   "source": [
    "## Error!\n",
    "\n",
    "This currently can't be applied to each test point as we will no longer be adding a GP sample to the mean!\n",
    "\n",
    "See bottom of doc for a new version that does manage this properly."
   ]
  },
  {
   "cell_type": "markdown",
   "metadata": {},
   "source": [
    "## Notes on: Inducing inputs using the improved bound constraint"
   ]
  },
  {
   "cell_type": "markdown",
   "metadata": {},
   "source": [
    "We need to apply the above to inducing inputs. We just need to consider the calculation of $\\mathbf{\\alpha}$ for the inducing inputs, and then use the same expression as above.\n",
    "\n",
    "From the paper,\n",
    "\n",
    "$\\mu_* = \\mathbf{k}_*^\\top Q_{uu}^{-1} K_{uf} \\left( \\Lambda + \\sigma^2 I \\right)^{-1} \\mathbf{y}$\n",
    "\n",
    "where $Q_{uu} = K_{uu} + K_{uf}\\left( \\Lambda + \\sigma^2 I \\right)^{-1} K_{fu}$ and the matrix $\\Lambda = \\text{diag}(\\mathbf{\\lambda})$ where the diagonal elements are $\\lambda_i = K_{ii} - \\mathbf{k}_i^\\top K_{uu}^{-1} \\mathbf{k}_i$.\n",
    "\n",
    "So we just need to substitute in,\n",
    "\n",
    "$\\mathbf{K}_{pseudo}^{-1} = Q_{uu}^{-1} K_{uf} \\left( \\Lambda + \\sigma^2 I \\right)^{-1}$\n",
    "\n",
    "thus,\n",
    "\n",
    "$$\\text{max}_{by\\;row} \\; \\left[ \\text{abs} \\left(\\mathbf{K}_*^{\\top} \\mathbf{K}_{pseudo}^{-1} \\right) \\right] \\Delta_y$$\n",
    "\n",
    "where $\\mathbf{K}_*$ is now the covariance between inducing inputs and test inputs.\n",
    "\n",
    "Applying this to the fish length example;"
   ]
  },
  {
   "cell_type": "code",
   "execution_count": null,
   "metadata": {
    "collapsed": false
   },
   "outputs": [],
   "source": [
    "import dp4gp_datasets as datasets\n",
    "import dp4gp\n",
    "import GPy\n",
    "import pandas as pd\n",
    "import matplotlib.pyplot as plt\n",
    "import numpy as np\n",
    "%matplotlib inline\n",
    "\n",
    "fishdata = datasets.load_fishlength()\n",
    "\n",
    "X = fishdata[:,1] #age of fishes (days)\n",
    "Y = fishdata[:,3] #length of fishes (inches)\n",
    "#X = X+np.random.randn(X.shape[0])*3.0 #adding some jitter to the dataset for demo purposes\n",
    "plt.plot(X,Y,'o',alpha=0.4,markersize=5)\n",
    "plt.xlabel('Fish Age / days')\n",
    "plt.ylabel('Fish Length / inches')\n"
   ]
  },
  {
   "cell_type": "code",
   "execution_count": null,
   "metadata": {
    "collapsed": false
   },
   "outputs": [],
   "source": [
    "test_inputs = np.arange(0,300,1)\n",
    "pseudo_inputs = np.array([0,120])\n",
    "lengthscales = 50.0\n",
    "sigma = 0.05\n",
    "delta = 0.01\n",
    "eps = 500.0\n",
    "sens = 4.0\n",
    "normal = True\n",
    "\n",
    "test_cov, normal_msense, pseudo_msense, normal_peroutput_msense, pseudo_peroutput_msense, normal_mu, pseudo_mu, K_normal, K_pseudo, normal_covars = dp4gp.get_noise_scale(Y,test_inputs,X,pseudo_inputs,lengthscales,sigma,calc_normal=True)"
   ]
  },
  {
   "cell_type": "markdown",
   "metadata": {},
   "source": [
    "We now have four results,\n",
    "\n",
    "- normal GP\n",
    "- inducing variable GP\n",
    "- normal GP, but with the kernel computed for each test point (i.e. test point specific)\n",
    "- test point specific IV GP\n",
    "\n",
    "The results for the above fish example are as follows;"
   ]
  },
  {
   "cell_type": "code",
   "execution_count": null,
   "metadata": {
    "collapsed": false
   },
   "outputs": [],
   "source": [
    "print(\"Normal GP     %03.3f\" % normal_msense)\n",
    "print(\"IV GP         %3.3f\" % pseudo_msense)\n",
    "print(\"TPS normal GP %3.3f\" % np.mean(normal_peroutput_msense))\n",
    "print(\"TPS IV GP     %3.3f\" % np.mean(pseudo_peroutput_msense))"
   ]
  },
  {
   "cell_type": "markdown",
   "metadata": {},
   "source": [
    "The TPS do far better on average (although it depends on which points you care about! The figure below illustrates how the sensitivity varies. The horizontal line near the top indicates the sensitivity of the IV GP."
   ]
  },
  {
   "cell_type": "code",
   "execution_count": null,
   "metadata": {
    "collapsed": false
   },
   "outputs": [],
   "source": [
    "plt.plot(test_inputs,pseudo_peroutput_msense)\n",
    "plt.plot(test_inputs,normal_peroutput_msense)\n",
    "plt.vlines(X,0,0.03)\n",
    "#plt.hlines(pseudo_msense,0,250)\n",
    "plt.xlabel('Fish Age / days')\n",
    "plt.ylabel('$b(x_*, K^{-1})$')\n",
    "plt.plot(pseudo_inputs,[0.02,0.02],'xb')\n",
    "plt.savefig('fish_cloaking.pdf')"
   ]
  },
  {
   "cell_type": "markdown",
   "metadata": {},
   "source": [
    "The vertical lines along the bottom of the figure indicate where the training data is.\n",
    "\n",
    "Note that the sensitivity increases beyond the last set of data. I assume this is because these test points depend on fewer training data, and so are more easily altered by single training point values. To further demonstrate this we add a new fish of 200 days,"
   ]
  },
  {
   "cell_type": "code",
   "execution_count": null,
   "metadata": {
    "collapsed": false
   },
   "outputs": [],
   "source": [
    "plt.hist(normal_peroutput_msense,np.arange(0.1,0.2,0.001));\n",
    "np.mean(normal_peroutput_msense[(test_inputs>25) & (test_inputs<140)]<0.12)"
   ]
  },
  {
   "cell_type": "code",
   "execution_count": null,
   "metadata": {
    "collapsed": false
   },
   "outputs": [],
   "source": [
    "X = np.hstack([300,X])\n",
    "Y = np.hstack([10,Y])\n",
    "test_cov, normal_msense, pseudo_msense, normal_peroutput_msense, pseudo_peroutput_msense, normal_mu, pseudo_mu, K_normal, K_pseudo, normal_covars = dp4gp.get_noise_scale(Y,test_inputs,X,pseudo_inputs,lengthscales,sigma,calc_normal=True)\n"
   ]
  },
  {
   "cell_type": "code",
   "execution_count": null,
   "metadata": {
    "collapsed": false
   },
   "outputs": [],
   "source": [
    "plt.plot(test_inputs,pseudo_peroutput_msense)\n",
    "plt.plot(test_inputs,normal_peroutput_msense)\n",
    "plt.vlines(X,0,0.1)\n",
    "#plt.hlines(pseudo_msense,0,250)"
   ]
  },
  {
   "cell_type": "code",
   "execution_count": null,
   "metadata": {
    "collapsed": false
   },
   "outputs": [],
   "source": [
    "print(\"Normal GP     %03.3f\" % normal_msense)\n",
    "print(\"IV GP         %3.3f\" % pseudo_msense)\n",
    "print(\"TPS normal GP %3.3f\" % np.mean(normal_peroutput_msense))\n",
    "print(\"TPS IV GP     %3.3f\" % np.mean(pseudo_peroutput_msense))"
   ]
  },
  {
   "cell_type": "markdown",
   "metadata": {},
   "source": [
    "One can see that the sensitivity of the normal GP is greatest around this single outlying training point. The inducing input GP is protected from this as there are no inducing inputs near the training point.\n",
    "\n",
    "This method seems to have many intuitive features;\n",
    "\n",
    " - the sensitivity approaches zero far from the training data (where we return to the GP prior).\n",
    " - conversely, the more training data in a locale, the less the sensitivity too. However, this seems to sometimes be cancelled out by increased sensitivity in the surrounding area, presumably the effect of the gradient of the mean can still be strongly affected by individual training point, as one moves away from a concentration of training data?\n",
    " - we can reduce the sensitivity by placing inducing inputs near the higher concentrations of training points, and away from single outliers. This might explain why the TPS IV GP method above did poorly;\n",
    " \n",
    "To further investigate these points, we add 9 more points and an inducing input, all around 200 days;"
   ]
  },
  {
   "cell_type": "code",
   "execution_count": null,
   "metadata": {
    "collapsed": false
   },
   "outputs": [],
   "source": [
    "X = np.hstack([201,199,198,196,202,204,205,206,208,X])\n",
    "Y = np.hstack([10,12,13,14,15,16,14,13,11,Y])\n",
    "pseudo_inputs = np.array([0,40,80,120,160,200])\n",
    "\n",
    "test_cov, normal_msense, pseudo_msense, normal_peroutput_msense, pseudo_peroutput_msense, normal_mu, pseudo_mu, K_normal, K_pseudo, normal_covars = dp4gp.get_noise_scale(Y,test_inputs,X,pseudo_inputs,lengthscales,sigma,calc_normal=True)\n"
   ]
  },
  {
   "cell_type": "code",
   "execution_count": null,
   "metadata": {
    "collapsed": false
   },
   "outputs": [],
   "source": [
    "plt.plot(test_inputs,pseudo_peroutput_msense)\n",
    "plt.plot(test_inputs,normal_peroutput_msense)\n",
    "plt.vlines(X,0,0.1)\n",
    "#plt.hlines(pseudo_msense,0,250)"
   ]
  },
  {
   "cell_type": "code",
   "execution_count": null,
   "metadata": {
    "collapsed": false
   },
   "outputs": [],
   "source": [
    "pseudo_inputs = np.array([17,42,72,98,125,140,170,200])\n",
    "test_cov, normal_msense, pseudo_msense, normal_peroutput_msense, pseudo_peroutput_msense, normal_mu, pseudo_mu, K_normal, K_pseudo, normal_covars = dp4gp.get_noise_scale(Y,test_inputs,X,pseudo_inputs,lengthscales,sigma,calc_normal=True)\n",
    "plt.plot(test_inputs,pseudo_peroutput_msense)\n",
    "plt.plot(test_inputs,normal_peroutput_msense)\n",
    "plt.vlines(X,0,0.1)\n",
    "#plt.hlines(pseudo_msense,0,250)"
   ]
  },
  {
   "cell_type": "markdown",
   "metadata": {},
   "source": [
    "The inducing variables potentially are useful in situations with lots of outliers, or higher numbers of dimensions."
   ]
  },
  {
   "cell_type": "markdown",
   "metadata": {},
   "source": [
    "### Demo with outputs (fixed noise)"
   ]
  },
  {
   "cell_type": "code",
   "execution_count": null,
   "metadata": {
    "collapsed": false
   },
   "outputs": [],
   "source": [
    "plotid = 1\n",
    "plt.figure(figsize=[10,4])\n",
    "for normal in [True,False]:\n",
    "    plt.subplot(1,2,plotid)\n",
    "    plotid+=1\n",
    "    fishdata = datasets.load_fishlength()\n",
    "\n",
    "    test_inputs = np.arange(0,360,1)\n",
    "    pseudo_inputs = np.array([0,120])\n",
    "    lengthscales = 100.0\n",
    "    sigma = 0.1\n",
    "    delta = 0.01\n",
    "    sens = 4.0\n",
    "\n",
    "    if normal:\n",
    "        eps = 100\n",
    "    else:\n",
    "        eps = 100\n",
    "\n",
    "    print eps\n",
    "    X = fishdata[:,1] #age of fishes (days)\n",
    "    Y = fishdata[:,3] #length of fishes (inches)\n",
    "    plt.plot(X,Y,'o',alpha=0.4,markersize=5)\n",
    "\n",
    "    ymean = np.mean(Y)\n",
    "    ystd = np.std(Y)\n",
    "    Y-=ymean\n",
    "    Y/=ystd\n",
    "\n",
    "    X = X+np.random.randn(X.shape[0])*3.0 #adding some jitter to the dataset for demo purposes\n",
    "    plt.xlabel('Fish Age / days')\n",
    "    plt.ylabel('Fish Length / inches')\n",
    "\n",
    "    m = GPy.models.GPRegression(X[:,None],Y[:,None]-np.mean(Y))\n",
    "    m.kern.lengthscale = lengthscales\n",
    "    m.kern.variance = np.var(Y)\n",
    "    m.Gaussian_noise = sigma**2\n",
    "\n",
    "\n",
    "    test_cov, normal_msense, pseudo_msense, normal_peroutput_msense, pseudo_peroutput_msense, normal_mu, pseudo_mu, K_normal, K_pseudo, normal_covars = dp4gp.get_noise_scale(Y,test_inputs,X,pseudo_inputs,lengthscales,sigma,calc_normal=True)\n",
    "    print \"Pseudo (peroutput) max: %0.2f\" % np.max(pseudo_peroutput_msense)\n",
    "    print \"Normal (peroutput) max: %0.2f\" %  np.max(normal_peroutput_msense)\n",
    "    print \"Pseudo: %0.2f\" % pseudo_msense\n",
    "    print \"Normal: %0.2f\" % normal_msense\n",
    "\n",
    "    if normal:\n",
    "        mu = normal_mu\n",
    "        msense = normal_msense\n",
    "    else:\n",
    "        mu = pseudo_mu\n",
    "        msense = pseudo_msense\n",
    "    plotmu=mu*ystd\n",
    "    plotmu=plotmu+ymean\n",
    "    for it in range(5):\n",
    "\n",
    "        preds = dp4gp.draw_sample(test_cov, test_inputs, mu, msense, sens=sens, delta=delta, eps=eps,verbose=(it==0))\n",
    "        \n",
    "        \n",
    "        preds*=ystd\n",
    "        preds+=ymean\n",
    "\n",
    "        plt.plot(test_inputs, preds[:,None],'-',color='#888888')\n",
    "    plt.plot(test_inputs, plotmu[:,None],'-',color='black')\n",
    "    SE = np.sqrt(np.diag(test_cov)+(msense*sens*np.sqrt(2*np.log(2/delta))/eps)**2)\n",
    "    SE*=ystd\n",
    "    \n",
    "    plt.plot(test_inputs, plotmu[:,None]+SE,'--',color='black')\n",
    "    plt.plot(test_inputs, plotmu[:,None]-SE,'--',color='black')\n",
    "    \n",
    "    SE = np.sqrt((msense*sens*np.sqrt(2*np.log(2/delta))/eps)**2)\n",
    "    SE*=ystd\n",
    "    plt.fill(np.hstack([test_inputs,test_inputs[::-1]]),np.hstack([plotmu+SE,(plotmu-SE)[::-1]]),alpha=0.2,color='black')\n",
    "    #plt.plot(test_inputs, plotmu[:,None]+SE,'--',color='black')\n",
    "    #plt.plot(test_inputs, plotmu[:,None]-SE,'--',color='black')\n",
    "    plt.ylim([0,5])\n",
    "    plt.xlim([0,150])\n",
    "    \n",
    "plt.savefig('fish_normal_vs_pseudo.pdf')"
   ]
  },
  {
   "cell_type": "markdown",
   "metadata": {},
   "source": [
    "### Demo with outputs (noise per test point)"
   ]
  },
  {
   "cell_type": "code",
   "execution_count": null,
   "metadata": {
    "collapsed": false,
    "scrolled": false
   },
   "outputs": [],
   "source": [
    "fishdata = datasets.load_fishlength()\n",
    "plt.figure(figsize=[10,4])\n",
    "test_inputs = np.arange(0,400,1)\n",
    "pseudo_inputs = np.array([0,60,120,180])\n",
    "lengthscales = 50.0\n",
    "sigma = 0.1\n",
    "\n",
    "X = fishdata[:,1] #age of fishes (days)\n",
    "Y = fishdata[:,3] #length of fishes (inches)\n",
    "plt.plot(X,Y,'o',alpha=0.4,markersize=5)\n",
    "\n",
    "ymean = np.mean(Y)\n",
    "ystd = np.std(Y)\n",
    "Y-=ymean\n",
    "Y/=ystd\n",
    "\n",
    "X = X+np.random.randn(X.shape[0])*3.0 #adding some jitter to the dataset for demo purposes\n",
    "plt.xlabel('Fish Age / days')\n",
    "plt.ylabel('Fish Length / inches')\n",
    "\n",
    "m = GPy.models.GPRegression(X[:,None],Y[:,None]-np.mean(Y))\n",
    "m.kern.lengthscale = lengthscales\n",
    "m.kern.variance = np.var(Y)\n",
    "m.Gaussian_noise = sigma**2\n",
    "delta = 0.01\n",
    "eps = 2.0\n",
    "sens = 4.0\n",
    "\n",
    "test_cov, normal_msense, pseudo_msense, normal_peroutput_msense, pseudo_peroutput_msense, normal_mu, pseudo_mu, K_normal, K_pseudo, normal_covars = dp4gp.get_noise_scale(Y,test_inputs,X,pseudo_inputs,lengthscales,sigma,calc_normal=True)\n",
    "\n",
    "#preds = dp4gp.draw_sample(test_cov, test_inputs, normal_mu, pseudo_peroutput_msense, sens=sens, delta=delta, eps=eps)\n",
    "\n",
    "\n",
    "print np.max(pseudo_peroutput_msense)\n",
    "print np.max(normal_peroutput_msense)\n",
    "print pseudo_msense\n",
    "\n",
    "\n",
    "y,var = m.predict(test_inputs[:,None])\n",
    "y*=ystd\n",
    "y+=ymean\n",
    "\n",
    "#plt.plot(test_inputs, y,'-g')\n",
    "#plt.plot(test_inputs, y+np.sqrt(var),'-g')\n",
    "#plt.plot(test_inputs, y-np.sqrt(var),'-g')\n",
    "\n",
    "\n",
    "noise_shape = normal_peroutput_msense[:,None]*sens*np.sqrt(2*np.log(2/delta))/eps\n",
    "\n",
    "for it in range(5):\n",
    "    preds = dp4gp.draw_sample(test_cov, test_inputs, normal_mu, normal_peroutput_msense, sens=sens, delta=delta, eps=eps)\n",
    "    preds*=ystd\n",
    "    preds+=ymean\n",
    "    plt.plot(test_inputs, preds,color='#888888')\n",
    "\n",
    "normal_mu*=ystd\n",
    "normal_mu+=ymean\n",
    "noise_shape*=ystd\n",
    "var*=np.sqrt(ystd)\n",
    "plt.plot(test_inputs, normal_mu[:,None],'k-')\n",
    "#plt.plot(test_inputs, preds[:,None]+noise_shape,'-k');\n",
    "#plt.plot(test_inputs, preds[:,None]-noise_shape,'-k');\n",
    "plt.plot(test_inputs, normal_mu[:,None]+np.sqrt(noise_shape**2+var),'--k'); \n",
    "plt.plot(test_inputs,  normal_mu[:,None]-np.sqrt(noise_shape**2+var),'--k');\n",
    "plt.fill(np.hstack([test_inputs,test_inputs[::-1]])[:,None], np.vstack([normal_mu[:,None]-noise_shape,(normal_mu[:,None]+noise_shape)[::-1]]),color='black',alpha=0.2)\n",
    "#plt.fill(np.hstack([test_inputs,test_inputs[::-1]]),np.hstack([preds+noise_shape,(preds-noise_shape)[::-1]]),alpha=0.2,color='black')\n",
    "#plt.plot(test_inputs, preds[:,None]+np.sqrt(var),'-g'); \n",
    "#plt.plot(test_inputs, preds[:,None]-np.sqrt(var),'-g');\n",
    "plt.ylim([0,5])\n",
    "plt.savefig('fish_demo_cloaking.pdf')\n",
    "\n"
   ]
  },
  {
   "cell_type": "markdown",
   "metadata": {},
   "source": [
    "### Demonstration of why there's such a large noise added to 'ends' of training data\n",
    "\n",
    "I think this happens because the last point can influence the gradient quite a bit, which means that the curve's location can move a lot even with a small change in a data point, it's effectively being magnified by the fulcrum of the data before it."
   ]
  },
  {
   "cell_type": "code",
   "execution_count": null,
   "metadata": {
    "collapsed": false
   },
   "outputs": [],
   "source": [
    "fishdata = datasets.load_fishlength()\n",
    "\n",
    "plt.figure(figsize=[10,4])\n",
    "plt.subplot(1,2,1)\n",
    "test_inputs = np.arange(0,360,1)\n",
    "pseudo_inputs = np.array([0,40,80,120,160])\n",
    "lengthscales = 60.0\n",
    "sigma = 0.2\n",
    "X = fishdata[:,1] #age of fishes (days)\n",
    "Y = fishdata[:,3] #length of fishes (inches)\n",
    "plt.plot(X,Y,'o',alpha=0.4,markersize=5)\n",
    "\n",
    "m = GPy.models.GPRegression(X[:,None],Y[:,None])\n",
    "m.kern.lengthscale = lengthscales\n",
    "m.kern.variance = np.var(Y)\n",
    "m.Gaussian_noise = sigma**2\n",
    "y,var = m.predict(test_inputs[:,None])\n",
    "plt.plot(test_inputs[:,None],y)\n",
    "plt.xlabel('Age / days')\n",
    "\n",
    "Y[-1] -= 2\n",
    "#Y[X==153] -= 1\n",
    "plt.plot([X[-1],X[-1]],[Y[-1],Y[-1]+2],'-k')\n",
    "plt.plot(X,Y,'o',alpha=0.4,markersize=5)\n",
    "\n",
    "m = GPy.models.GPRegression(X[:,None],Y[:,None])\n",
    "m.kern.lengthscale = lengthscales\n",
    "m.kern.variance = np.var(Y)\n",
    "m.Gaussian_noise = sigma**2\n",
    "newy,var = m.predict(test_inputs[:,None])\n",
    "plt.plot(test_inputs[:,None],newy)\n",
    "plt.ylabel('Length / inches')\n",
    "plt.ylim([0,5])\n",
    "print np.max(np.abs(newy-y))\n",
    "\n",
    "fishdata = datasets.load_fishlength()\n",
    "plt.subplot(1,2,2)\n",
    "test_inputs = np.arange(0,360,1)\n",
    "pseudo_inputs = np.array([0,40,80,120,160])\n",
    "lengthscales = 60.0\n",
    "sigma = 0.2\n",
    "X = fishdata[:,1] #age of fishes (days)\n",
    "Y = fishdata[:,3] #length of fishes (inches)\n",
    "plt.plot(X,Y,'o',alpha=0.4,markersize=5)\n",
    "\n",
    "\n",
    "m = GPy.models.GPRegression(X[:,None],Y[:,None])\n",
    "m.kern.lengthscale = lengthscales\n",
    "m.kern.variance = np.var(Y)\n",
    "m.Gaussian_noise = sigma**2\n",
    "y,var = m.predict(test_inputs[:,None])\n",
    "plt.plot(test_inputs[:,None],y)\n",
    "\n",
    "\n",
    "Y[18] -= 2\n",
    "#Y[X==X[18]] -= 1\n",
    "plt.plot([X[18],X[18]],[Y[18],Y[18]+2],'-k')\n",
    "plt.plot(X,Y,'o',alpha=0.4,markersize=5)\n",
    "\n",
    "m = GPy.models.GPRegression(X[:,None],Y[:,None])\n",
    "m.kern.lengthscale = lengthscales\n",
    "m.kern.variance = np.var(Y)\n",
    "m.Gaussian_noise = sigma**2\n",
    "newy,var = m.predict(test_inputs[:,None])\n",
    "plt.plot(test_inputs[:,None],newy)\n",
    "plt.xlabel('Age / days')\n",
    "plt.ylim([0,5])\n",
    "print np.max(np.abs(newy-y))\n",
    "plt.savefig('fish_fulcrum.pdf')"
   ]
  },
  {
   "cell_type": "markdown",
   "metadata": {},
   "source": [
    "We can see that moving a point near the end of the dataset can cause a much larger change in the posterior mean (maximum change is 4.4 times larger)."
   ]
  },
  {
   "cell_type": "code",
   "execution_count": null,
   "metadata": {
    "collapsed": false
   },
   "outputs": [],
   "source": [
    "Y[X==153]"
   ]
  },
  {
   "cell_type": "markdown",
   "metadata": {
    "collapsed": true
   },
   "source": [
    "# Correct Application of DP\n"
   ]
  },
  {
   "cell_type": "code",
   "execution_count": 22,
   "metadata": {
    "collapsed": false
   },
   "outputs": [
    {
     "name": "stdout",
     "output_type": "stream",
     "text": [
      "68.3603301672\n"
     ]
    },
    {
     "data": {
      "text/plain": [
       "<matplotlib.text.Text at 0x7fc8e58b6c50>"
      ]
     },
     "execution_count": 22,
     "metadata": {},
     "output_type": "execute_result"
    },
    {
     "data": {
      "image/png": "[encoded data removed]",
      "text/plain": [
       "<matplotlib.figure.Figure at 0x7fc8e4269e90>"
      ]
     },
     "metadata": {},
     "output_type": "display_data"
    }
   ],
   "source": [
    "import dp4gp_datasets as datasets\n",
    "import dp4gp\n",
    "import GPy\n",
    "import pandas as pd\n",
    "import matplotlib.pyplot as plt\n",
    "import numpy as np\n",
    "%matplotlib inline\n",
    "\n",
    "fishdata = datasets.load_fishlength()\n",
    "\n",
    "X = fishdata[:,1] #age of fishes (days)\n",
    "Y = fishdata[:,3] #length of fishes (inches)\n",
    "Y[-1]-=400\n",
    "print np.std(Y)\n",
    "#X = X+np.random.randn(X.shape[0])*3.0 #adding some jitter to the dataset for demo purposes\n",
    "plt.plot(X,Y,'o',alpha=0.4,markersize=5)\n",
    "plt.xlabel('Fish Age / days')\n",
    "plt.ylabel('Fish Length / inches')\n"
   ]
  },
  {
   "cell_type": "code",
   "execution_count": 23,
   "metadata": {
    "collapsed": false
   },
   "outputs": [],
   "source": [
    "test_inputs = np.arange(0,300,1)\n",
    "pseudo_inputs = np.array([0,120])\n",
    "lengthscales = 80.0\n",
    "sigma = 0.1\n",
    "delta = 0.01\n",
    "eps = 1.0\n",
    "sens = 4.0\n",
    "normal = True"
   ]
  },
  {
   "cell_type": "code",
   "execution_count": 24,
   "metadata": {
    "collapsed": false
   },
   "outputs": [],
   "source": [
    "test_inputs = np.hstack([test_inputs,X])"
   ]
  },
  {
   "cell_type": "code",
   "execution_count": 25,
   "metadata": {
    "collapsed": false
   },
   "outputs": [
    {
     "name": "stdout",
     "output_type": "stream",
     "text": [
      "Calculating covariance between test inputs\n",
      "Minimum eigen value: -0.000\n",
      "Maximum K** 1.00\n",
      "Calculating covariance between training inputs and test inputs\n",
      "Maximum k* 1.00\n",
      "Calculating K_NM\n",
      "Calculating K_MM\n",
      "Calculating K_NN diagonals\n",
      "Calculating K_star\n",
      "Maximum k* 1.00\n",
      "Calculating K_NN\n",
      "Calculating lambda\n",
      "1.09523430817\n",
      "Calculating covariance between test inputs\n",
      "Minimum eigen value: -0.000\n",
      "Maximum K** 0.05\n",
      "Calculating covariance between training inputs and test inputs\n",
      "Maximum k* 0.01\n",
      "Calculating K_NM\n",
      "Calculating K_MM\n",
      "Calculating K_NN diagonals\n",
      "Calculating K_star\n",
      "Maximum k* 0.01\n",
      "Calculating K_NN\n",
      "Calculating lambda\n"
     ]
    }
   ],
   "source": [
    "test_cov, normal_msense, pseudo_msense, normal_peroutput_msense, pseudo_peroutput_msense, normal_mu, pseudo_mu, K_normal, K_pseudo, normal_covars = dp4gp.get_noise_scale(Y,test_inputs,X,pseudo_inputs,lengthscales,sigma,calc_normal=True)\n",
    "scalings = {}\n",
    "print np.max(normal_peroutput_msense)\n",
    "normal_peroutput_msense /= 5.0 #np.max(normal_peroutput_msense)\n",
    "for i,o in zip(test_inputs,normal_peroutput_msense):\n",
    "    scalings[i] = o\n",
    "new_test_cov, new_normal_msense, new_pseudo_msense, new_normal_peroutput_msense, new_pseudo_peroutput_msense, new_normal_mu, new_pseudo_mu, new_K_normal, new_K_pseudo, new_normal_covars = dp4gp.get_noise_scale(Y,test_inputs,X,pseudo_inputs,lengthscales,sigma,scale=scalings,calc_normal=True)"
   ]
  },
  {
   "cell_type": "code",
   "execution_count": 26,
   "metadata": {
    "collapsed": false
   },
   "outputs": [
    {
     "name": "stdout",
     "output_type": "stream",
     "text": [
      "108.929782446\n",
      "68.3603301672\n"
     ]
    }
   ],
   "source": [
    "print normal_msense\n",
    "print np.std(Y)"
   ]
  },
  {
   "cell_type": "code",
   "execution_count": 21,
   "metadata": {
    "collapsed": false
   },
   "outputs": [
    {
     "name": "stdout",
     "output_type": "stream",
     "text": [
      "108.929782446\n",
      "1.37046521496\n"
     ]
    }
   ],
   "source": [
    "print normal_msense\n",
    "print np.std(Y)"
   ]
  },
  {
   "cell_type": "code",
   "execution_count": 10,
   "metadata": {
    "collapsed": false
   },
   "outputs": [
    {
     "name": "stdout",
     "output_type": "stream",
     "text": [
      "0.37451827692\n"
     ]
    }
   ],
   "source": [
    "msense = np.max(new_normal_peroutput_msense)\n",
    "print msense"
   ]
  },
  {
   "cell_type": "code",
   "execution_count": null,
   "metadata": {
    "collapsed": false
   },
   "outputs": [],
   "source": [
    "Ntests = 300\n",
    "for it in range(10):\n",
    "    samp = dp4gp.draw_sample(new_test_cov, test_inputs, new_normal_mu, msense, sens, delta, eps)\n",
    "    plt.plot(test_inputs[0:Ntests],samp[0:Ntests],'k-',alpha=0.3)\n",
    "samp = dp4gp.draw_sample(new_test_cov, test_inputs, new_normal_mu, msense, sens, delta, 50000)\n",
    "plt.plot(test_inputs[0:Ntests],samp[0:Ntests],'k-',lw=2)\n",
    "\n",
    "noise_shape = np.sqrt(np.diag(new_test_cov))*sens*msense*np.sqrt(2*np.log(2/delta))/eps\n",
    "#noise_shape = normal_peroutput_msense[:,None]*sens*np.sqrt(2*np.log(2/delta))/eps\n",
    "covs = np.diag(new_normal_covars)[0:Ntests,None]+noise_shape[0:Ntests,None]**2\n",
    "\n",
    "errorfilly = samp[0:Ntests,None]+np.sqrt(covs)\n",
    "errorfilly = np.vstack([errorfilly[::-1],samp[0:Ntests,None]-np.sqrt(covs)])\n",
    "errorfillx = test_inputs[0:Ntests]\n",
    "errorfillx = np.hstack([errorfillx[::-1],test_inputs[0:Ntests]])\n",
    "plt.fill(errorfillx,errorfilly,'k',alpha=0.2)\n",
    "plt.plot(test_inputs[0:Ntests],samp[0:Ntests] + np.sqrt(np.diag(new_normal_covars))[0:Ntests],'k--')\n",
    "plt.plot(test_inputs[0:Ntests],samp[0:Ntests] - np.sqrt(np.diag(new_normal_covars))[0:Ntests],'k--')\n",
    "\n",
    "plt.plot(X,Y,'o',alpha=0.4,markersize=5)\n",
    "plt.ylim([0,5])\n",
    "plt.xlabel('Fish Age / days')\n",
    "plt.ylabel('Fish Length / inches')\n",
    "plt.savefig('funky_kernel.pdf')\n"
   ]
  },
  {
   "cell_type": "code",
   "execution_count": null,
   "metadata": {
    "collapsed": false
   },
   "outputs": [],
   "source": [
    "msense"
   ]
  },
  {
   "cell_type": "code",
   "execution_count": null,
   "metadata": {
    "collapsed": false
   },
   "outputs": [],
   "source": [
    "new_normal_msense"
   ]
  },
  {
   "cell_type": "code",
   "execution_count": null,
   "metadata": {
    "collapsed": false
   },
   "outputs": [],
   "source": [
    "plt.plot(test_inputs[0:300],new_normal_peroutput_msense[0:300],'k-',label='New cloak')\n",
    "plt.plot(test_inputs[0:300],normal_peroutput_msense[0:300],'b-',label='Old cloak')\n",
    "plt.legend(loc='upper left')"
   ]
  },
  {
   "cell_type": "code",
   "execution_count": null,
   "metadata": {
    "collapsed": false
   },
   "outputs": [],
   "source": [
    "plt.plot(test_inputs[0:300],np.diag(test_cov)[0:300]);\n",
    "plt.plot(test_inputs[0:300],np.diag(new_test_cov)[0:300],'--k');"
   ]
  },
  {
   "cell_type": "markdown",
   "metadata": {},
   "source": [
    "### What happens if we repeat this?!?!?"
   ]
  },
  {
   "cell_type": "code",
   "execution_count": null,
   "metadata": {
    "collapsed": false
   },
   "outputs": [],
   "source": [
    "test_cov, normal_msense, pseudo_msense, normal_peroutput_msense, pseudo_peroutput_msense, normal_mu, pseudo_mu, K_normal, K_pseudo, normal_covars = dp4gp.get_noise_scale(Y,test_inputs,X,pseudo_inputs,lengthscales,sigma,calc_normal=True)\n",
    "\n",
    "for it in range(5):\n",
    "    plt.subplot(2,1,1)\n",
    "    plt.plot(test_inputs[0:300],np.diag(test_cov)[0:300],label='it %d' % it);\n",
    "    plt.subplot(2,1,2)    \n",
    "    plt.plot(test_inputs[0:300],normal_peroutput_msense[0:300],label='it %d' % it)\n",
    "    scalings = {}\n",
    "    for i,o in zip(test_inputs,normal_peroutput_msense):\n",
    "        scalings[i] = o\n",
    "    test_cov, normal_msense, pseudo_msense, normal_peroutput_msense, pseudo_peroutput_msense, normal_mu, pseudo_mu, K_normal, K_pseudo, normal_covars = dp4gp.get_noise_scale(Y,test_inputs,X,pseudo_inputs,lengthscales,sigma,scale=scalings,calc_normal=True)\n",
    "plt.subplot(2,1,1)\n",
    "plt.legend()\n",
    "plt.ylim([0,1.1])\n",
    "\n",
    "plt.subplot(2,1,2)\n",
    "plt.legend()"
   ]
  },
  {
   "cell_type": "code",
   "execution_count": null,
   "metadata": {
    "collapsed": false
   },
   "outputs": [],
   "source": [
    "(np.sqrt(np.diag(test_cov))[0:300]*sens*np.sqrt(2*np.log(2/delta))/eps).shape"
   ]
  },
  {
   "cell_type": "code",
   "execution_count": null,
   "metadata": {
    "collapsed": false
   },
   "outputs": [],
   "source": [
    "test_cov, normal_msense, pseudo_msense, normal_peroutput_msense, pseudo_peroutput_msense, normal_mu, pseudo_mu, K_normal, K_pseudo, normal_covars = dp4gp.get_noise_scale(Y,test_inputs,X,pseudo_inputs,lengthscales,sigma,calc_normal=True)\n",
    "plt.figure(figsize=[5,16])\n",
    "for it in range(6):\n",
    "    plt.subplot(6,1,it+1)\n",
    "    msense = np.max(normal_peroutput_msense)\n",
    "    print msense\n",
    "    for sampits in range(5):\n",
    "        samp = dp4gp.draw_sample(test_cov, test_inputs, normal_mu, msense, sens, delta, eps)\n",
    "        plt.plot(test_inputs[0:300],samp[0:300],'k-',alpha=0.2)\n",
    "    samp = dp4gp.draw_sample(test_cov, test_inputs, normal_mu, msense, sens, delta, 50000)\n",
    "    plt.plot(test_inputs[0:300],samp[0:300],'k-',lw=3)\n",
    "    noise_shape = np.sqrt(np.diag(test_cov))*sens*msense*np.sqrt(2*np.log(2/delta))/eps\n",
    "    plt.plot(test_inputs[0:300],samp[0:300]+np.sqrt(np.diag(normal_covars))[0:300],'b-',lw=1)    \n",
    "    plt.plot(test_inputs[0:300],samp[0:300]-np.sqrt(np.diag(normal_covars))[0:300],'b-',lw=1)    \n",
    "    plt.plot(test_inputs[0:300],samp[0:300,None]+noise_shape[0:300,None],'k-',lw=1)\n",
    "    plt.plot(test_inputs[0:300],samp[0:300,None]-noise_shape[0:300,None],'k-',lw=1)\n",
    "    scalings = {}\n",
    "    normal_peroutput_msense /= np.max(normal_peroutput_msense)\n",
    "    for i,o in zip(test_inputs,normal_peroutput_msense):\n",
    "        scalings[i] = o\n",
    "    test_cov, normal_msense, pseudo_msense, normal_peroutput_msense, pseudo_peroutput_msense, normal_mu, pseudo_mu, K_normal, K_pseudo, normal_covars = dp4gp.get_noise_scale(Y,test_inputs,X,pseudo_inputs,lengthscales,sigma,scale=scalings,calc_normal=True)\n",
    "    \n",
    "    plt.plot(X,Y,'o',alpha=0.4,markersize=5)\n",
    "    plt.ylim([0,5])\n",
    "    if it==4:\n",
    "        plt.xlabel('Fish Age / days')\n",
    "    plt.ylabel('Fish Length / inches')\n",
    "plt.savefig('iterative_application.pdf')"
   ]
  },
  {
   "cell_type": "code",
   "execution_count": null,
   "metadata": {
    "collapsed": false
   },
   "outputs": [],
   "source": []
  },
  {
   "cell_type": "code",
   "execution_count": null,
   "metadata": {
    "collapsed": false
   },
   "outputs": [],
   "source": [
    "plt.plot(normal_peroutput_msense[0:300]/np.max(normal_peroutput_msense[0:300]))\n",
    "plt.title('Weird cloaking function after 6 iterations')\n",
    "plt.xlabel('Age / days')\n",
    "plt.ylabel('Cloaking scale ($\\propto$ sensitivity)')\n",
    "plt.savefig('weird.pdf')"
   ]
  },
  {
   "cell_type": "code",
   "execution_count": null,
   "metadata": {
    "collapsed": true
   },
   "outputs": [],
   "source": []
  }
 ],
 "metadata": {
  "kernelspec": {
   "display_name": "Python 2",
   "language": "python",
   "name": "python2"
  },
  "language_info": {
   "codemirror_mode": {
    "name": "ipython",
    "version": 2
   },
   "file_extension": ".py",
   "mimetype": "text/x-python",
   "name": "python",
   "nbconvert_exporter": "python",
   "pygments_lexer": "ipython2",
   "version": "2.7.12"
  }
 },
 "nbformat": 4,
 "nbformat_minor": 0
}
