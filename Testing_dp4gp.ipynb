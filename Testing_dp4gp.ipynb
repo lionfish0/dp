{
 "cells": [
  {
   "cell_type": "markdown",
   "metadata": {},
   "source": [
    "# Testing\n",
    "\n",
    "- Check DP bounds not exceeded (move a point and look for its detection probability)\n",
    "- Check changing standard deviation/outputs of training data doesn't affect anything\n",
    "- Check scaling lengthscale and input locations simultaneously doesn't affect anything"
   ]
  },
  {
   "cell_type": "code",
   "execution_count": 339,
   "metadata": {
    "collapsed": false
   },
   "outputs": [
    {
     "name": "stdout",
     "output_type": "stream",
     "text": [
      "Calculating covariance between test inputs\n",
      "Minimum eigen value: 0.000\n",
      "Maximum K** 1.00\n",
      "Calculating covariance between training inputs and test inputs\n",
      "Maximum k* 1.00\n",
      "Calculating K_NM\n",
      "Calculating K_MM\n",
      "Calculating K_NN diagonals\n",
      "Calculating K_star\n",
      "Maximum k* 1.00\n",
      "Calculating K_NN\n",
      "Calculating lambda\n",
      "Calculating covariance between test inputs\n",
      "Minimum eigen value: 0.000\n",
      "Maximum K** 0.68\n",
      "Calculating covariance between training inputs and test inputs\n",
      "Maximum k* 0.55\n",
      "Calculating K_NM\n",
      "Calculating K_MM\n",
      "Calculating K_NN diagonals\n",
      "Calculating K_star\n",
      "Maximum k* 0.55\n",
      "Calculating K_NN\n",
      "Calculating lambda\n",
      "Calculating covariance between test inputs\n",
      "Minimum eigen value: 0.000\n",
      "Maximum K** 1.00\n",
      "Calculating covariance between training inputs and test inputs\n",
      "Maximum k* 1.00\n",
      "Calculating K_NM\n",
      "Calculating K_MM\n",
      "Calculating K_NN diagonals\n",
      "Calculating K_star\n",
      "Maximum k* 1.00\n",
      "Calculating K_NN\n",
      "Calculating lambda\n",
      "Calculating covariance between test inputs\n",
      "Minimum eigen value: 0.000\n",
      "Maximum K** 0.68\n",
      "Calculating covariance between training inputs and test inputs\n",
      "Maximum k* 0.55\n",
      "Calculating K_NM\n",
      "Calculating K_MM\n",
      "Calculating K_NN diagonals\n",
      "Calculating K_star\n",
      "Maximum k* 0.55\n",
      "Calculating K_NN\n",
      "Calculating lambda\n"
     ]
    }
   ],
   "source": [
    "import matplotlib.pyplot as plt\n",
    "import numpy as np\n",
    "%matplotlib inline\n",
    "import dp4gp\n",
    "\n",
    "Y = np.array([0.0,1.0])\n",
    "test_inputs = np.array([1.0,3.0])\n",
    "X = np.array([0.0,2.0])\n",
    "pseudo_inputs = np.array([0.0,2.0])\n",
    "lengthscales = 20\n",
    "sigma = 0.1\n",
    "calc_normal=True\n",
    "sens = 1.0\n",
    "delta = 0.01\n",
    "eps = 1.0\n",
    "\n",
    "def get_peroutput_samples(Y,test_inputs,X,pseudo_inputs,lengthscales,sigma,calc_normal,sens,delta,eps,Nsamples):\n",
    "    test_inputs = np.hstack([test_inputs,X])\n",
    "    test_cov, normal_msense, pseudo_msense, normal_peroutput_msense, pseudo_peroutput_msense, normal_mu, pseudo_mu, K_normal, K_pseudo, normal_covars = dp4gp.get_noise_scale(Y,test_inputs,X,pseudo_inputs,lengthscales,sigma,calc_normal=True)\n",
    "    scalings = {}\n",
    "    #normal_peroutput_msense /= 5.0 #np.max(normal_peroutput_msense)\n",
    "    for i,o in zip(test_inputs,normal_peroutput_msense):\n",
    "        scalings[i] = o\n",
    "    new_test_cov, new_normal_msense, new_pseudo_msense, new_normal_peroutput_msense, new_pseudo_peroutput_msense, new_normal_mu, new_pseudo_mu, new_K_normal, new_K_pseudo, new_normal_covars = dp4gp.get_noise_scale(Y,test_inputs,X,pseudo_inputs,lengthscales,sigma,scale=scalings,calc_normal=True)\n",
    "    msense = np.max(new_normal_peroutput_msense)\n",
    "    samps = []\n",
    "    for it in range(Nsamples):\n",
    "        samp = dp4gp.draw_sample(new_test_cov, test_inputs, new_normal_mu, msense, sens, delta, eps)\n",
    "        samps.append(samp)\n",
    "    return np.array(samps)\n",
    "\n",
    "def get_normal_samples(Y,test_inputs,X,pseudo_inputs,lengthscales,sigma,calc_normal,sens,delta,eps,Nsamples):\n",
    "    test_inputs = np.hstack([test_inputs,X])\n",
    "    test_cov, normal_msense, pseudo_msense, normal_peroutput_msense, pseudo_peroutput_msense, normal_mu, pseudo_mu, K_normal, K_pseudo, normal_covars = dp4gp.get_noise_scale(Y,test_inputs,X,pseudo_inputs,lengthscales,sigma,calc_normal=True)\n",
    "    msense = np.max(normal_peroutput_msense)\n",
    "    samps = []\n",
    "    for it in range(Nsamples):\n",
    "        samp = dp4gp.draw_sample(test_cov, test_inputs, normal_mu, msense, sens, delta, eps)\n",
    "        samps.append(samp)\n",
    "    return np.array(samps)\n",
    " \n",
    "fn = get_peroutput_samples #get_normal_samples #\n",
    "ymean = 1.5\n",
    "ystd = 1.0\n",
    "Ytransformed = dp4gp.transform(Y.copy(),ymean,ystd)\n",
    "sigmatransformed = sigma / ystd\n",
    "Nsamples = 100000\n",
    "samples = fn(Ytransformed,test_inputs,X,pseudo_inputs,lengthscales,sigmatransformed,calc_normal,sens,delta,eps,Nsamples)\n",
    "samples = dp4gp.untransform(samples.copy(),ymean,ystd)\n",
    "\n",
    "Y[1]+=1.0\n",
    "Ytransformed = dp4gp.transform(Y.copy(),ymean,ystd)\n",
    "sigmatransformed = sigma / ystd\n",
    "samples_prime = fn(Ytransformed,test_inputs,X,pseudo_inputs,lengthscales,sigmatransformed,calc_normal,sens,delta,eps,Nsamples)\n",
    "samples_prime = dp4gp.untransform(samples_prime.copy(),ymean,ystd)"
   ]
  },
  {
   "cell_type": "code",
   "execution_count": 333,
   "metadata": {
    "collapsed": false
   },
   "outputs": [
    {
     "data": {
      "text/plain": [
       "1.0"
      ]
     },
     "execution_count": 333,
     "metadata": {},
     "output_type": "execute_result"
    }
   ],
   "source": [
    "np.std(Y)"
   ]
  },
  {
   "cell_type": "code",
   "execution_count": 334,
   "metadata": {
    "collapsed": false
   },
   "outputs": [
    {
     "data": {
      "text/plain": [
       "array([ 1.,  3.,  0.,  2.])"
      ]
     },
     "execution_count": 334,
     "metadata": {},
     "output_type": "execute_result"
    }
   ],
   "source": [
    "np.hstack([test_inputs,X])"
   ]
  },
  {
   "cell_type": "code",
   "execution_count": 306,
   "metadata": {
    "collapsed": false
   },
   "outputs": [
    {
     "data": {
      "image/png": "[encoded data removed]",
      "text/plain": [
       "<matplotlib.figure.Figure at 0x7f2174214710>"
      ]
     },
     "metadata": {},
     "output_type": "display_data"
    }
   ],
   "source": [
    "plt.plot(np.hstack([test_inputs,X]),samples.T,'.k',markersize=10,alpha=0.1);\n",
    "plt.plot(np.hstack([test_inputs,X])+0.2,samples_prime.T,'.b',markersize=10,alpha=0.1);"
   ]
  },
  {
   "cell_type": "code",
   "execution_count": 346,
   "metadata": {
    "collapsed": false
   },
   "outputs": [
    {
     "data": {
      "text/plain": [
       "array([-0.3843225 , -0.85827385, -0.42161916, -0.60151858])"
      ]
     },
     "execution_count": 346,
     "metadata": {},
     "output_type": "execute_result"
    }
   ],
   "source": [
    "np.mean(samples,0) - np.mean(samples_prime,0)"
   ]
  },
  {
   "cell_type": "markdown",
   "metadata": {},
   "source": [
    "In the plot you can see that more noise has been added to the locations where the means differ more."
   ]
  },
  {
   "cell_type": "code",
   "execution_count": 341,
   "metadata": {
    "collapsed": false
   },
   "outputs": [
    {
     "data": {
      "text/plain": [
       "<matplotlib.figure.Figure at 0x7f214e138210>"
      ]
     },
     "metadata": {},
     "output_type": "display_data"
    }
   ],
   "source": [
    "plt.figure(figsize=[12,12])\n",
    "from scipy.stats import multivariate_normal\n",
    "stepsize = 0.1\n",
    "x, y = np.mgrid[-10:10:stepsize, -10:10:stepsize]\n",
    "pos = np.empty(x.shape + (2,))\n",
    "pos[:, :, 0] = x; pos[:, :, 1] = y\n",
    "rv_sample = multivariate_normal(np.mean(samples,0)[1], np.cov(samples.T)[1,1])\n",
    "#plt.contourf(x, y, rv_sample.pdf(pos))\n",
    "#plt.axis('equal')\n",
    "rv_sample_prime = multivariate_normal(np.mean(samples_prime,0)[1], np.cov(samples_prime.T)[1,1])\n",
    "#plt.contour(x, y, rv_sample_prime.pdf(pos))\n",
    "#plt.axis('equal')"
   ]
  },
  {
   "cell_type": "code",
   "execution_count": 342,
   "metadata": {
    "collapsed": false
   },
   "outputs": [
    {
     "name": "stdout",
     "output_type": "stream",
     "text": [
      "2.64986651682\n",
      "0.99049535058\n",
      "2.71828182846\n"
     ]
    }
   ],
   "source": [
    "stepsize = 0.0001\n",
    "p = rv_sample.pdf(np.arange(-30,30,stepsize))\n",
    "q = rv_sample_prime.pdf(np.arange(-30,30,stepsize))\n",
    "threshold = 0.0033\n",
    "#threshold = 0.0027\n",
    "inc = (p>threshold) & (q>threshold)\n",
    "print np.max(p[inc]/q[inc])\n",
    "print np.sum(p[inc])*stepsize**1\n",
    "print np.exp(eps)"
   ]
  },
  {
   "cell_type": "code",
   "execution_count": 343,
   "metadata": {
    "collapsed": false
   },
   "outputs": [
    {
     "data": {
      "text/plain": [
       "[<matplotlib.lines.Line2D at 0x7f21729d2790>]"
      ]
     },
     "execution_count": 343,
     "metadata": {},
     "output_type": "execute_result"
    },
    {
     "data": {
      "image/png": "[encoded data removed]",
      "text/plain": [
       "<matplotlib.figure.Figure at 0x7f21583ed3d0>"
      ]
     },
     "metadata": {},
     "output_type": "display_data"
    }
   ],
   "source": [
    "plt.plot(p[inc])\n",
    "plt.plot(q[inc])"
   ]
  },
  {
   "cell_type": "markdown",
   "metadata": {},
   "source": [
    "Can we use logic such as:\n",
    " - we can have an arbitrary number of test points, so DP should be assured independently for each one.\n",
    " - but combining them might help, but we just test the one closest to the training point being adjusted."
   ]
  },
  {
   "cell_type": "code",
   "execution_count": null,
   "metadata": {
    "collapsed": true
   },
   "outputs": [],
   "source": []
  }
 ],
 "metadata": {
  "kernelspec": {
   "display_name": "Python 2",
   "language": "python",
   "name": "python2"
  },
  "language_info": {
   "codemirror_mode": {
    "name": "ipython",
    "version": 2
   },
   "file_extension": ".py",
   "mimetype": "text/x-python",
   "name": "python",
   "nbconvert_exporter": "python",
   "pygments_lexer": "ipython2",
   "version": "2.7.12"
  }
 },
 "nbformat": 4,
 "nbformat_minor": 0
}
