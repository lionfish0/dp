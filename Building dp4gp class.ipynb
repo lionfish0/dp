{
 "cells": [
  {
   "cell_type": "code",
   "execution_count": null,
   "metadata": {
    "collapsed": false
   },
   "outputs": [],
   "source": [
    "import numpy as np\n",
    "import GPy"
   ]
  },
  {
   "cell_type": "code",
   "execution_count": 294,
   "metadata": {
    "collapsed": false
   },
   "outputs": [],
   "source": [
    "# Methods for combining differential privacy with Gaussian Processes\n",
    "\n",
    "import GPy\n",
    "from sklearn.metrics import mean_squared_error\n",
    "import numpy as np\n",
    "import sys\n",
    "import scipy\n",
    "from scipy.stats import multivariate_normal\n",
    "from scipy.optimize import minimize\n",
    "\n",
    "class DPGP(object):\n",
    "    \"\"\"(epsilon,delta)-Differentially Private Gaussian Process predictions\"\"\"\n",
    "    \n",
    "    def __init__(self,model,sens,epsilon,delta):\n",
    "        \"\"\"\n",
    "        Parameters:\n",
    "            model = Pass a GPy model object\n",
    "            sens = data sensitivity (how much can one output value vary due to one person\n",
    "            epsilon = epsilon (DP parameter)\n",
    "            delta = delta (DP parameter) [probability of providing DP]\n",
    "            \n",
    "        \"\"\"\n",
    "        self.model = model\n",
    "        self.sens = sens\n",
    "        self.epsilon = epsilon\n",
    "        self.delta = delta\n",
    "    \n",
    "    def predict(self,Xtest):\n",
    "        pass\n",
    "    \n",
    "class DPGP_prior(DPGP):\n",
    "    \"\"\"\n",
    "    DP provided by adding a sample from the prior\n",
    "    \"\"\"\n",
    "    \n",
    "    def __init__(self,model,sens,epsilon,delta):      \n",
    "        super(DPGP_prior, self).__init__(model,sens,epsilon,delta)\n",
    "        self.calc_invCov()\n",
    "        \n",
    "    def calc_msense(self,A):\n",
    "        \"\"\"\n",
    "        originally returned the infinity norm*, but we've developed an improved value from\n",
    "        this norm which only cares about values of the same sign (it is assumed that\n",
    "        those of the opposite sign will work to reduce the sensitivity). We'll call\n",
    "        this the matrix_sensitivity or msense\n",
    "        * np.max(np.sum(np.abs(A),1))\n",
    "        \"\"\"\n",
    "        v1 = np.max(np.abs(np.sum(A.copy().clip(min=0),1)))\n",
    "        v2 = np.max(np.abs(np.sum((-A.copy()).clip(min=0),1)))\n",
    "        return np.max([v1,v2])\n",
    "    \n",
    "    def calc_invCov(self):\n",
    "        \"\"\"\n",
    "        TODO\n",
    "        \"\"\"\n",
    "        sigmasqr = self.model.Gaussian_noise.variance[0]\n",
    "        K_NN_diags = self.model.kern.Kdiag(self.model.X)\n",
    "        K_NN = self.model.kern.K(self.model.X)\n",
    "        invCov = np.linalg.inv(K_NN+sigmasqr*np.eye(K_NN.shape[0]))\n",
    "        self.invCov = invCov\n",
    "\n",
    "    def draw_cov_noise_samples(self,test_cov,msense,N=1):        \n",
    "        \"\"\"\n",
    "        Produce differentially private noise for this covariance matrix\n",
    "        \"\"\"\n",
    "        G = np.random.multivariate_normal(np.zeros(len(Xtest)),test_cov,N)\n",
    "        noise = G*sens*np.sqrt(2*np.log(2/delta))/self.epsilon        \n",
    "        noise = noise * msense\n",
    "        return np.array(noise)\n",
    "\n",
    "    def draw_prediction_samples(self,Xtest,N=1):\n",
    "        pass #Throw exception (need to inherit from this class to implement this)\n",
    "    \n",
    "    def plot(self):\n",
    "        pass\n",
    "    \n",
    "class DPGP_normal_prior(DPGP_prior):\n",
    "    def draw_noise_samples(self,Xtest,N=1):\n",
    "        \"\"\"\n",
    "        For a given set of test points, find DP noise samples for each\n",
    "        \"\"\"\n",
    "        test_cov = self.model.kern.K(Xtest,Xtest)\n",
    "        msense = self.calc_msense(self.invCov)\n",
    "        return self.draw_cov_noise_samples(test_cov,msense,N)\n",
    "    \n",
    "    def draw_prediction_samples(self,Xtest,N=1):\n",
    "        mean, covar = m.predict(Xtest)\n",
    "        noise = dpgp.draw_noise_samples(Xtest,N).T\n",
    "        return mean + noise    \n",
    "    \n",
    "class DPGP_pseudo_prior(DPGP_prior):\n",
    "    def draw_noise_samples(self,Xtest,N=1):\n",
    "        \"\"\"\n",
    "        For a given set of test points, find DP noise samples for each\n",
    "        \"\"\"\n",
    "        test_cov = self.model.kern.K(Xtest,Xtest)\n",
    "        sigmasqr = self.model.Gaussian_noise.variance[0]\n",
    "        print sigmasqr\n",
    "        K_NN_diags = self.model.kern.Kdiag(self.model.X)\n",
    "        K_NN = self.model.kern.K(self.model.X)\n",
    "        \n",
    "        K_star = self.model.kern.K(Xtest,self.model.Z.values)\n",
    "        K_NM = self.model.kern.K(self.model.X,self.model.Z.values)\n",
    "        K_MM = self.model.kern.K(self.model.Z.values)\n",
    "        invK_MM = np.linalg.inv(K_MM)\n",
    "        \n",
    "        #lambda values are the diagonal of the training input covariances minus \n",
    "        #(cov of training+pseudo).(inv cov of pseudo).(transpose of cov of training+pseudo)\n",
    "        lamb = np.zeros(len(self.model.X))\n",
    "        for i,t_in in enumerate(self.model.X):\n",
    "            lamb[i] = K_NN_diags[i] - np.dot(np.dot(K_NM[i,:].T,invK_MM),K_NM[i,:])\n",
    "\n",
    "        #this finds (\\Lambda + \\sigma^2 I)^{-1}\n",
    "        diag = 1.0/(lamb + sigmasqr) #diagonal values\n",
    "\n",
    "        #rewritten to be considerably less memory intensive (and make it a little quicker)\n",
    "        Q = K_MM + np.dot(K_NM.T * diag,K_NM)\n",
    "\n",
    "        #find the mean at each test point\n",
    "        pseudo_mu = np.dot(     np.dot(np.dot(K_star, np.linalg.inv(Q)),K_NM.T) *  diag  ,y)\n",
    "        #un-normalise our estimates of the mean (one using the pseudo inputs, and one using normal GP regression)\n",
    "\n",
    "        #find the covariance for the two methods (pseudo and normal)\n",
    "        #K_pseudoInv is the matrix in: mu = k_* K_pseudoInv y\n",
    "        #i.e. it does the job of K^-1 for the inducing inputs case\n",
    "        K_pseudoInv = np.dot(np.linalg.inv(Q),K_NM.T) * diag\n",
    "\n",
    "        invlambplussigma = np.diag(1.0/(lamb + sigmasqr)) \n",
    "        assert (K_pseudoInv == np.dot(np.dot(np.linalg.inv(Q),K_NM.T),invlambplussigma)).all() #check our optimisation works\n",
    "\n",
    "        #find the sensitivity for the pseudo (inducing) inputs\n",
    "        pseudo_msense = self.calc_msense(K_pseudoInv)\n",
    "\n",
    "        return pseudo_mu, self.draw_cov_noise_samples(test_cov,pseudo_msense,N)\n",
    "\n",
    "    def draw_prediction_samples(self,Xtest,N=1):\n",
    "        GPymean, covar = m.predict(Xtest)\n",
    "        mean, noise = dpgp.draw_noise_samples(Xtest,N)\n",
    "        np.set_printoptions(precision=2,suppress=True)\n",
    "        #print GPymean-mean\n",
    "        return mean + noise.T\n"
   ]
  },
  {
   "cell_type": "code",
   "execution_count": 295,
   "metadata": {
    "collapsed": false
   },
   "outputs": [
    {
     "name": "stdout",
     "output_type": "stream",
     "text": [
      "0.4\n"
     ]
    },
    {
     "name": "stderr",
     "output_type": "stream",
     "text": [
      " /home/lionfish/anaconda2/lib/python2.7/site-packages/ipykernel/__main__.py:66: RuntimeWarning:covariance is not positive-semidefinite.\n"
     ]
    }
   ],
   "source": [
    "X = np.array([[1,2,3,4,5,6]]).T\n",
    "y = np.array([[2,3,4,5,6,7]]).T\n",
    "y = y / np.std(y)\n",
    "m = GPy.models.SparseGPRegression(X,y,num_inducing=2)\n",
    "m.inference_method = GPy.inference.latent_function_inference.FITC()\n",
    "m.Gaussian_noise = 0.4\n",
    "dpgp = DPGP_pseudo_prior(m,5.0,1000.0,0.01)\n",
    "Xtest = np.arange(0,7,0.1)[:,None]\n",
    "mu = dpgp.draw_prediction_samples(Xtest,20)"
   ]
  },
  {
   "cell_type": "code",
   "execution_count": 296,
   "metadata": {
    "collapsed": false
   },
   "outputs": [
    {
     "data": {
      "image/png": "[encoded data removed]",
      "text/plain": [
       "<matplotlib.figure.Figure at 0x7fcd204a3fd0>"
      ]
     },
     "metadata": {},
     "output_type": "display_data"
    }
   ],
   "source": [
    "import matplotlib.pyplot as plt\n",
    "%matplotlib inline\n",
    "m.plot(legend=False)\n",
    "plt.plot(Xtest,mu,'-k',alpha=0.3);"
   ]
  },
  {
   "cell_type": "code",
   "execution_count": null,
   "metadata": {
    "collapsed": true
   },
   "outputs": [],
   "source": []
  },
  {
   "cell_type": "code",
   "execution_count": null,
   "metadata": {
    "collapsed": true
   },
   "outputs": [],
   "source": [
    "X = np.array([[1,2,3,4,5,6]]).T\n",
    "y = np.array([[2,3,4,5,6,7]]).T\n",
    "m = GPy.models.GPRegression(X,y)\n",
    "m.Gaussian_noise = 5.0\n",
    "dpgp = DPGP_normal_prior(m,5.0,1.0,0.01)\n",
    "Xtest = np.arange(0,7,0.1)[:,None]\n",
    "mu = dpgp.draw_prediction_samples(Xtest,20)"
   ]
  }
 ],
 "metadata": {
  "kernelspec": {
   "display_name": "Python 2",
   "language": "python",
   "name": "python2"
  },
  "language_info": {
   "codemirror_mode": {
    "name": "ipython",
    "version": 2
   },
   "file_extension": ".py",
   "mimetype": "text/x-python",
   "name": "python",
   "nbconvert_exporter": "python",
   "pygments_lexer": "ipython2",
   "version": "2.7.12"
  }
 },
 "nbformat": 4,
 "nbformat_minor": 0
}
