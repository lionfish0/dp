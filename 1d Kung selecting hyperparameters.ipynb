{
 "cells": [
  {
   "cell_type": "markdown",
   "metadata": {},
   "source": [
    "# 1d dataset for demonstration\n",
    "\n",
    "Uses the kung dataset:\n",
    "\n",
    "Females in the Kung dataset"
   ]
  },
  {
   "cell_type": "code",
   "execution_count": 1,
   "metadata": {
    "collapsed": false
   },
   "outputs": [
    {
     "name": "stdout",
     "output_type": "stream",
     "text": [
      "warning in stationary: failed to import cython module: falling back to numpy\n"
     ]
    }
   ],
   "source": [
    "import dp4gp_datasets\n",
    "import dp4gp\n",
    "import random\n",
    "import numpy as np\n",
    "import GPy\n",
    "import matplotlib.pyplot as plt\n",
    "import dp4gp_histogram\n",
    "import pandas as pd\n",
    "%matplotlib inline\n",
    "\n",
    "kung = dp4gp_datasets.load_kung()\n",
    "\n",
    "X = kung[kung[:,3]==0,2:3]\n",
    "y = kung[kung[:,3]==0,0:1]\n",
    "sens = 100.0\n",
    "epsilon = 1.0\n",
    "delta = 0.01\n",
    "\n",
    "middley = (np.max(y)+np.min(y))/2\n",
    "y[y>middley+sens/2] = middley+sens/2\n",
    "y[y<middley-sens/2] = middley-sens/2\n",
    "\n",
    "#ysub = np.mean(y)\n",
    "ysub = (max(y)+min(y))/2.0\n",
    "y = y - ysub\n",
    "\n",
    "\n",
    "ys_std = np.std(y)\n",
    "y = y / ys_std\n",
    "ac_sens = sens/ys_std\n"
   ]
  },
  {
   "cell_type": "code",
   "execution_count": 9,
   "metadata": {
    "collapsed": false
   },
   "outputs": [
    {
     "data": {
      "text/plain": [
       "3.8846795501345945"
      ]
     },
     "execution_count": 9,
     "metadata": {},
     "output_type": "execute_result"
    }
   ],
   "source": [
    "ac_sens"
   ]
  },
  {
   "cell_type": "code",
   "execution_count": 55,
   "metadata": {
    "collapsed": false
   },
   "outputs": [
    {
     "data": {
      "text/plain": [
       "0.029466567343082176"
      ]
     },
     "execution_count": 55,
     "metadata": {},
     "output_type": "execute_result"
    }
   ],
   "source": [
    "errors = []\n",
    "testIndices = np.random.choice(range(len(X)),10,replace=False)\n",
    "Xtest = X[testIndices,:]\n",
    "ytest = y[testIndices]\n",
    "Xtrain = np.delete(X,testIndices,0)\n",
    "ytrain = np.delete(y,testIndices,0)\n",
    "kern = GPy.kern.RBF(1.0,lengthscale=25.0,variance=1.0)\n",
    "model = GPy.models.GPRegression(Xtrain,ytrain,kern,normalizer=None)\n",
    "model.Gaussian_noise = 0.3\n",
    "\n",
    "dpgp = dp4gp.DPGP_cloaking(model,sens,epsilon,delta)\n",
    "C = dpgp.get_C(Xtest)\n",
    "np.max(np.sqrt(np.sum(C**2,0)))"
   ]
  },
  {
   "cell_type": "code",
   "execution_count": 67,
   "metadata": {
    "collapsed": false
   },
   "outputs": [
    {
     "data": {
      "text/plain": [
       "[0, 24, 48, 72, 96, 120, 144, 168, 192, 216, 240]"
      ]
     },
     "execution_count": 67,
     "metadata": {},
     "output_type": "execute_result"
    }
   ],
   "source": [
    "range(0,244,24)"
   ]
  },
  {
   "cell_type": "code",
   "execution_count": 87,
   "metadata": {
    "collapsed": false
   },
   "outputs": [
    {
     "name": "stdout",
     "output_type": "stream",
     "text": [
      "(57, 230)\n",
      "*\n",
      ". . . . . . . . . . . . . . . . . . . . . . . . . . . . . . . . . . . . . . . . . . . . . . . . . . . . . . . . . . . . . . . . . . . . . . . . . . . . . . . . . . . . . . . . . . . . . . . . . . . . . . . . . . . . . . . . . . . . . . . . . . . . . . . . . . . . . . . . . . . . . . . . . . . . . . Stopped before convergence\n",
      "(3.8846795501345945, 3.2552472614374586, array([[ 1.01808662]]), 1.0, 0.0)\n",
      "(57, 230)\n",
      "*\n",
      ". . . . . . . . . . . . . . . . . . . . . . . . . . . . . . . . . . . . . . . . . . . . . . . . . . . . . . . . . . . . . . . . . . . . . . . . . . . . . . . . . . . . . . . . . . . . . . . . . . . . . . . . . . . . . . . . . . . . . . . . . . . . . . . . . . . . . . . . . . . . . . . . . . . . . . Stopped before convergence\n",
      "(3.8846795501345945, 3.2552472614374586, array([[ 1.01727203]]), 1.0, 0.0)\n",
      "(57, 230)\n",
      "*\n",
      ". . . . . . . . . . . . . . . . . . . . . . . . . . . . . . . . . . . . . . . . . . . . . . . . . . . . . . . . . . . . . . . . . . . . . . . . . . . . . . . . . . . . . . . . . . . . . . . . . . . . . . . . . . . . . . . . . . . . . . . . . . . . . . . . . . . . . . . . . . . . . . . . . . . . . . Stopped before convergence\n",
      "(3.8846795501345945, 3.2552472614374586, array([[ 1.01342668]]), 1.0, 0.0)\n",
      "(57, 230)\n",
      "*\n",
      ". . . . . . . . . . . . . . . . . . . . . . . . . . . . . . . . . . . . . . . . . . . . . . . . . . . . . . . . . . . . . . . . . . . . . . . . . . . . . . . . . . . . . . . . . . . . . . . . . . . . . . . . . . . . . . . . . . . . . . . . . . . . . . . . . . . . . . . . . . . . . . . . . . . . . . Stopped before convergence\n",
      "(3.8846795501345945, 3.2552472614374586, array([[ 1.01760019]]), 1.0, 0.0)\n",
      "(57, 230)\n",
      "*\n",
      ". . . . . . . . . . . . . . . . . . . . . . . . . . . . . . . . . . . . . . . . . . . . . . . . . . . . . . . . . . . . . . . . . . . . . . . . . . . . . . . . . . . . . . . . . . . . . . . . . . . . . . . . . . . . . . . . . . . . . . . . . . . . . . . . . . . . . . . . . . . . . . . . . . . . . . Stopped before convergence\n",
      "(3.8846795501345945, 3.2552472614374586, array([[ 1.01476111]]), 1.0, 0.0)\n",
      "(2, 285)\n",
      "*\n",
      ". . . . . . . . . . . . . . . . . . . . . . . . . . . . . . . . . . . . . . . . . . . . . . . . . . . . . . . . . . . . . . . . . . . . . . . . . . . . . . . . . . . . . . . . . . . . . . . . . . . . . . . . . . . . . . . . . . . . . . . . . . . . . . . . . . . . . . . . . . . . . . . . . . . . . . Stopped before convergence\n",
      "(3.8846795501345945, 3.2552472614374586, array([[ 1.00685625]]), 1.0, 3.210422442710608e-08)\n",
      "[1.4470742496258204, 1.1182633786768219, 1.7251238507354933, 4.6735019675321032, 1.788535920808386, 3.5249906669103148]\n",
      "[0.22929770988036682, 0.17539234182424265, 0.1890811308635216, 0.71397377866712719, 0.64965334790812357, 0.72527872933080384]\n",
      "100.0\n"
     ]
    }
   ],
   "source": [
    "def runxval(X,y,sens):\n",
    "    nblocks = 5\n",
    "    blocksize = len(X)/nblocks #e.g. 244 -> 24 blocksize\n",
    "    perm = np.random.permutation(len(X))\n",
    "    block_training_sensitivities = []\n",
    "    rse = []\n",
    "    for block in range(0,len(X),blocksize):\n",
    "        if block+blocksize>=len(X): #if last block to test\n",
    "            blocksize = len(X)-block\n",
    "        testIndices = perm[block:(block+blocksize)]\n",
    "        Xtest = X[testIndices,:]\n",
    "        ytest = y[testIndices]\n",
    "        Xtrain = np.delete(X,testIndices,0)\n",
    "        ytrain = np.delete(y,testIndices,0)\n",
    "\n",
    "        kern = GPy.kern.RBF(1.0,lengthscale=25.0,variance=1.0)\n",
    "        model = GPy.models.GPRegression(Xtrain,ytrain,kern,normalizer=None)\n",
    "        model.Gaussian_noise = 0.3\n",
    "        \n",
    "        dpgp = dp4gp.DPGP_cloaking(model,sens,epsilon,delta)\n",
    "        try:\n",
    "            samps, mu, samp_cov = dpgp.draw_prediction_samples(Xtest,N=1,Nattempts=1,Nits=150)\n",
    "        except TypeError:\n",
    "            continue #we're just not going to be able to include this in the error sum\n",
    "        C = dpgp.get_C(Xtest)\n",
    "        block_training_sensitivities.append(np.max(np.sqrt(np.sum((ac_sens * ys_std * C)**2,0))))\n",
    "        errors = samps-ytest\n",
    "        rse.append(np.sqrt(np.sum((np.array(errors) * ys_std)**2)))\n",
    "    print rse\n",
    "    print block_training_sensitivities\n",
    "    print ac_sens * ys_std\n",
    "    \n",
    "    return rse, block_training_sensitivities, ac_sens*ys_std\n",
    "rse, trainsens, testsens = runxval(X,y,ac_sens)"
   ]
  },
  {
   "cell_type": "code",
   "execution_count": 88,
   "metadata": {
    "collapsed": false
   },
   "outputs": [
    {
     "data": {
      "text/plain": [
       "14.27749003428894"
      ]
     },
     "execution_count": 88,
     "metadata": {},
     "output_type": "execute_result"
    }
   ],
   "source": [
    "np.sum(rse)"
   ]
  },
  {
   "cell_type": "code",
   "execution_count": 90,
   "metadata": {
    "collapsed": false
   },
   "outputs": [
    {
     "data": {
      "text/plain": [
       "2.5072846966499429"
      ]
     },
     "execution_count": 90,
     "metadata": {},
     "output_type": "execute_result"
    }
   ],
   "source": [
    "np.sum(np.sort(trainsens)[1:])#+testsens/ blocksize??"
   ]
  },
  {
   "cell_type": "markdown",
   "metadata": {},
   "source": [
    " 5 blocks => 490.1 | 210.6\n",
    "10 blocks => 632.9 | 231.6\n",
    "20 blocks => 963.8 | 232.8\n",
    "20 blocks => 855.1 | 242.7"
   ]
  },
  {
   "cell_type": "code",
   "execution_count": 7,
   "metadata": {
    "collapsed": false
   },
   "outputs": [
    {
     "data": {
      "text/plain": [
       "(9.331573675206295, 9.331573675206295)"
      ]
     },
     "execution_count": 7,
     "metadata": {},
     "output_type": "execute_result"
    }
   ],
   "source": [
    "normal_sens"
   ]
  }
 ],
 "metadata": {
  "kernelspec": {
   "display_name": "Python 2",
   "language": "python",
   "name": "python2"
  },
  "language_info": {
   "codemirror_mode": {
    "name": "ipython",
    "version": 2
   },
   "file_extension": ".py",
   "mimetype": "text/x-python",
   "name": "python",
   "nbconvert_exporter": "python",
   "pygments_lexer": "ipython2",
   "version": "2.7.12"
  }
 },
 "nbformat": 4,
 "nbformat_minor": 0
}
