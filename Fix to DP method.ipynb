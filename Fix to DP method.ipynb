{
 "cells": [
  {
   "cell_type": "code",
   "execution_count": 1,
   "metadata": {
    "collapsed": false
   },
   "outputs": [
    {
     "name": "stdout",
     "output_type": "stream",
     "text": [
      "warning in stationary: failed to import cython module: falling back to numpy\n"
     ]
    }
   ],
   "source": [
    "import GPy\n",
    "import matplotlib.pyplot as plt\n",
    "import numpy as np\n",
    "np.set_printoptions(suppress=True,precision=3)\n",
    "%matplotlib inline\n"
   ]
  },
  {
   "cell_type": "markdown",
   "metadata": {},
   "source": [
    "We begin with $A$, the initial kernel (covariance) matrix.\n",
    "For convenience $A$ includes the covariance between three points, two training (at x[0] and x[2]) and we later reuse the training points as test points (x[:])."
   ]
  },
  {
   "cell_type": "code",
   "execution_count": 19,
   "metadata": {
    "collapsed": false
   },
   "outputs": [],
   "source": [
    "A = np.zeros([3,3])\n",
    "x = np.array([1,2,3])\n",
    "for i in range(3):\n",
    "    for j in range(3):\n",
    "        A[i,j] = np.exp(-(x[i]-x[j])**2)"
   ]
  },
  {
   "cell_type": "code",
   "execution_count": 20,
   "metadata": {
    "collapsed": false
   },
   "outputs": [
    {
     "data": {
      "text/plain": [
       "array([[ 1.   ,  0.368,  0.018],\n",
       "       [ 0.368,  1.   ,  0.368],\n",
       "       [ 0.018,  0.368,  1.   ]])"
      ]
     },
     "execution_count": 20,
     "metadata": {},
     "output_type": "execute_result"
    }
   ],
   "source": [
    "A"
   ]
  },
  {
   "cell_type": "markdown",
   "metadata": {},
   "source": [
    "Here we slice up A into the covariance between training points $K$, and between training and test points $K_*$. $\\mathbf{y}$ is the training output values."
   ]
  },
  {
   "cell_type": "code",
   "execution_count": 21,
   "metadata": {
    "collapsed": false
   },
   "outputs": [],
   "source": [
    "K = A[[0,2],:][:,[0,2]]\n",
    "K_star = A[:,[0,2]]\n",
    "y = np.array([1,2])-1.5"
   ]
  },
  {
   "cell_type": "code",
   "execution_count": 22,
   "metadata": {
    "collapsed": false
   },
   "outputs": [
    {
     "name": "stdout",
     "output_type": "stream",
     "text": [
      "[[ 1.     0.018]\n",
      " [ 0.018  1.   ]]\n",
      "[[ 1.     0.018]\n",
      " [ 0.368  0.368]\n",
      " [ 0.018  1.   ]]\n"
     ]
    }
   ],
   "source": [
    "print K\n",
    "print K_star"
   ]
  },
  {
   "cell_type": "markdown",
   "metadata": {},
   "source": [
    "### The DP bit\n",
    "\n",
    "Here we find the bound on the sensitivity, \"scale\". We scale our covariances $A$ with this scale, so that the variance at the relevant locations is scaled appropriately. Previously we wanted to try and scale the sample for each test point, this isn't valid, so instead we are scaling the variance of each test point in the GP's covariance function.\n",
    "\n",
    "To generate the noise using the cloaking idea; I'm scaling a sample $G(\\mathbf{x_*})$ from a zero-mean GP by some function $\\mathbf{\\Delta}(\\mathbf{x})$. The test points vector of $D=\\text{diag}(\\mathbf{\\Delta}(\\mathbf{x_*}))$ can be represented directly as samples from a GP with zero-mean and a covariance of $K_{new} = D K D^T$.\n",
    "\n",
    "Can we actually write the above GP's kernel we are going to use as a non-stationary kernel (with a covariance that depends in some way on $x$ and $x'$), (but still with zero mean) such that the scale of the variance for any sample will be greater than $\\Delta(x)$ for all x. Then we use this kernel to start again: \n",
    "\n",
    "   a. make predictions (as normal using the training and test data), then \n",
    "   b. use it to generate the DP noise (as we're still now in the same RKHS).\n",
    "   \n",
    "Although we are now using a constant $\\Delta$, the kernel covariance function will have small values around our training data. I don't know if that will definitely work, as we will still be restricted by a potentially still quite brutal bound on $\\Delta$. "
   ]
  },
  {
   "cell_type": "code",
   "execution_count": 23,
   "metadata": {
    "collapsed": false
   },
   "outputs": [],
   "source": [
    "scale = np.max(np.abs(np.dot(K_star,np.linalg.inv(K))),1)\n",
    "A = np.dot(np.dot(np.diag(scale),A),np.diag(scale))"
   ]
  },
  {
   "cell_type": "code",
   "execution_count": 24,
   "metadata": {
    "collapsed": false
   },
   "outputs": [
    {
     "name": "stdout",
     "output_type": "stream",
     "text": [
      "[ 1.     0.361  1.   ]\n"
     ]
    }
   ],
   "source": [
    "print scale"
   ]
  },
  {
   "cell_type": "code",
   "execution_count": 25,
   "metadata": {
    "collapsed": false
   },
   "outputs": [
    {
     "data": {
      "text/plain": [
       "array([[ 1.   ,  0.133,  0.018],\n",
       "       [ 0.133,  0.131,  0.133],\n",
       "       [ 0.018,  0.133,  1.   ]])"
      ]
     },
     "execution_count": 25,
     "metadata": {},
     "output_type": "execute_result"
    }
   ],
   "source": [
    "A"
   ]
  },
  {
   "cell_type": "code",
   "execution_count": 26,
   "metadata": {
    "collapsed": false
   },
   "outputs": [],
   "source": [
    "K = A[[0,2],:][:,[0,2]]\n",
    "k_star = A[1,[0,2]]\n",
    "k_star = A[0,[0,2]]"
   ]
  },
  {
   "cell_type": "markdown",
   "metadata": {},
   "source": [
    "Ensure prediction still works with the new funky kernel;"
   ]
  },
  {
   "cell_type": "code",
   "execution_count": 28,
   "metadata": {
    "collapsed": false
   },
   "outputs": [
    {
     "data": {
      "text/plain": [
       "-0.49999999999999994"
      ]
     },
     "execution_count": 28,
     "metadata": {},
     "output_type": "execute_result"
    }
   ],
   "source": [
    "np.dot(np.dot(k_star.T,np.linalg.inv(K)),y)"
   ]
  },
  {
   "cell_type": "markdown",
   "metadata": {},
   "source": [
    "The noise we need to add is far less,"
   ]
  },
  {
   "cell_type": "code",
   "execution_count": 29,
   "metadata": {
    "collapsed": false
   },
   "outputs": [
    {
     "data": {
      "text/plain": [
       "array([ 1.   ,  0.131,  1.   ])"
      ]
     },
     "execution_count": 29,
     "metadata": {},
     "output_type": "execute_result"
    }
   ],
   "source": [
    "np.diag(A)"
   ]
  },
  {
   "cell_type": "markdown",
   "metadata": {},
   "source": [
    "only 0.13 compared to the noise at the two other points of 1."
   ]
  },
  {
   "cell_type": "code",
   "execution_count": 12,
   "metadata": {
    "collapsed": false
   },
   "outputs": [
    {
     "data": {
      "image/png": "[encoded data removed]",
      "text/plain": [
       "<matplotlib.figure.Figure at 0x7fa88d8e3350>"
      ]
     },
     "metadata": {},
     "output_type": "display_data"
    }
   ],
   "source": [
    "noise = []\n",
    "for it in range(1000):\n",
    "    noise.append(np.random.multivariate_normal(np.zeros(1),A[1,1][None,None]))\n",
    "noise = np.array(noise)\n",
    "plt.hist(noise);"
   ]
  },
  {
   "cell_type": "code",
   "execution_count": null,
   "metadata": {
    "collapsed": true
   },
   "outputs": [],
   "source": []
  }
 ],
 "metadata": {
  "kernelspec": {
   "display_name": "Python 2",
   "language": "python",
   "name": "python2"
  },
  "language_info": {
   "codemirror_mode": {
    "name": "ipython",
    "version": 2
   },
   "file_extension": ".py",
   "mimetype": "text/x-python",
   "name": "python",
   "nbconvert_exporter": "python",
   "pygments_lexer": "ipython2",
   "version": "2.7.12"
  }
 },
 "nbformat": 4,
 "nbformat_minor": 0
}
