{
 "cells": [
  {
   "cell_type": "code",
   "execution_count": 1,
   "metadata": {
    "collapsed": true
   },
   "outputs": [],
   "source": [
    "def gram_schmidt_columns(X):\n",
    "    \"\"\"The gram schmidt transform will provide orthogonal vectors. If the vectors we provide exist in a planar manifold\n",
    "    the resulting vectors should remain in the manifold. TBC!!!\"\"\"\n",
    "    Q, R = np.linalg.qr(X)\n",
    "    return Q\n",
    "\n",
    "def rotate_in_subspace(V,v = None,angleinvert=False):\n",
    "    #creates a rotation matrix that rotates between two vectors\n",
    "    #defined as the columns of V,\n",
    "    #such that the rotation occurs in a plane defined by the two vectors\n",
    "    #(as two vectors is insufficient to describe an arbitrary rotation in n-dimensions)\n",
    "\n",
    "    #this used to be a single vector, but to generate a general matrix result:\n",
    "    if v is None:\n",
    "        v = np.eye(3) \n",
    "    \n",
    "    #the two vectors now with length 1\n",
    "    Vnormalised = V*np.repeat(1./np.sqrt(np.sum(V**2,0))[None,:],3,axis=0)\n",
    "\n",
    "    #this is the same span but with orthonormal vectors (each column is one vector)\n",
    "    #annoyingly this can swap the direction of a rotation...\n",
    "    G = gram_schmidt_columns(V)\n",
    "\n",
    "    #We find the matrix that projects from the space to the hyperplane subspace\n",
    "    P = np.dot(G,G.T)\n",
    "\n",
    "    #projected onto the plane\n",
    "    vprime = np.dot(P,v)\n",
    "\n",
    "    #the difference between v and vprime\n",
    "    deltav = vprime-v\n",
    "\n",
    "    #coord in basis\n",
    "    coords = np.dot(G.T,vprime)\n",
    "\n",
    "    #angle of the rotation\n",
    "    ang = np.arccos(np.dot(Vnormalised[:,0],Vnormalised[:,1]))\n",
    "    if angleinvert:\n",
    "        ang = -ang\n",
    "\n",
    "    #the rotation matrix in the 2d plane\n",
    "    R = np.array([[np.cos(ang),-np.sin(ang)],[np.sin(ang),np.cos(ang)]])\n",
    "\n",
    "    #new coordinates on the plane\n",
    "    newcoords = np.dot(R,coords)\n",
    "\n",
    "    #reprojected back to the original basis\n",
    "    vprimerotated =np.dot(G,newcoords)\n",
    "\n",
    "    #translated back from the plane\n",
    "    vrotated = vprimerotated-deltav    \n",
    "    return vrotated\n",
    "\n",
    "def adjusted_rotate_in_subspace(V,v=None):\n",
    "    #Temporary fix - there's bound to be better!\n",
    "    #the problem is when the gram schmidt orthonormal basis is created, the direction of rotation can be swapped.\n",
    "    #as there's two choices, I simply find out whether we've got the right one...\n",
    "    \n",
    "    #we feed in the first vector in...\n",
    "    new = rotate_in_subspace(V,V[:,0])\n",
    "    new/=np.sqrt(np.sum(new**2))\n",
    "    #we expect the result to be the second vector...\n",
    "    targ=V[:,1]/np.sqrt(np.sum(V[:,1]**2))\n",
    "    \n",
    "    #we've normalised them both: They should be equal\n",
    "    #if they're not...\n",
    "    if np.sum((new-targ)**2)>0.01: #we need to swap the order of the vectors!\n",
    "        #print \"Flipped angle\"\n",
    "        return rotate_in_subspace(V,v,angleinvert=True)\n",
    "    else:\n",
    "        return rotate_in_subspace(V,v)"
   ]
  },
  {
   "cell_type": "markdown",
   "metadata": {},
   "source": [
    "Rather than all that hassle, why aren't we just using the orthonormal basis provided by the eigenvectors!"
   ]
  },
  {
   "cell_type": "code",
   "execution_count": null,
   "metadata": {
    "collapsed": true
   },
   "outputs": [],
   "source": [
    "#    while np.any(evals>1.0):\n",
    "#        indices = np.real(evals)>1.0                \n",
    "#        e = evects[:,indices][:,0] #we'll just do one...\n",
    "#        v = evals[indices][0]      \n",
    "#        Smat = np.eye(len(e))\n",
    "#        Smat[0]*=v\n",
    "#        cov = np.dot(evects,np.dot(Smat,np.dot(np.linalg.inv(evects),cov)))\n",
    "#        #cov += newcov * 0.1        \n",
    "#        evals,evects = np.linalg.eig(np.dot(np.linalg.inv(cov),newcov))\n",
    "        "
   ]
  }
 ],
 "metadata": {
  "kernelspec": {
   "display_name": "Python 2",
   "language": "python",
   "name": "python2"
  },
  "language_info": {
   "codemirror_mode": {
    "name": "ipython",
    "version": 2
   },
   "file_extension": ".py",
   "mimetype": "text/x-python",
   "name": "python",
   "nbconvert_exporter": "python",
   "pygments_lexer": "ipython2",
   "version": "2.7.12"
  }
 },
 "nbformat": 4,
 "nbformat_minor": 0
}
