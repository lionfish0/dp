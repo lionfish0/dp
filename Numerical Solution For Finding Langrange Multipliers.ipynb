{
 "cells": [
  {
   "cell_type": "markdown",
   "metadata": {},
   "source": [
    "# Numerical Solution For Finding Langrange Multipliers\n",
    "\n",
    "This seems to work fine, when the number of training points, $n$ is greater than the number of test points, $d$ (i.e. when the length of cs is greater than the length of one element of cs). Below this and I find that the sum of $\\lambda_i = n$ instead."
   ]
  },
  {
   "cell_type": "code",
   "execution_count": 13,
   "metadata": {
    "collapsed": false
   },
   "outputs": [
    {
     "name": "stdout",
     "output_type": "stream",
     "text": [
      "Lambdas:\n",
      "[ 1.  1.  1.  1.  0.]\n",
      "Solutions to c^T M^-1 c (should all be 0<=x<=1)\n",
      "[[ 1.]]\n",
      "[[ 1.]]\n",
      "[[ 1.]]\n",
      "[[ 1.]]\n",
      "[[ 0.25]]\n"
     ]
    }
   ],
   "source": [
    "import numpy as np\n",
    "np.set_printoptions(suppress=True, precision=5)\n",
    "\n",
    "#list of $c_i$ vectors\n",
    "cs = []\n",
    "cs.append(np.array([[0],[5],[3],[4]]))\n",
    "cs.append(np.array([[1],[1],[2],[5]]))\n",
    "cs.append(np.array([[1],[0],[0],[5]]))\n",
    "cs.append(np.array([[3],[2],[0],[4]]))\n",
    "cs.append(np.array([[1.5],[1],[0],[2]])) #this direction is fully covered by others\n",
    "\n",
    "#lambdas\n",
    "ls = np.ones(len(cs)) #currently just using lambdas...\n",
    "\n",
    "def calcM(ls,cs):\n",
    "    \"\"\"\n",
    "    Find the covariance matrix, M, as the lambda weighted sum of c c^T\n",
    "    \"\"\"\n",
    "    M = np.zeros(d)\n",
    "    ccTs = []\n",
    "    for l,c in zip(ls,cs):\n",
    "        ccT = l*np.dot(c,c.transpose())\n",
    "        M = M + ccT\n",
    "        ccTs.append(ccT)\n",
    "    return M, ccTs\n",
    "\n",
    "d = len(cs[0]) #number of test points\n",
    "n = len(cs) #number of training points\n",
    "\n",
    "#gradient descent\n",
    "for it in range(1000):\n",
    "    M,ccTs = calcM(ls,cs)\n",
    "    M = M + np.eye(len(M))*0.0000001\n",
    "    Minv = np.linalg.inv(M)\n",
    "\n",
    "    #find new Trace (P sum(cc^T)) for each c\n",
    "    TrPccTs = []\n",
    "    for ccT in ccTs:\n",
    "        TrPccTs.append(np.trace(np.dot(Minv,ccT)))\n",
    "\n",
    "    #normalise lambda (should sum to either n or d)!!!\n",
    "    ls = np.array(ls) + np.array(TrPccTs)*0.1\n",
    "    ls /= np.sum(ls)\n",
    "    if n>d:\n",
    "        ls *= d\n",
    "    else:\n",
    "        ls *= n\n",
    "       \n",
    "print \"Lambdas:\"\n",
    "print ls\n",
    "\n",
    "print \"Solutions to c^T M^-1 c (should all be 0<=x<=1)\"\n",
    "for l,c in zip(ls,cs):\n",
    "    print np.dot(np.dot(c.transpose(), Minv),c)"
   ]
  }
 ],
 "metadata": {
  "kernelspec": {
   "display_name": "Python 2",
   "language": "python",
   "name": "python2"
  },
  "language_info": {
   "codemirror_mode": {
    "name": "ipython",
    "version": 2
   },
   "file_extension": ".py",
   "mimetype": "text/x-python",
   "name": "python",
   "nbconvert_exporter": "python",
   "pygments_lexer": "ipython2",
   "version": "2.7.12"
  }
 },
 "nbformat": 4,
 "nbformat_minor": 0
}
