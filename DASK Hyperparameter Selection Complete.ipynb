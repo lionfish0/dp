{
 "cells": [
  {
   "cell_type": "markdown",
   "metadata": {},
   "source": [
    "# DASK DP hyperparameter selection\n",
    "\n",
    "Note: This notebook is intended to be run on the DASK scheduler.\n",
    "\n",
    "The cross-validation structure is quite complicated, to explains;\n",
    "\n",
    "- We split the data into training/test sets (normal cross-validation); for each split we want the probability of selecting each parameter configuration, and the score if that parameter selection is used.\n",
    "- The probability of selecting that configuration is computed purely from the training data (to avoid peeking) [see lines 172-175 for the relevant calls]. Within each training data set two seperate calls are made to GridSearchCV. The first [line 109] gets the sensitivities of each fold/parameter-set of the SSE. The second [line 120] gets the negative SSE of each fold/parameter-set. We can then use these two to compute probabilities of selecting each parameter configuration using the exponential mechanism.\n",
    "- The RMSE is computed on the same train/test splits (but in a seperate call, [on line 142]).\n",
    "- At the end of the computation we are left with RMSEs and probabilities, we are then able to find the unbias expected RMSE.\n",
    "\n",
    "### TODO\n",
    "\n",
    "- Urgent: Forgot to include the limits of the SSE - these are required so that the DP assumptions on the sensitivity of the SSE are valid."
   ]
  },
  {
   "cell_type": "code",
   "execution_count": null,
   "metadata": {
    "collapsed": true
   },
   "outputs": [],
   "source": [
    "from dask.distributed import Client\n",
    "client = Client('127.0.0.1:8786')\n",
    "import os\n",
    "import distributed\n",
    "\n",
    "runlist = ['pip install -U pip','sudo apt install libgl1-mesa-glx -y','conda update scipy -y','pip install git+https://github.com/sods/paramz.git','pip install git+https://github.com/SheffieldML/GPy.git','pip install git+https://github.com/lionfish0/dp4gp.git','conda install dask-searchcv -c conda-forge -y']\n",
    "\n",
    "for item in runlist:\n",
    "    print(\"Installing '%s' on workers...\" % item)\n",
    "    client.run(os.system,item)\n",
    "    print(\"Installing '%s' on scheduler...\" % item)\n",
    "    client.run_on_scheduler(os.system,item)    \n",
    "    #os.system(item) #if you need to install it locally too"
   ]
  },
  {
   "cell_type": "code",
   "execution_count": 2,
   "metadata": {
    "scrolled": false
   },
   "outputs": [
    {
     "name": "stdout",
     "output_type": "stream",
     "text": [
      ".\n",
      ".\n",
      ".\n",
      ".\n"
     ]
    },
    {
     "name": "stderr",
     "output_type": "stream",
     "text": [
      " /home/mike/Documents/Research/dp4gp/dp4gp/dp4gp.py:343: RuntimeWarning:divide by zero encountered in log\n"
     ]
    },
    {
     "name": "stdout",
     "output_type": "stream",
     "text": [
      ".\n",
      ".\n"
     ]
    },
    {
     "name": "stderr",
     "output_type": "stream",
     "text": [
      " /home/mike/Documents/Research/dp4gp/dp4gp/dp4gp.py:418: RuntimeWarning:covariance is not positive-semidefinite.\n"
     ]
    },
    {
     "name": "stdout",
     "output_type": "stream",
     "text": [
      ".\n",
      ".\n",
      ".\n"
     ]
    },
    {
     "name": "stderr",
     "output_type": "stream",
     "text": [
      " /home/mike/Documents/Research/dp4gp/dp4gp/dp4gp.py:343: RuntimeWarning:divide by zero encountered in log\n"
     ]
    },
    {
     "name": "stdout",
     "output_type": "stream",
     "text": [
      ".\n"
     ]
    },
    {
     "name": "stderr",
     "output_type": "stream",
     "text": [
      " /home/mike/Documents/Research/dp4gp/dp4gp/dp4gp.py:418: RuntimeWarning:covariance is not positive-semidefinite.\n",
      " /home/mike/Documents/Research/dp4gp/dp4gp/dp4gp.py:343: RuntimeWarning:divide by zero encountered in log\n"
     ]
    },
    {
     "name": "stdout",
     "output_type": "stream",
     "text": [
      ".\n"
     ]
    },
    {
     "name": "stderr",
     "output_type": "stream",
     "text": [
      " /home/mike/Documents/Research/dp4gp/dp4gp/dp4gp.py:418: RuntimeWarning:covariance is not positive-semidefinite.\n",
      " /home/mike/Documents/Research/dp4gp/dp4gp/dp4gp.py:343: RuntimeWarning:divide by zero encountered in log\n"
     ]
    },
    {
     "name": "stdout",
     "output_type": "stream",
     "text": [
      ".\n",
      ".\n"
     ]
    },
    {
     "name": "stderr",
     "output_type": "stream",
     "text": [
      " /home/mike/Documents/Research/dp4gp/dp4gp/dp4gp.py:418: RuntimeWarning:covariance is not positive-semidefinite.\n",
      " /home/mike/Documents/Research/dp4gp/dp4gp/dp4gp.py:418: RuntimeWarning:covariance is not positive-semidefinite.\n",
      " /home/mike/Documents/Research/dp4gp/dp4gp/dp4gp.py:343: RuntimeWarning:divide by zero encountered in log\n"
     ]
    },
    {
     "name": "stdout",
     "output_type": "stream",
     "text": [
      ".\n",
      ".\n",
      ".\n",
      ".\n"
     ]
    },
    {
     "name": "stderr",
     "output_type": "stream",
     "text": [
      " /home/mike/Documents/Research/dp4gp/dp4gp/dp4gp.py:343: RuntimeWarning:divide by zero encountered in log\n"
     ]
    },
    {
     "name": "stdout",
     "output_type": "stream",
     "text": [
      ".\n"
     ]
    },
    {
     "name": "stderr",
     "output_type": "stream",
     "text": [
      " /home/mike/Documents/Research/dp4gp/dp4gp/dp4gp.py:418: RuntimeWarning:covariance is not positive-semidefinite.\n"
     ]
    },
    {
     "name": "stdout",
     "output_type": "stream",
     "text": [
      ".\n"
     ]
    },
    {
     "name": "stderr",
     "output_type": "stream",
     "text": [
      " /home/mike/Documents/Research/dp4gp/dp4gp/dp4gp.py:343: RuntimeWarning:divide by zero encountered in log\n"
     ]
    },
    {
     "name": "stdout",
     "output_type": "stream",
     "text": [
      ".\n"
     ]
    },
    {
     "name": "stderr",
     "output_type": "stream",
     "text": [
      " /home/mike/Documents/Research/dp4gp/dp4gp/dp4gp.py:418: RuntimeWarning:covariance is not positive-semidefinite.\n"
     ]
    },
    {
     "name": "stdout",
     "output_type": "stream",
     "text": [
      ".\n"
     ]
    },
    {
     "name": "stderr",
     "output_type": "stream",
     "text": [
      " /home/mike/Documents/Research/dp4gp/dp4gp/dp4gp.py:343: RuntimeWarning:divide by zero encountered in log\n"
     ]
    },
    {
     "name": "stdout",
     "output_type": "stream",
     "text": [
      ".\n",
      ".\n"
     ]
    },
    {
     "name": "stderr",
     "output_type": "stream",
     "text": [
      " /home/mike/Documents/Research/dp4gp/dp4gp/dp4gp.py:418: RuntimeWarning:covariance is not positive-semidefinite.\n",
      " /home/mike/Documents/Research/dp4gp/dp4gp/dp4gp.py:418: RuntimeWarning:covariance is not positive-semidefinite.\n",
      " /home/mike/Documents/Research/dp4gp/dp4gp/dp4gp.py:343: RuntimeWarning:divide by zero encountered in log\n"
     ]
    },
    {
     "name": "stdout",
     "output_type": "stream",
     "text": [
      ".\n",
      ".\n",
      "..\n",
      "\n",
      ".\n"
     ]
    },
    {
     "name": "stderr",
     "output_type": "stream",
     "text": [
      " /home/mike/Documents/Research/dp4gp/dp4gp/dp4gp.py:343: RuntimeWarning:divide by zero encountered in log\n"
     ]
    },
    {
     "name": "stdout",
     "output_type": "stream",
     "text": [
      ".\n",
      ".\n",
      ".\n",
      ".\n"
     ]
    },
    {
     "name": "stderr",
     "output_type": "stream",
     "text": [
      " /home/mike/Documents/Research/dp4gp/dp4gp/dp4gp.py:418: RuntimeWarning:covariance is not positive-semidefinite.\n"
     ]
    },
    {
     "name": "stdout",
     "output_type": "stream",
     "text": [
      ".\n",
      ".\n",
      ".\n",
      ".\n",
      ".\n",
      ".\n",
      ".\n",
      ".\n",
      ".\n"
     ]
    },
    {
     "name": "stderr",
     "output_type": "stream",
     "text": [
      " /home/mike/Documents/Research/dp4gp/dp4gp/dp4gp.py:343: RuntimeWarning:divide by zero encountered in log\n"
     ]
    },
    {
     "name": "stdout",
     "output_type": "stream",
     "text": [
      ".\n"
     ]
    },
    {
     "name": "stderr",
     "output_type": "stream",
     "text": [
      " /home/mike/Documents/Research/dp4gp/dp4gp/dp4gp.py:418: RuntimeWarning:covariance is not positive-semidefinite.\n"
     ]
    },
    {
     "name": "stdout",
     "output_type": "stream",
     "text": [
      ".\n",
      ".\n",
      ".\n"
     ]
    },
    {
     "name": "stderr",
     "output_type": "stream",
     "text": [
      " /home/mike/Documents/Research/dp4gp/dp4gp/dp4gp.py:418: RuntimeWarning:covariance is not positive-semidefinite.\n",
      " /home/mike/Documents/Research/dp4gp/dp4gp/dp4gp.py:343: RuntimeWarning:divide by zero encountered in log\n"
     ]
    },
    {
     "name": "stdout",
     "output_type": "stream",
     "text": [
      ".\n"
     ]
    },
    {
     "name": "stderr",
     "output_type": "stream",
     "text": [
      " /home/mike/Documents/Research/dp4gp/dp4gp/dp4gp.py:418: RuntimeWarning:covariance is not positive-semidefinite.\n"
     ]
    },
    {
     "name": "stdout",
     "output_type": "stream",
     "text": [
      ".\n",
      ".\n",
      ".\n",
      ".\n"
     ]
    },
    {
     "name": "stderr",
     "output_type": "stream",
     "text": [
      " /home/mike/Documents/Research/dp4gp/dp4gp/dp4gp.py:343: RuntimeWarning:divide by zero encountered in log\n"
     ]
    },
    {
     "name": "stdout",
     "output_type": "stream",
     "text": [
      ".\n"
     ]
    },
    {
     "name": "stderr",
     "output_type": "stream",
     "text": [
      " /home/mike/Documents/Research/dp4gp/dp4gp/dp4gp.py:418: RuntimeWarning:covariance is not positive-semidefinite.\n"
     ]
    },
    {
     "name": "stdout",
     "output_type": "stream",
     "text": [
      ".\n",
      ".\n",
      ".\n",
      ".\n",
      ".\n",
      ".\n"
     ]
    },
    {
     "name": "stderr",
     "output_type": "stream",
     "text": [
      " /home/mike/Documents/Research/dp4gp/dp4gp/dp4gp.py:343: RuntimeWarning:divide by zero encountered in log\n",
      " /home/mike/Documents/Research/dp4gp/dp4gp/dp4gp.py:418: RuntimeWarning:covariance is not positive-semidefinite.\n"
     ]
    },
    {
     "name": "stdout",
     "output_type": "stream",
     "text": [
      ".\n",
      ".\n"
     ]
    },
    {
     "name": "stderr",
     "output_type": "stream",
     "text": [
      " /home/mike/Documents/Research/dp4gp/dp4gp/dp4gp.py:343: RuntimeWarning:divide by zero encountered in log\n",
      " /home/mike/Documents/Research/dp4gp/dp4gp/dp4gp.py:418: RuntimeWarning:covariance is not positive-semidefinite.\n"
     ]
    },
    {
     "name": "stdout",
     "output_type": "stream",
     "text": [
      ".\n",
      ".\n",
      ".\n"
     ]
    },
    {
     "name": "stderr",
     "output_type": "stream",
     "text": [
      " /home/mike/Documents/Research/dp4gp/dp4gp/dp4gp.py:343: RuntimeWarning:divide by zero encountered in log\n",
      " /home/mike/Documents/Research/dp4gp/dp4gp/dp4gp.py:418: RuntimeWarning:covariance is not positive-semidefinite.\n"
     ]
    },
    {
     "name": "stdout",
     "output_type": "stream",
     "text": [
      ".\n",
      ".\n",
      ".\n",
      ".\n",
      ".\n"
     ]
    },
    {
     "name": "stderr",
     "output_type": "stream",
     "text": [
      " /home/mike/Documents/Research/dp4gp/dp4gp/dp4gp.py:343: RuntimeWarning:divide by zero encountered in log\n",
      " /home/mike/Documents/Research/dp4gp/dp4gp/dp4gp.py:418: RuntimeWarning:covariance is not positive-semidefinite.\n"
     ]
    },
    {
     "name": "stdout",
     "output_type": "stream",
     "text": [
      ".\n",
      ".\n",
      ".\n",
      ".\n"
     ]
    },
    {
     "name": "stderr",
     "output_type": "stream",
     "text": [
      " /home/mike/Documents/Research/dp4gp/dp4gp/dp4gp.py:343: RuntimeWarning:divide by zero encountered in log\n",
      " /home/mike/Documents/Research/dp4gp/dp4gp/dp4gp.py:418: RuntimeWarning:covariance is not positive-semidefinite.\n"
     ]
    },
    {
     "name": "stdout",
     "output_type": "stream",
     "text": [
      ".\n",
      ".\n",
      ".\n",
      ".\n",
      ".\n"
     ]
    },
    {
     "name": "stderr",
     "output_type": "stream",
     "text": [
      " /home/mike/Documents/Research/dp4gp/dp4gp/dp4gp.py:343: RuntimeWarning:divide by zero encountered in log\n",
      " /home/mike/Documents/Research/dp4gp/dp4gp/dp4gp.py:418: RuntimeWarning:covariance is not positive-semidefinite.\n"
     ]
    },
    {
     "name": "stdout",
     "output_type": "stream",
     "text": [
      ".\n",
      ".\n"
     ]
    },
    {
     "name": "stderr",
     "output_type": "stream",
     "text": [
      " /home/mike/Documents/Research/dp4gp/dp4gp/dp4gp.py:343: RuntimeWarning:divide by zero encountered in log\n"
     ]
    },
    {
     "name": "stdout",
     "output_type": "stream",
     "text": [
      "..\n",
      "\n"
     ]
    },
    {
     "name": "stderr",
     "output_type": "stream",
     "text": [
      " /home/mike/Documents/Research/dp4gp/dp4gp/dp4gp.py:418: RuntimeWarning:covariance is not positive-semidefinite.\n"
     ]
    },
    {
     "name": "stdout",
     "output_type": "stream",
     "text": [
      ".\n",
      ".\n",
      ".\n"
     ]
    },
    {
     "name": "stderr",
     "output_type": "stream",
     "text": [
      " /home/mike/Documents/Research/dp4gp/dp4gp/dp4gp.py:343: RuntimeWarning:divide by zero encountered in log\n",
      " /home/mike/Documents/Research/dp4gp/dp4gp/dp4gp.py:418: RuntimeWarning:covariance is not positive-semidefinite.\n"
     ]
    },
    {
     "name": "stdout",
     "output_type": "stream",
     "text": [
      ".\n",
      ".\n",
      ".\n",
      ".\n",
      ".\n",
      ".\n"
     ]
    },
    {
     "name": "stderr",
     "output_type": "stream",
     "text": [
      " /home/mike/Documents/Research/dp4gp/dp4gp/dp4gp.py:343: RuntimeWarning:divide by zero encountered in log\n",
      " /home/mike/Documents/Research/dp4gp/dp4gp/dp4gp.py:418: RuntimeWarning:covariance is not positive-semidefinite.\n"
     ]
    },
    {
     "name": "stdout",
     "output_type": "stream",
     "text": [
      ".\n",
      ".\n",
      ".\n",
      ".\n",
      ".\n"
     ]
    },
    {
     "name": "stderr",
     "output_type": "stream",
     "text": [
      " /home/mike/Documents/Research/dp4gp/dp4gp/dp4gp.py:343: RuntimeWarning:divide by zero encountered in log\n",
      " /home/mike/Documents/Research/dp4gp/dp4gp/dp4gp.py:418: RuntimeWarning:covariance is not positive-semidefinite.\n"
     ]
    },
    {
     "name": "stdout",
     "output_type": "stream",
     "text": [
      ".\n",
      ".\n",
      ".\n"
     ]
    },
    {
     "name": "stderr",
     "output_type": "stream",
     "text": [
      " /home/mike/Documents/Research/dp4gp/dp4gp/dp4gp.py:343: RuntimeWarning:divide by zero encountered in log\n",
      " /home/mike/Documents/Research/dp4gp/dp4gp/dp4gp.py:418: RuntimeWarning:covariance is not positive-semidefinite.\n"
     ]
    },
    {
     "name": "stdout",
     "output_type": "stream",
     "text": [
      ".\n",
      ".\n",
      ".\n",
      ".\n"
     ]
    },
    {
     "name": "stderr",
     "output_type": "stream",
     "text": [
      " /home/mike/Documents/Research/dp4gp/dp4gp/dp4gp.py:343: RuntimeWarning:divide by zero encountered in log\n",
      " /home/mike/Documents/Research/dp4gp/dp4gp/dp4gp.py:418: RuntimeWarning:covariance is not positive-semidefinite.\n"
     ]
    },
    {
     "name": "stdout",
     "output_type": "stream",
     "text": [
      ".\n",
      ".\n",
      ".\n",
      ".\n",
      ".\n",
      ".\n",
      ".\n"
     ]
    },
    {
     "name": "stderr",
     "output_type": "stream",
     "text": [
      " /home/mike/Documents/Research/dp4gp/dp4gp/dp4gp.py:343: RuntimeWarning:divide by zero encountered in log\n"
     ]
    },
    {
     "name": "stdout",
     "output_type": "stream",
     "text": [
      ".\n",
      ".\n",
      ".\n"
     ]
    },
    {
     "name": "stderr",
     "output_type": "stream",
     "text": [
      " /home/mike/Documents/Research/dp4gp/dp4gp/dp4gp.py:418: RuntimeWarning:covariance is not positive-semidefinite.\n"
     ]
    },
    {
     "name": "stdout",
     "output_type": "stream",
     "text": [
      ".\n",
      ".\n",
      ".\n",
      ".\n",
      ".\n",
      ".\n",
      ".\n",
      ".\n",
      ".\n",
      ".\n"
     ]
    },
    {
     "name": "stderr",
     "output_type": "stream",
     "text": [
      " /home/mike/Documents/Research/dp4gp/dp4gp/dp4gp.py:343: RuntimeWarning:divide by zero encountered in log\n"
     ]
    },
    {
     "name": "stdout",
     "output_type": "stream",
     "text": [
      ".\n"
     ]
    },
    {
     "name": "stderr",
     "output_type": "stream",
     "text": [
      " /home/mike/Documents/Research/dp4gp/dp4gp/dp4gp.py:418: RuntimeWarning:covariance is not positive-semidefinite.\n"
     ]
    },
    {
     "name": "stdout",
     "output_type": "stream",
     "text": [
      ".\n",
      ".\n"
     ]
    },
    {
     "name": "stderr",
     "output_type": "stream",
     "text": [
      " /home/mike/Documents/Research/dp4gp/dp4gp/dp4gp.py:343: RuntimeWarning:divide by zero encountered in log\n",
      " /home/mike/Documents/Research/dp4gp/dp4gp/dp4gp.py:418: RuntimeWarning:covariance is not positive-semidefinite.\n"
     ]
    },
    {
     "name": "stdout",
     "output_type": "stream",
     "text": [
      ".\n"
     ]
    },
    {
     "name": "stderr",
     "output_type": "stream",
     "text": [
      " /home/mike/Documents/Research/dp4gp/dp4gp/dp4gp.py:343: RuntimeWarning:divide by zero encountered in log\n"
     ]
    },
    {
     "name": "stdout",
     "output_type": "stream",
     "text": [
      ".\n"
     ]
    },
    {
     "name": "stderr",
     "output_type": "stream",
     "text": [
      " /home/mike/Documents/Research/dp4gp/dp4gp/dp4gp.py:418: RuntimeWarning:covariance is not positive-semidefinite.\n"
     ]
    },
    {
     "name": "stdout",
     "output_type": "stream",
     "text": [
      ".\n",
      ".\n"
     ]
    },
    {
     "name": "stderr",
     "output_type": "stream",
     "text": [
      " /home/mike/Documents/Research/dp4gp/dp4gp/dp4gp.py:343: RuntimeWarning:divide by zero encountered in log\n",
      " /home/mike/Documents/Research/dp4gp/dp4gp/dp4gp.py:418: RuntimeWarning:covariance is not positive-semidefinite.\n"
     ]
    },
    {
     "name": "stdout",
     "output_type": "stream",
     "text": [
      ".\n",
      ".\n",
      ".\n",
      ".\n",
      ".\n",
      ".\n",
      ".\n",
      ".\n",
      ".\n"
     ]
    },
    {
     "name": "stderr",
     "output_type": "stream",
     "text": [
      " /home/mike/Documents/Research/dp4gp/dp4gp/dp4gp.py:343: RuntimeWarning:divide by zero encountered in log\n"
     ]
    },
    {
     "name": "stdout",
     "output_type": "stream",
     "text": [
      ".\n"
     ]
    },
    {
     "name": "stderr",
     "output_type": "stream",
     "text": [
      " /home/mike/Documents/Research/dp4gp/dp4gp/dp4gp.py:418: RuntimeWarning:covariance is not positive-semidefinite.\n"
     ]
    },
    {
     "name": "stdout",
     "output_type": "stream",
     "text": [
      ".\n",
      ".\n"
     ]
    },
    {
     "name": "stderr",
     "output_type": "stream",
     "text": [
      " /home/mike/Documents/Research/dp4gp/dp4gp/dp4gp.py:343: RuntimeWarning:divide by zero encountered in log\n",
      " /home/mike/Documents/Research/dp4gp/dp4gp/dp4gp.py:418: RuntimeWarning:covariance is not positive-semidefinite.\n"
     ]
    },
    {
     "name": "stdout",
     "output_type": "stream",
     "text": [
      ".\n",
      ".\n",
      ".\n"
     ]
    },
    {
     "name": "stderr",
     "output_type": "stream",
     "text": [
      " /home/mike/Documents/Research/dp4gp/dp4gp/dp4gp.py:418: RuntimeWarning:covariance is not positive-semidefinite.\n"
     ]
    },
    {
     "name": "stdout",
     "output_type": "stream",
     "text": [
      ".\n"
     ]
    },
    {
     "name": "stderr",
     "output_type": "stream",
     "text": [
      " /home/mike/Documents/Research/dp4gp/dp4gp/dp4gp.py:343: RuntimeWarning:divide by zero encountered in log\n"
     ]
    },
    {
     "name": "stdout",
     "output_type": "stream",
     "text": [
      ".\n",
      ".\n"
     ]
    },
    {
     "name": "stderr",
     "output_type": "stream",
     "text": [
      " /home/mike/Documents/Research/dp4gp/dp4gp/dp4gp.py:343: RuntimeWarning:divide by zero encountered in log\n",
      " /home/mike/Documents/Research/dp4gp/dp4gp/dp4gp.py:418: RuntimeWarning:covariance is not positive-semidefinite.\n"
     ]
    },
    {
     "name": "stdout",
     "output_type": "stream",
     "text": [
      ".\n",
      ".\n",
      ".\n",
      ".\n",
      ".\n"
     ]
    },
    {
     "name": "stderr",
     "output_type": "stream",
     "text": [
      " /home/mike/Documents/Research/dp4gp/dp4gp/dp4gp.py:343: RuntimeWarning:divide by zero encountered in log\n"
     ]
    },
    {
     "name": "stdout",
     "output_type": "stream",
     "text": [
      ".\n"
     ]
    },
    {
     "name": "stderr",
     "output_type": "stream",
     "text": [
      " /home/mike/Documents/Research/dp4gp/dp4gp/dp4gp.py:418: RuntimeWarning:covariance is not positive-semidefinite.\n"
     ]
    },
    {
     "name": "stdout",
     "output_type": "stream",
     "text": [
      ".\n",
      ".\n",
      ".\n"
     ]
    },
    {
     "name": "stderr",
     "output_type": "stream",
     "text": [
      " /home/mike/Documents/Research/dp4gp/dp4gp/dp4gp.py:343: RuntimeWarning:divide by zero encountered in log\n",
      " /home/mike/Documents/Research/dp4gp/dp4gp/dp4gp.py:418: RuntimeWarning:covariance is not positive-semidefinite.\n"
     ]
    },
    {
     "name": "stdout",
     "output_type": "stream",
     "text": [
      ".\n",
      ".\n",
      ".\n",
      ".\n"
     ]
    },
    {
     "name": "stderr",
     "output_type": "stream",
     "text": [
      " /home/mike/Documents/Research/dp4gp/dp4gp/dp4gp.py:343: RuntimeWarning:divide by zero encountered in log\n"
     ]
    },
    {
     "name": "stdout",
     "output_type": "stream",
     "text": [
      ".\n"
     ]
    },
    {
     "name": "stderr",
     "output_type": "stream",
     "text": [
      " /home/mike/Documents/Research/dp4gp/dp4gp/dp4gp.py:418: RuntimeWarning:covariance is not positive-semidefinite.\n"
     ]
    },
    {
     "name": "stdout",
     "output_type": "stream",
     "text": [
      ".\n",
      ".\n",
      ".\n"
     ]
    },
    {
     "name": "stderr",
     "output_type": "stream",
     "text": [
      " /home/mike/Documents/Research/dp4gp/dp4gp/dp4gp.py:343: RuntimeWarning:divide by zero encountered in log\n",
      " /home/mike/Documents/Research/dp4gp/dp4gp/dp4gp.py:418: RuntimeWarning:covariance is not positive-semidefinite.\n"
     ]
    },
    {
     "name": "stdout",
     "output_type": "stream",
     "text": [
      ".\n",
      ".\n",
      ".\n",
      ".\n",
      ".\n",
      ".\n"
     ]
    },
    {
     "name": "stderr",
     "output_type": "stream",
     "text": [
      " /home/mike/Documents/Research/dp4gp/dp4gp/dp4gp.py:343: RuntimeWarning:divide by zero encountered in log\n"
     ]
    },
    {
     "name": "stdout",
     "output_type": "stream",
     "text": [
      ".\n"
     ]
    },
    {
     "name": "stderr",
     "output_type": "stream",
     "text": [
      " /home/mike/Documents/Research/dp4gp/dp4gp/dp4gp.py:418: RuntimeWarning:covariance is not positive-semidefinite.\n"
     ]
    },
    {
     "name": "stdout",
     "output_type": "stream",
     "text": [
      ".\n",
      ".\n",
      ".\n"
     ]
    },
    {
     "name": "stderr",
     "output_type": "stream",
     "text": [
      " /home/mike/Documents/Research/dp4gp/dp4gp/dp4gp.py:343: RuntimeWarning:divide by zero encountered in log\n",
      " /home/mike/Documents/Research/dp4gp/dp4gp/dp4gp.py:418: RuntimeWarning:covariance is not positive-semidefinite.\n"
     ]
    },
    {
     "name": "stdout",
     "output_type": "stream",
     "text": [
      ".\n",
      ".\n",
      ".\n",
      ".\n",
      ".\n"
     ]
    },
    {
     "name": "stderr",
     "output_type": "stream",
     "text": [
      " /home/mike/Documents/Research/dp4gp/dp4gp/dp4gp.py:343: RuntimeWarning:divide by zero encountered in log\n",
      " /home/mike/Documents/Research/dp4gp/dp4gp/dp4gp.py:418: RuntimeWarning:covariance is not positive-semidefinite.\n"
     ]
    },
    {
     "name": "stdout",
     "output_type": "stream",
     "text": [
      ".\n",
      ".\n",
      ".\n"
     ]
    },
    {
     "name": "stderr",
     "output_type": "stream",
     "text": [
      " /home/mike/Documents/Research/dp4gp/dp4gp/dp4gp.py:343: RuntimeWarning:divide by zero encountered in log\n",
      " /home/mike/Documents/Research/dp4gp/dp4gp/dp4gp.py:418: RuntimeWarning:covariance is not positive-semidefinite.\n"
     ]
    },
    {
     "name": "stdout",
     "output_type": "stream",
     "text": [
      ".\n",
      ".\n",
      ".\n",
      ".\n",
      ".\n",
      ".\n",
      ".\n"
     ]
    },
    {
     "name": "stderr",
     "output_type": "stream",
     "text": [
      " /home/mike/Documents/Research/dp4gp/dp4gp/dp4gp.py:343: RuntimeWarning:divide by zero encountered in log\n"
     ]
    },
    {
     "name": "stdout",
     "output_type": "stream",
     "text": [
      ".\n",
      "..\n",
      "\n",
      ".\n"
     ]
    },
    {
     "name": "stderr",
     "output_type": "stream",
     "text": [
      " /home/mike/Documents/Research/dp4gp/dp4gp/dp4gp.py:418: RuntimeWarning:covariance is not positive-semidefinite.\n"
     ]
    },
    {
     "name": "stdout",
     "output_type": "stream",
     "text": [
      ".\n",
      ".\n",
      ".\n",
      ".\n",
      ".\n",
      ".\n",
      ".\n",
      ".\n",
      ".\n"
     ]
    },
    {
     "name": "stderr",
     "output_type": "stream",
     "text": [
      " /home/mike/Documents/Research/dp4gp/dp4gp/dp4gp.py:343: RuntimeWarning:divide by zero encountered in log\n"
     ]
    },
    {
     "name": "stdout",
     "output_type": "stream",
     "text": [
      ".\n"
     ]
    },
    {
     "name": "stderr",
     "output_type": "stream",
     "text": [
      " /home/mike/Documents/Research/dp4gp/dp4gp/dp4gp.py:418: RuntimeWarning:covariance is not positive-semidefinite.\n"
     ]
    },
    {
     "name": "stdout",
     "output_type": "stream",
     "text": [
      ".\n",
      ".\n"
     ]
    },
    {
     "name": "stderr",
     "output_type": "stream",
     "text": [
      " /home/mike/Documents/Research/dp4gp/dp4gp/dp4gp.py:343: RuntimeWarning:divide by zero encountered in log\n"
     ]
    },
    {
     "name": "stdout",
     "output_type": "stream",
     "text": [
      ".\n"
     ]
    },
    {
     "name": "stderr",
     "output_type": "stream",
     "text": [
      " /home/mike/Documents/Research/dp4gp/dp4gp/dp4gp.py:418: RuntimeWarning:covariance is not positive-semidefinite.\n"
     ]
    },
    {
     "name": "stdout",
     "output_type": "stream",
     "text": [
      ".\n",
      ".\n"
     ]
    },
    {
     "name": "stderr",
     "output_type": "stream",
     "text": [
      " /home/mike/Documents/Research/dp4gp/dp4gp/dp4gp.py:343: RuntimeWarning:divide by zero encountered in log\n",
      " /home/mike/Documents/Research/dp4gp/dp4gp/dp4gp.py:418: RuntimeWarning:covariance is not positive-semidefinite.\n"
     ]
    },
    {
     "name": "stdout",
     "output_type": "stream",
     "text": [
      ".\n"
     ]
    },
    {
     "name": "stderr",
     "output_type": "stream",
     "text": [
      " /home/mike/Documents/Research/dp4gp/dp4gp/dp4gp.py:343: RuntimeWarning:divide by zero encountered in log\n"
     ]
    },
    {
     "name": "stdout",
     "output_type": "stream",
     "text": [
      ".\n"
     ]
    },
    {
     "name": "stderr",
     "output_type": "stream",
     "text": [
      " /home/mike/Documents/Research/dp4gp/dp4gp/dp4gp.py:418: RuntimeWarning:covariance is not positive-semidefinite.\n"
     ]
    },
    {
     "name": "stdout",
     "output_type": "stream",
     "text": [
      ".\n",
      ".\n",
      ".\n",
      ".\n",
      ".\n",
      ".\n",
      ".\n",
      ".\n"
     ]
    },
    {
     "name": "stderr",
     "output_type": "stream",
     "text": [
      " /home/mike/Documents/Research/dp4gp/dp4gp/dp4gp.py:343: RuntimeWarning:divide by zero encountered in log\n"
     ]
    },
    {
     "name": "stdout",
     "output_type": "stream",
     "text": [
      ".\n"
     ]
    },
    {
     "name": "stderr",
     "output_type": "stream",
     "text": [
      " /home/mike/Documents/Research/dp4gp/dp4gp/dp4gp.py:418: RuntimeWarning:covariance is not positive-semidefinite.\n"
     ]
    },
    {
     "name": "stdout",
     "output_type": "stream",
     "text": [
      ".\n",
      ".\n"
     ]
    },
    {
     "name": "stderr",
     "output_type": "stream",
     "text": [
      " /home/mike/Documents/Research/dp4gp/dp4gp/dp4gp.py:343: RuntimeWarning:divide by zero encountered in log\n"
     ]
    },
    {
     "name": "stdout",
     "output_type": "stream",
     "text": [
      ".\n"
     ]
    },
    {
     "name": "stderr",
     "output_type": "stream",
     "text": [
      " /home/mike/Documents/Research/dp4gp/dp4gp/dp4gp.py:418: RuntimeWarning:covariance is not positive-semidefinite.\n"
     ]
    },
    {
     "name": "stdout",
     "output_type": "stream",
     "text": [
      ".\n",
      ".\n",
      ".\n",
      ".\n"
     ]
    },
    {
     "name": "stderr",
     "output_type": "stream",
     "text": [
      " /home/mike/Documents/Research/dp4gp/dp4gp/dp4gp.py:343: RuntimeWarning:divide by zero encountered in log\n",
      " /home/mike/Documents/Research/dp4gp/dp4gp/dp4gp.py:418: RuntimeWarning:covariance is not positive-semidefinite.\n"
     ]
    },
    {
     "name": "stdout",
     "output_type": "stream",
     "text": [
      ".\n",
      ".\n",
      ".\n"
     ]
    },
    {
     "name": "stderr",
     "output_type": "stream",
     "text": [
      " /home/mike/Documents/Research/dp4gp/dp4gp/dp4gp.py:343: RuntimeWarning:divide by zero encountered in log\n",
      " /home/mike/Documents/Research/dp4gp/dp4gp/dp4gp.py:418: RuntimeWarning:covariance is not positive-semidefinite.\n"
     ]
    },
    {
     "name": "stdout",
     "output_type": "stream",
     "text": [
      ".\n",
      ".\n",
      ".\n",
      ".\n",
      ".\n"
     ]
    },
    {
     "name": "stderr",
     "output_type": "stream",
     "text": [
      " /home/mike/Documents/Research/dp4gp/dp4gp/dp4gp.py:343: RuntimeWarning:divide by zero encountered in log\n",
      " /home/mike/Documents/Research/dp4gp/dp4gp/dp4gp.py:418: RuntimeWarning:covariance is not positive-semidefinite.\n"
     ]
    },
    {
     "name": "stdout",
     "output_type": "stream",
     "text": [
      ".\n",
      ".\n",
      ".\n",
      ".\n"
     ]
    },
    {
     "name": "stderr",
     "output_type": "stream",
     "text": [
      " /home/mike/Documents/Research/dp4gp/dp4gp/dp4gp.py:343: RuntimeWarning:divide by zero encountered in log\n",
      " /home/mike/Documents/Research/dp4gp/dp4gp/dp4gp.py:418: RuntimeWarning:covariance is not positive-semidefinite.\n"
     ]
    },
    {
     "name": "stdout",
     "output_type": "stream",
     "text": [
      ".\n",
      ".\n",
      ".\n",
      ".\n",
      ".\n"
     ]
    },
    {
     "name": "stderr",
     "output_type": "stream",
     "text": [
      " /home/mike/Documents/Research/dp4gp/dp4gp/dp4gp.py:343: RuntimeWarning:divide by zero encountered in log\n",
      " /home/mike/Documents/Research/dp4gp/dp4gp/dp4gp.py:418: RuntimeWarning:covariance is not positive-semidefinite.\n"
     ]
    },
    {
     "name": "stdout",
     "output_type": "stream",
     "text": [
      ".\n",
      ".\n"
     ]
    },
    {
     "name": "stderr",
     "output_type": "stream",
     "text": [
      " /home/mike/Documents/Research/dp4gp/dp4gp/dp4gp.py:343: RuntimeWarning:divide by zero encountered in log\n",
      " /home/mike/Documents/Research/dp4gp/dp4gp/dp4gp.py:418: RuntimeWarning:covariance is not positive-semidefinite.\n"
     ]
    },
    {
     "name": "stdout",
     "output_type": "stream",
     "text": [
      ".\n",
      ".\n",
      ".\n"
     ]
    },
    {
     "name": "stderr",
     "output_type": "stream",
     "text": [
      " /home/mike/Documents/Research/dp4gp/dp4gp/dp4gp.py:343: RuntimeWarning:divide by zero encountered in log\n"
     ]
    },
    {
     "name": "stdout",
     "output_type": "stream",
     "text": [
      ".\n"
     ]
    },
    {
     "name": "stderr",
     "output_type": "stream",
     "text": [
      " /home/mike/Documents/Research/dp4gp/dp4gp/dp4gp.py:418: RuntimeWarning:covariance is not positive-semidefinite.\n"
     ]
    },
    {
     "name": "stdout",
     "output_type": "stream",
     "text": [
      ".\n",
      ".\n",
      ".\n",
      ".\n",
      ".\n"
     ]
    },
    {
     "name": "stderr",
     "output_type": "stream",
     "text": [
      " /home/mike/Documents/Research/dp4gp/dp4gp/dp4gp.py:418: RuntimeWarning:covariance is not positive-semidefinite.\n",
      " /home/mike/Documents/Research/dp4gp/dp4gp/dp4gp.py:343: RuntimeWarning:divide by zero encountered in log\n"
     ]
    },
    {
     "name": "stdout",
     "output_type": "stream",
     "text": [
      ".\n",
      ".\n",
      ".\n"
     ]
    },
    {
     "name": "stderr",
     "output_type": "stream",
     "text": [
      " /home/mike/Documents/Research/dp4gp/dp4gp/dp4gp.py:418: RuntimeWarning:covariance is not positive-semidefinite.\n",
      " /home/mike/Documents/Research/dp4gp/dp4gp/dp4gp.py:343: RuntimeWarning:divide by zero encountered in log\n",
      " /home/mike/Documents/Research/dp4gp/dp4gp/dp4gp.py:418: RuntimeWarning:covariance is not positive-semidefinite.\n"
     ]
    },
    {
     "name": "stdout",
     "output_type": "stream",
     "text": [
      ".\n",
      ".\n",
      ".\n",
      ".\n",
      ".\n",
      ".\n",
      ".\n",
      ".\n",
      "[[ 0.2780088   0.2651039   0.25994567  0.19694163]\n",
      " [ 0.26712682  0.23700197  0.31964679  0.17622442]\n",
      " [ 0.30261986  0.27097601  0.26606621  0.16033791]]\n",
      "[[-0.60348814 -0.50939675 -0.65877968 -0.27725199]\n",
      " [-0.65522194 -0.95756242 -0.58511046 -0.98094521]\n",
      " [-1.8343872  -1.9017283  -1.55337318 -2.03818546]]\n",
      "[ 0.52866746  0.76186672  1.81054328]\n",
      "[ 0.51222914  0.79471001  1.83191854]\n"
     ]
    }
   ],
   "source": [
    "from dp4gp import datasets\n",
    "from dp4gp import dp4gp\n",
    "from dp4gp.utils import dp_normalise, dp_unnormalise\n",
    "import random\n",
    "import numpy as np\n",
    "import GPy\n",
    "import matplotlib.pyplot as plt\n",
    "from dp4gp import histogram\n",
    "import pandas as pd\n",
    "from dask_searchcv import GridSearchCV\n",
    "#from sklearn.model_selection import GridSearchCV\n",
    "from sklearn.model_selection import cross_val_score # http://scikit-learn.org/stable/developers/contributing.html#estimators\n",
    "from sklearn.base import BaseEstimator\n",
    "from sklearn.utils.validation import check_X_y, check_array, check_is_fitted\n",
    "from sklearn.cluster import KMeans\n",
    "%matplotlib inline\n",
    "\n",
    "#from dask.distributed import Client\n",
    "#client = Client('127.0.0.1:8786')\n",
    "\n",
    "kung = datasets.load_kung()\n",
    "\n",
    "# This is an estimator for sklearn\n",
    "class DPCloaking(BaseEstimator):\n",
    "    def __init__(self, lengthscale=None, variance=None, errorlimit=None, kern=None, sensitivity=1.0, epsilon=1.0, delta=0.01, inducing=None, noisevariance=None, getxvalfoldsensitivities=False):\n",
    "        \"\"\"\n",
    "        kern = a GPy kernel, Default: uses a default 1d RBF kernel, with default hyperparameters if not specified.\n",
    "        inducing = locations of inducing points, default to None - not using inducing points.\n",
    "        getxvalfoldsensitivities=False - score will return the sum-squared-error of each fold by default, but if this is set to true it will return the sensitivity caused by a perturbed point being in the train data\n",
    "        errorlimit - when reporting the SSE we can set a limit on how large a single error is allowed to be.\n",
    "        \"\"\"\n",
    "        \n",
    "        self.errorlimit = errorlimit\n",
    "        self.kern = kern\n",
    "        self.sensitivity = sensitivity\n",
    "        self.epsilon = epsilon\n",
    "        self.delta = delta\n",
    "        self.inducing = inducing\n",
    "        self.getxvalfoldsensitivities = getxvalfoldsensitivities\n",
    "\n",
    "        if lengthscale is not None:\n",
    "            self.kern.lengthscale = lengthscale\n",
    "        if variance is not None:\n",
    "            self.kern.variance = variance\n",
    "        if noisevariance is not None:\n",
    "            self.noisevariance = noisevariance\n",
    "        else:\n",
    "            self.noisevariance = 1.0\n",
    "        \n",
    "    def fit(self, X, y, **kwargs): \n",
    "\n",
    "        #if self.kern is None:\n",
    "        #    self.kern = GPy.kern.RBF(1.0)\n",
    "            \n",
    "        self.kern.lengthscale = self.lengthscale\n",
    "        self.kern.variance = self.variance\n",
    "        if self.inducing is None:\n",
    "            self.model = GPy.models.GPRegression(X,y,self.kern,normalizer=None)\n",
    "            self.model.Gaussian_noise = self.noisevariance\n",
    "            self.dpgp = dp4gp.DPGP_cloaking(self.model,self.sensitivity,self.epsilon,self.delta)\n",
    "        else:\n",
    "            if isinstance(self.inducing, list):\n",
    "                inducinglocs = self.inducing\n",
    "            else:\n",
    "                inducinglocs = KMeans(n_clusters=self.inducing, random_state=0).fit(X).cluster_centers_\n",
    "            self.model = GPy.models.SparseGPRegression(X,y,self.kern,normalizer=None,Z=inducinglocs)\n",
    "            self.model.Gaussian_noise = self.noisevariance\n",
    "            self.dpgp = dp4gp.DPGP_inducing_cloaking(self.model,self.sensitivity,self.epsilon,self.delta)\n",
    "        return self\n",
    "\n",
    "    def predict(self, X, Nattempts=2, Nits=5): #todo set Nits back to a larger value (e.g. 100)\n",
    "        print(\".\"),\n",
    "        ypred,_,_= self.dpgp.draw_prediction_samples(X,Nattempts=Nattempts,Nits=Nits)\n",
    "        return ypred\n",
    "    \n",
    "    def score(self, X, y=None):\n",
    "        \"\"\"\n",
    "        If self.getxvalfoldsensitivities is True then, this isn't the actual score.\n",
    "        Instead it returns the sensitivity of the sum squared error if the perturbed\n",
    "        point lies in the training data.\n",
    "        \n",
    "        If it's false this returns the NEGATIVE Sum Squared Error\n",
    "        \"\"\"\n",
    "        #sum of squared errors\n",
    "        \n",
    "        if self.getxvalfoldsensitivities:          \n",
    "            C = self.dpgp.get_C(X)\n",
    "            return np.max(np.sum((self.sensitivity * C)**2,0)) #TODO: Handle normalisation\n",
    "        else:\n",
    "            errors = (y-self.predict(X))\n",
    "            errors[errors>self.errorlimit] = self.errorlimit\n",
    "            errors[errors<-self.errorlimit] = -self.errorlimit\n",
    "            return -np.sum((y-self.predict(X))**2)\n",
    "\n",
    "def getprobabilities(X,y,p_grid, cv):\n",
    "    \"\"\"\n",
    "    getprobabilities(X,y,p_grid, cv)\n",
    "    \n",
    "    - X and y: Inputs and outputs\n",
    "    - p_grid: grid of parameters to search over\n",
    "    - cv: Number of cross-validation folds (this is different from the outer number of x-val folds)\n",
    "    \n",
    "    Gets the probability of picking each of the options provided by p_grid given the data in X and y.\n",
    "    The algorithm is as follows:\n",
    "     - Find the sensitivity of the SSE for each parameter-values\n",
    "     - Find the SSE of each parameter-values\n",
    "     - Find the probability of selecting those parameter-values\n",
    "    \"\"\"\n",
    "    kern = GPy.kern.RBF(2.0,lengthscale=25.0,variance=1.0)\n",
    "    errorlimit = ac_sens*4.0\n",
    "   \n",
    "    ####find sensitivity of the SSE (for each param combo)\n",
    "    #this call gets the sensivities not the scores:\n",
    "    #TODO This probably should be done locally as it's quick.\n",
    "    clf = GridSearchCV(estimator=DPCloaking(sensitivity=ac_sens, inducing=4, getxvalfoldsensitivities=True, kern=kern, errorlimit=errorlimit), param_grid=p_grid, cv = cv)\n",
    "    clf.fit(X,y)\n",
    "\n",
    "    nparamcombos = len(clf.cv_results_['mean_test_score'])\n",
    "    temp_sens = np.zeros([clf.cv,nparamcombos])\n",
    "    for k in range(clf.cv):\n",
    "        temp_sens[k,:] = clf.cv_results_['split%d_test_score' % k]\n",
    "    #sensitivity of the sum squared error:\n",
    "    #TODO Check this expression!\n",
    "    sse_sens = ac_sens**2 + 2*ac_sens*errorlimit + ac_sens**2*np.max(np.sum(np.sort(temp_sens,axis=0)[0:clf.cv-1,:],0))\n",
    "\n",
    "    ####find the SSE (for each param combo)\n",
    "    clf = GridSearchCV(estimator=DPCloaking(sensitivity=ac_sens, inducing=4, getxvalfoldsensitivities=False, kern=kern, errorlimit=errorlimit), param_grid=p_grid, cv = cv)\n",
    "    clf.fit(X,y)\n",
    "\n",
    "    nparamcombos = len(clf.cv_results_['mean_test_score'])\n",
    "    temp_scores = np.zeros([clf.cv,nparamcombos])\n",
    "    for k in range(clf.cv):\n",
    "        temp_scores[k,:] = clf.cv_results_['split%d_test_score' % k]\n",
    "    scores = np.sum(temp_scores,0)\n",
    "\n",
    "    ####compute the probability of selecting that param combo using the exponential mechanism\n",
    "    selection_epsilon = 1\n",
    "    param_probabilities = np.exp(selection_epsilon*scores / (2*sse_sens))\n",
    "    param_probabilities = param_probabilities / np.sum(param_probabilities)\n",
    "    \n",
    "    return param_probabilities\n",
    "\n",
    "def getscores(X,y,p_grid,cv):\n",
    "    \"\"\"\n",
    "    Compute the negative RMSE of each of the fold/param combos\n",
    "    \"\"\"\n",
    "    kern = GPy.kern.RBF(2.0,lengthscale=25.0,variance=1.0)\n",
    "\n",
    "    clf = GridSearchCV(estimator=DPCloaking(sensitivity=ac_sens, inducing=4, getxvalfoldsensitivities=False, kern=kern), scoring='neg_mean_squared_error', param_grid=p_grid, cv = cv)\n",
    "    clf.fit(X,y)\n",
    "\n",
    "    nparamcombos = len(clf.cv_results_['mean_test_score'])\n",
    "    scores = np.zeros([clf.cv,nparamcombos])\n",
    "    for k in range(clf.cv):\n",
    "        scores[k,:] = clf.cv_results_['split%d_test_score' % k]\n",
    "    return scores\n",
    "\n",
    "####Set up data and parameter search grid\n",
    "sensitivity = 100.0\n",
    "y,ac_sens,norm_params = dp_normalise(kung[kung[:,3]==0,0:1],sensitivity)\n",
    "X = kung[kung[:,3]==0,1:3]\n",
    "epsilon = 1.0\n",
    "delta = 0.01\n",
    "cv = 3\n",
    "p_grid = {\"lengthscale\":[], 'variance':[]}#, 'noisevariance':[]}\n",
    "for ls in 5.0**np.arange(0,2):\n",
    "    p_grid[\"lengthscale\"].append(ls)\n",
    "for v in 5.0**np.arange(-1,1):\n",
    "    p_grid[\"variance\"].append(v)\n",
    "    \n",
    "####Get the -RMSE for each fold/param-combo\n",
    "scores = getscores(X,y,p_grid,cv)\n",
    "\n",
    "from sklearn.model_selection import KFold\n",
    "\n",
    "\n",
    "kf = KFold(n_splits=cv)\n",
    "probabilities = []\n",
    "for train_index, test_index in kf.split(X):\n",
    "    X_train = X[train_index]\n",
    "    y_train = y[train_index]\n",
    "    probabilities.append(getprobabilities(X_train,y_train,p_grid,5))\n",
    "    \n",
    "print(np.array(probabilities))\n",
    "print(scores)\n",
    "print(np.sum(probabilities*-scores,1))\n",
    "print(np.mean(-scores,1))"
   ]
  },
  {
   "cell_type": "code",
   "execution_count": 3,
   "metadata": {},
   "outputs": [
    {
     "data": {
      "text/plain": [
       "array([[-0.60348814, -0.50939675, -0.65877968, -0.27725199],\n",
       "       [-0.65522194, -0.95756242, -0.58511046, -0.98094521],\n",
       "       [-1.8343872 , -1.9017283 , -1.55337318, -2.03818546]])"
      ]
     },
     "execution_count": 3,
     "metadata": {},
     "output_type": "execute_result"
    }
   ],
   "source": [
    "scores"
   ]
  },
  {
   "cell_type": "code",
   "execution_count": 4,
   "metadata": {},
   "outputs": [
    {
     "data": {
      "text/plain": [
       "[array([ 0.2780088 ,  0.2651039 ,  0.25994567,  0.19694163]),\n",
       " array([ 0.26712682,  0.23700197,  0.31964679,  0.17622442]),\n",
       " array([ 0.30261986,  0.27097601,  0.26606621,  0.16033791])]"
      ]
     },
     "execution_count": 4,
     "metadata": {},
     "output_type": "execute_result"
    }
   ],
   "source": [
    "probabilities"
   ]
  },
  {
   "cell_type": "code",
   "execution_count": null,
   "metadata": {
    "collapsed": true
   },
   "outputs": [],
   "source": []
  }
 ],
 "metadata": {
  "kernelspec": {
   "display_name": "Python 3",
   "language": "python",
   "name": "python3"
  },
  "language_info": {
   "codemirror_mode": {
    "name": "ipython",
    "version": 3
   },
   "file_extension": ".py",
   "mimetype": "text/x-python",
   "name": "python",
   "nbconvert_exporter": "python",
   "pygments_lexer": "ipython3",
   "version": "3.6.1"
  }
 },
 "nbformat": 4,
 "nbformat_minor": 2
}
