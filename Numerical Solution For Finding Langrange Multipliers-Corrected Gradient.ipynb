{
 "cells": [
  {
   "cell_type": "markdown",
   "metadata": {},
   "source": [
    "# Numerical Solution For Finding Langrange Multipliers\n"
   ]
  },
  {
   "cell_type": "code",
   "execution_count": 1,
   "metadata": {
    "collapsed": false
   },
   "outputs": [],
   "source": [
    "import numpy as np\n",
    "np.set_printoptions(suppress=True, precision=5)\n",
    "\n",
    "\n",
    "cs = []\n",
    "\n",
    "for i in range(10):\n",
    "    cs.append(np.random.randn(5,1))\n"
   ]
  },
  {
   "cell_type": "code",
   "execution_count": 44,
   "metadata": {
    "collapsed": false
   },
   "outputs": [
    {
     "name": "stdout",
     "output_type": "stream",
     "text": [
      "[ 0.50001  0.49999  0.5      0.49999  0.49998  0.49997  0.49998  0.49999\n",
      "  0.5      0.49999]\n",
      "0.22 0.79 0.61 1.01 1.59 1.91 1.67 1.05 0.29 0.87 -=-\n",
      "Ended before convergence\n",
      "Lambdas:\n",
      "[ 0.50557  0.494    0.49773  0.48964  0.47762  0.47075  0.47595  0.48882\n",
      "  0.50409  0.4925 ]\n",
      "Solutions to c^T M^-1 c (should all be 0<=x<=1)\n",
      "[[ 0.22346]]\n",
      "[[ 0.806]]\n",
      "[[ 0.61739]]\n",
      "[[ 1.02786]]\n",
      "[[ 1.65255]]\n",
      "[[ 2.02102]]\n",
      "[[ 1.74164]]\n",
      "[[ 1.0726]]\n",
      "[[ 0.29763]]\n",
      "[[ 0.88186]]\n"
     ]
    }
   ],
   "source": [
    "np.set_printoptions(suppress=True, precision=5)\n",
    "def calcM(ls,cs):\n",
    "    \"\"\"\n",
    "    Find the covariance matrix, M, as the lambda weighted sum of c c^T\n",
    "    \"\"\"\n",
    "    d = len(cs[0])\n",
    "    M = np.zeros([d,d])\n",
    "    ccTs = []\n",
    "    for l,c in zip(ls,cs):        \n",
    "        ccT = np.dot(c,c.T)\n",
    "        #print c,ccT,l,M\n",
    "        M = M + l*ccT       \n",
    "        ccTs.append(ccT)\n",
    "    return M\n",
    "\n",
    "def L(ls,cs):\n",
    "    \"\"\"\n",
    "    Find L = -log |M| + sum(lambda_i * (1-c^T M^-1 c))\n",
    "    \"\"\"\n",
    "    M = calcM(ls,cs)\n",
    "    Minv = np.linalg.inv(M)\n",
    "    #print M\n",
    "    #print np.linalg.det(M)\n",
    "    t = 0\n",
    "    for l,c in zip(ls,cs):        \n",
    "        t+=l * (1-np.trace(np.dot(np.dot(c,c.T),Minv)))\n",
    "    return -np.log(np.linalg.det(M)) + t\n",
    "\n",
    "def dL_dl(ls,cs):\n",
    "    \"\"\"\n",
    "    Find the gradient dL/dl_j = -Tr(M^-1 c_j c_j^T) + 1 - c^T M^-1 c\n",
    "    \"\"\"\n",
    "    M = calcM(ls,cs)\n",
    "    Minv = np.linalg.inv(M)\n",
    "\n",
    "    grads = []\n",
    "    for l,c in zip(ls,cs):\n",
    "        grad = -np.trace(np.dot(Minv,np.dot(c,c.T))) + (1-np.trace(np.dot(np.dot(c,c.T),Minv)))\n",
    "        grads.append(grad)\n",
    "       # print grad.shape\n",
    "    return np.array(grads)\n",
    "    \n",
    "    \n",
    "def findLambdas(cs):\n",
    "    \"\"\"\n",
    "    Gradient descent to find the lambda_is which maximise -log |sum(lambda_i c_i c_i^T)|\n",
    "    \n",
    "    Parameters:\n",
    "        cs = list of column vectors (these are the gradients of df*/df_i)\n",
    "    \n",
    "    Returns:\n",
    "        ls = vector of lambdas\n",
    "    \"\"\"\n",
    "    \n",
    "    #lambdas\n",
    "    ls = np.ones(len(cs))\n",
    "    M = calcM(ls,cs)\n",
    "    ls /= np.sum(ls)\n",
    "    ls *= np.linalg.matrix_rank(M)    \n",
    "\n",
    "\n",
    "    #learning rate\n",
    "    lr = 0.00001\n",
    "    #gradient descent\n",
    "    lsbefore = ls.copy()\n",
    "    Nits = 1000\n",
    "    for it in range(Nits): \n",
    "        delta_ls = dL_dl(ls,cs)*lr\n",
    "        #print ls\n",
    "        #print delta_ls.shape\n",
    "        ls =  ls + delta_ls\n",
    "        #print ls.shape\n",
    "        \n",
    "        \n",
    "     #   ls[ls>1.0] = 1.0\n",
    "     #   ls[ls<0.0] = 0.0\n",
    "     #   ls /= np.sum(ls)        \n",
    "     #   ls *= np.linalg.matrix_rank(M)\n",
    "        \n",
    "        #if (np.sum((lsbefore-ls)**2)<1e-10):\n",
    "        #    print \"Converged after %d iterations\" % it\n",
    "        #    break #reached ~maximum\n",
    "        #lsbefore = ls.copy()\n",
    "        if (it%10000) == 0:\n",
    "            M = calcM(ls,cs)\n",
    "            Minv = np.linalg.inv(M)\n",
    "            print ls           \n",
    "            for l,c in zip(ls,cs):\n",
    "                print(\"%0.2f\" % np.dot(np.dot(c.transpose(), Minv),c)[0,0]),\n",
    "            print \"-=-\"\n",
    "            \n",
    "    if it==Nits-1:\n",
    "        print \"Ended before convergence\"\n",
    "    \n",
    "    return ls\n",
    "\n",
    "ls = findLambdas(cs)       \n",
    "print \"Lambdas:\"\n",
    "print ls\n",
    "\n",
    "M = calcM(ls,cs)\n",
    "Minv = np.linalg.pinv(M)\n",
    "print \"Solutions to c^T M^-1 c (should all be 0<=x<=1)\"\n",
    "for l,c in zip(ls,cs):\n",
    "    print np.dot(np.dot(c.transpose(), Minv),c)\n",
    "    "
   ]
  },
  {
   "cell_type": "code",
   "execution_count": 45,
   "metadata": {
    "collapsed": false
   },
   "outputs": [
    {
     "data": {
      "text/plain": [
       "(5, 5)"
      ]
     },
     "execution_count": 45,
     "metadata": {},
     "output_type": "execute_result"
    }
   ],
   "source": [
    "M.shape"
   ]
  },
  {
   "cell_type": "code",
   "execution_count": 46,
   "metadata": {
    "collapsed": false
   },
   "outputs": [
    {
     "data": {
      "text/plain": [
       "5"
      ]
     },
     "execution_count": 46,
     "metadata": {},
     "output_type": "execute_result"
    }
   ],
   "source": [
    "np.linalg.matrix_rank(M)"
   ]
  },
  {
   "cell_type": "code",
   "execution_count": 47,
   "metadata": {
    "collapsed": false
   },
   "outputs": [],
   "source": [
    "ls=np.random.rand(len(ls))"
   ]
  },
  {
   "cell_type": "code",
   "execution_count": 48,
   "metadata": {
    "collapsed": false
   },
   "outputs": [
    {
     "name": "stdout",
     "output_type": "stream",
     "text": [
      ". . . . . . . . . . . . . . . . . . . . 0.699245544569\n",
      ". . . . . . . . . . . . . . . . . . . . -1.31148380335\n",
      ". . . . . . . . . . . . . . . . . . . . 0.512173945566\n",
      ". . . . . . . . . . . . . . . . . . . . -0.0702817601539\n",
      ". . . . . . . . . . . . . . . . . . . . 0.0770214148238\n",
      ". . . . . . . . . . . . . . . . . . . . -4.04344099965\n",
      ". . . . . . . . . . . . . . . . . . . . -3.07765476962\n",
      ". . . . . . . . . . . . . . . . . . . . 0.103421497855\n",
      ". . . . . . . . . . . . . . . . . . . . 0.742345523772\n",
      ". . . . . . . . . . . . . . . . . . . . -1.65357109007\n"
     ]
    }
   ],
   "source": [
    "d = 0.0001\n",
    "for i in range(len(ls)):\n",
    "    delta = np.zeros_like(ls)\n",
    "    delta[i]+=d\n",
    "    print (L(ls+delta,cs)-L(ls-delta,cs))/(2*d)"
   ]
  },
  {
   "cell_type": "code",
   "execution_count": 49,
   "metadata": {
    "collapsed": false
   },
   "outputs": [
    {
     "data": {
      "text/plain": [
       "array([ 0.39849, -3.62297,  0.02435, -1.14056, -0.84596, -9.08688,\n",
       "       -7.15531, -0.79316,  0.48469, -4.30714])"
      ]
     },
     "execution_count": 49,
     "metadata": {},
     "output_type": "execute_result"
    }
   ],
   "source": [
    "dL_dl(ls,cs)"
   ]
  },
  {
   "cell_type": "code",
   "execution_count": null,
   "metadata": {
    "collapsed": true
   },
   "outputs": [],
   "source": []
  }
 ],
 "metadata": {
  "kernelspec": {
   "display_name": "Python 2",
   "language": "python",
   "name": "python2"
  },
  "language_info": {
   "codemirror_mode": {
    "name": "ipython",
    "version": 2
   },
   "file_extension": ".py",
   "mimetype": "text/x-python",
   "name": "python",
   "nbconvert_exporter": "python",
   "pygments_lexer": "ipython2",
   "version": "2.7.12"
  }
 },
 "nbformat": 4,
 "nbformat_minor": 0
}
