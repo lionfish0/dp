{
 "cells": [
  {
   "cell_type": "markdown",
   "metadata": {},
   "source": [
    "# Numerical Solution For Finding Langrange Multipliers\n",
    "\n",
    "In this code we're looking at how to find the values of $\\lambda_i$.\n",
    "\n",
    "We start by defining a set of random c vectors:"
   ]
  },
  {
   "cell_type": "code",
   "execution_count": 3,
   "metadata": {
    "collapsed": false
   },
   "outputs": [],
   "source": [
    "import numpy as np\n",
    "np.set_printoptions(suppress=True, precision=5)\n",
    "\n",
    "\n",
    "cs = []\n",
    "\n",
    "for i in range(10):\n",
    "    cs.append(np.random.randn(7,1))"
   ]
  },
  {
   "cell_type": "markdown",
   "metadata": {},
   "source": [
    "Note 'ls' is the vector of $\\lambda$s:\n",
    "\n",
    "Here are functions to calculate M, L, dL/dl, one to check the gradient (which we call at the end with a random set of ls).\n",
    "\n",
    "Note: The functions are written to minimise $\\log |M|$ (useful for using the scipy minimize function)."
   ]
  },
  {
   "cell_type": "code",
   "execution_count": 4,
   "metadata": {
    "collapsed": false
   },
   "outputs": [
    {
     "name": "stdout",
     "output_type": "stream",
     "text": [
      "Value:\n",
      "-6.65549620755\n",
      "Approx\n",
      "[-0.71781 -0.35232 -6.99802  0.58674 -0.39791 -0.53393 -2.68435 -1.35602\n",
      " -0.68122 -0.54406]\n",
      "Analytical\n",
      "[-0.71781 -0.35232 -6.99802  0.58674 -0.39791 -0.53393 -2.68435 -1.35602\n",
      " -0.68122 -0.54406]\n",
      "Difference\n",
      "[-0. -0. -0. -0. -0. -0. -0. -0. -0. -0.]\n",
      "Ratio\n",
      "[ 1.  1.  1.  1.  1.  1.  1.  1.  1.  1.]\n"
     ]
    }
   ],
   "source": [
    "np.set_printoptions(suppress=True, precision=5)\n",
    "def calcM(ls,cs):\n",
    "    \"\"\"\n",
    "    Find the covariance matrix, M, as the lambda weighted sum of c c^T\n",
    "    \"\"\"\n",
    "    d = len(cs[0])\n",
    "    M = np.zeros([d,d])\n",
    "    ccTs = []\n",
    "    for l,c in zip(ls,cs):        \n",
    "        ccT = np.dot(c,c.T)\n",
    "        #print c,ccT,l,M\n",
    "        M = M + l*ccT       \n",
    "        ccTs.append(ccT)\n",
    "    return M\n",
    "\n",
    "def L(ls,cs):\n",
    "    \"\"\"\n",
    "    Find L = -log |M| + sum(lambda_i * (1-c^T M^-1 c))\n",
    "    \"\"\"\n",
    "    M = calcM(ls,cs)\n",
    "    Minv = np.linalg.pinv(M)\n",
    "    t = 0\n",
    "    for l,c in zip(ls,cs):        \n",
    "        t += l*(1-np.dot(np.dot(c.T,Minv),c))[0,0]\n",
    "\n",
    "    return (-np.log(np.linalg.det(M)) + t)\n",
    "    #return t\n",
    "\n",
    "#ignore this function (it was for testing)\n",
    "def shortened_L(ls,cs):\n",
    "    M = calcM(ls,cs)\n",
    "    return -(-np.log(np.linalg.det(M)))  \n",
    "\n",
    "def dL_dl(ls,cs):\n",
    "    \"\"\"\n",
    "    Find the gradient dL/dl_j\n",
    "    \"\"\"\n",
    "    M = calcM(ls,cs)\n",
    "    Minv = np.linalg.pinv(M)            \n",
    "    grads = np.zeros(len(ls))    \n",
    "    for j in range(len(cs)):        \n",
    "        grads[j] = -np.trace(np.dot(Minv,np.dot(cs[j],cs[j].T)))     \n",
    "    return np.array(grads)+1\n",
    "    \n",
    "def checkgrad(ls,cs):\n",
    "    approx_dL_dl = []\n",
    "    d = 0.0001\n",
    "    for i in range(len(ls)):\n",
    "        delta = np.zeros_like(ls)\n",
    "        delta[i]+=d\n",
    "        approx_dL_dl.append(((L(ls+delta,cs)-L(ls-delta,cs))/(2*d)))\n",
    "    approx_dL_dl = np.array(approx_dL_dl)\n",
    "\n",
    "    print \"Value:\"\n",
    "    print L(ls,cs)\n",
    "    print \"Approx\"\n",
    "    print approx_dL_dl\n",
    "    print \"Analytical\"\n",
    "    print dL_dl(ls,cs)\n",
    "\n",
    "    print \"Difference\"\n",
    "    print approx_dL_dl-dL_dl(ls,cs)\n",
    "    print \"Ratio\"\n",
    "    print approx_dL_dl/dL_dl(ls,cs)\n",
    "\n",
    "ls=np.random.rand(len(cs))\n",
    "\n",
    "checkgrad(ls,cs)"
   ]
  },
  {
   "cell_type": "markdown",
   "metadata": {},
   "source": [
    "The checkgrad function suggests the gradients are all computed correctly!\n",
    "\n",
    "In this part I try two ways of optimising,\n",
    "\n",
    "   1. using the scipy minimize function\n",
    "   \n",
    "   2. using my own optimiser"
   ]
  },
  {
   "cell_type": "code",
   "execution_count": 5,
   "metadata": {
    "collapsed": false
   },
   "outputs": [
    {
     "name": "stdout",
     "output_type": "stream",
     "text": [
      "7.99802014997\n",
      "Iteration limit exceeded    (Exit mode 9)\n",
      "            Current function value: -9.63990359477\n",
      "            Iterations: 101\n",
      "            Function evaluations: 1402\n",
      "            Gradient evaluations: 101\n",
      "Lambdas:\n",
      "[ 0.9614   0.13897  0.97277  0.      -0.       0.97788  1.00864  0.99754\n",
      "  1.00427  0.96032]\n",
      "7.02177262942\n",
      "Solutions to c^T M^-1 c (should all be 0<=x<=1)\n",
      "[[ 0.99912]]\n",
      "[[ 1.00029]]\n",
      "[[ 0.99096]]\n",
      "[[ 0.29621]]\n",
      "[[ 0.76422]]\n",
      "[[ 1.00011]]\n",
      "[[ 0.99121]]\n",
      "[[ 1.00072]]\n",
      "[[ 0.99533]]\n",
      "[[ 1.00058]]\n"
     ]
    },
    {
     "name": "stderr",
     "output_type": "stream",
     "text": [
      "/home/lionfish/anaconda2/lib/python2.7/site-packages/ipykernel/__main__.py:29: OptimizeWarning: Unknown solver options: xtol\n",
      "/home/lionfish/anaconda2/lib/python2.7/site-packages/ipykernel/__main__.py:26: RuntimeWarning: invalid value encountered in log\n"
     ]
    }
   ],
   "source": [
    "from scipy.optimize import minimize\n",
    "\n",
    "def maxcMinvc(ls,cs): #this allows us to enforce a bound on the max(c^T M^-1 c) <= 1 (over all c_i)\n",
    "    M = calcM(ls,cs)\n",
    "    Minv = np.linalg.pinv(M)\n",
    "    maxv = -np.Inf\n",
    "    for l,c in zip(ls,cs):\n",
    "        v = np.dot(np.dot(c.transpose(), Minv),c)\n",
    "        if v>maxv:\n",
    "            maxv = v\n",
    "    if np.isscalar(maxv):\n",
    "        return maxv\n",
    "    else:\n",
    "        return maxv[0,0]\n",
    "\n",
    "print maxcMinvc(ls,cs)\n",
    "\n",
    "def findLambdas(cs):\n",
    "    ls = np.random.rand(len(cs))+0.5\n",
    "    rank = np.min([len(cs),len(cs[0])])\n",
    "    \n",
    "    #other contstraints\n",
    "    #cons = ({'type': 'eq', 'fun' : lambda ls: np.sum(ls)-rank},{'type':'ineq','fun':lambda ls:np.min(ls)})\n",
    "    #cons = ({'type': 'eq', 'fun' : lambda ls: np.sum(ls)-rank},{'type':'ineq','fun':lambda ls:np.min(ls)},{'type':'ineq','fun':lambda ls:1-maxcMinvc(ls,cs)})\n",
    "    cons = ({'type':'ineq','fun':lambda ls:np.min(ls)},{'type':'ineq','fun':lambda ls:1-maxcMinvc(ls,cs)})\n",
    "    #cons = ()\n",
    "    #res = minimize(L, ls, args=(cs), method='BFGS', options={'xtol': 1e-8, 'disp': True})\n",
    "    #res = minimize(L, ls, args=(cs), method='nelder-mead', options={'xtol': 1e-8, 'disp': True})\n",
    "    res = minimize(L, ls, args=(cs), method='SLSQP', options={'xtol': 1e-8, 'disp': True}, constraints=cons)\n",
    "    #res = minimize(L, ls, args=(cs), method='TNC', options={'xtol': 1e-8, 'disp': True}, constraints=cons)\n",
    "    #res = minimize(L, ls, args=(cs), method='TNC', options={'xtol': 1e-8, 'disp': True}, constraints=cons, jac=dL_dl)\n",
    "    ls = res.x \n",
    "    return ls\n",
    "\n",
    "ls = findLambdas(cs)\n",
    "print \"Lambdas:\"\n",
    "print ls\n",
    "print np.sum(ls)\n",
    "\n",
    "M = calcM(ls,cs)\n",
    "Minv = np.linalg.pinv(M)\n",
    "print \"Solutions to c^T M^-1 c (should all be 0<=x<=1)\"\n",
    "for l,c in zip(ls,cs):\n",
    "    print np.dot(np.dot(c.transpose(), Minv),c)\n",
    "    "
   ]
  },
  {
   "cell_type": "markdown",
   "metadata": {},
   "source": [
    "Here's my own gradient descent method."
   ]
  },
  {
   "cell_type": "code",
   "execution_count": 6,
   "metadata": {
    "collapsed": false
   },
   "outputs": [
    {
     "name": "stdout",
     "output_type": "stream",
     "text": [
      "Lambdas:\n",
      "[ 0.95975  0.14205  0.96294  0.       0.       0.97757  0.99976  0.99822\n",
      "  0.99957  0.96014]\n",
      "Solutions to c^T M^-1 c (should all be 0<=x<=1)\n",
      "[[ 1.]]\n",
      "[[ 1.]]\n",
      "[[ 1.]]\n",
      "[[ 0.29717]]\n",
      "[[ 0.76416]]\n",
      "[[ 1.]]\n",
      "[[ 1.]]\n",
      "[[ 1.]]\n",
      "[[ 1.]]\n",
      "[[ 1.]]\n"
     ]
    }
   ],
   "source": [
    "def findLambdas(cs):\n",
    "    \"\"\"\n",
    "    Gradient descent to find the lambda_is\n",
    "    \n",
    "    Parameters:\n",
    "        cs = list of column vectors (these are the gradients of df*/df_i)\n",
    "    \n",
    "    Returns:\n",
    "        ls, storedls = vector of lambdas, and history of lambdas (for plotting)\n",
    "        \n",
    "    \"\"\"\n",
    "    \n",
    "    ls = np.ones(len(cs))*0.7\n",
    "    \n",
    "    #learning rate\n",
    "    lr = 0.01\n",
    "    Nits = 10000\n",
    "    storedls = np.zeros([Nits,len(ls)])\n",
    "    for it in range(Nits): \n",
    "        delta_ls = -dL_dl(ls,cs)*lr\n",
    "        ls =  ls + delta_ls\n",
    "        ls[ls<0] = 0\n",
    "        storedls[it,:] = ls\n",
    "    return ls, storedls\n",
    "\n",
    "ls, storedls = findLambdas(cs)       \n",
    "print \"Lambdas:\"\n",
    "print ls\n",
    "M = calcM(ls,cs)\n",
    "Minv = np.linalg.pinv(M)\n",
    "print \"Solutions to c^T M^-1 c (should all be 0<=x<=1)\"\n",
    "for l,c in zip(ls,cs):\n",
    "    print np.dot(np.dot(c.transpose(), Minv),c)\n",
    "    "
   ]
  },
  {
   "cell_type": "markdown",
   "metadata": {},
   "source": [
    "Pleasingly it matches the optimiser above (which uses approximations to the gradient)."
   ]
  },
  {
   "cell_type": "code",
   "execution_count": 7,
   "metadata": {
    "collapsed": false
   },
   "outputs": [
    {
     "data": {
      "image/png": "[encoded data removed]",
      "text/plain": [
       "<matplotlib.figure.Figure at 0x7f26059a4590>"
      ]
     },
     "metadata": {},
     "output_type": "display_data"
    },
    {
     "data": {
      "image/png": "[encoded data removed]",
      "text/plain": [
       "<matplotlib.figure.Figure at 0x7f2605869410>"
      ]
     },
     "metadata": {},
     "output_type": "display_data"
    }
   ],
   "source": [
    "import matplotlib.pyplot as plt\n",
    "%matplotlib inline\n",
    "\n",
    "\n",
    "cs = []\n",
    "\n",
    "for i in range(3):\n",
    "    cs.append(np.random.randn(2,1))\n",
    "ls, storedls = findLambdas(cs)       \n",
    "\n",
    "other = ls[2]\n",
    "xs = np.arange(0,2,0.02)\n",
    "ys = np.arange(0,2,0.02)\n",
    "X, Y = np.meshgrid(xs, ys)\n",
    "Z = []\n",
    "for xlist,ylist in zip(X,Y):\n",
    "    zlist = []\n",
    "    for x,y in zip(xlist,ylist):\n",
    "        zlist.append(L(np.array([x,y,other]),cs))\n",
    "    Z.append(zlist)\n",
    "Z = np.array(Z)\n",
    "\n",
    "CS = plt.contourf(X, Y, Z, np.arange(-4,4,0.2))\n",
    "cbar = plt.colorbar(CS)\n",
    "plt.plot(storedls[:,0],storedls[:,1])\n",
    "\n",
    "\n",
    "storedls = np.array(storedls)\n",
    "plt.figure()\n",
    "\n",
    "for dim in range(2):\n",
    "    plt.subplot(2,1,dim+1)\n",
    "    Z = []\n",
    "    for xlist,ylist in zip(X,Y):\n",
    "        zlist = []\n",
    "        for x,y in zip(xlist,ylist):\n",
    "            #try:\n",
    "            grad = dL_dl(np.array([x,y,other]),cs)\n",
    "            zlist.append(grad[dim])\n",
    "            #except:\n",
    "            #    zlist.append(np.nan)\n",
    "\n",
    "        Z.append(zlist)\n",
    "    Z = np.array(Z)\n",
    "\n",
    "    CS2 = plt.contourf(X, Y, Z, np.arange(-1,1,0.1))\n",
    "    cbar = plt.colorbar(CS2)\n",
    "    plt.axis('equal')\n",
    "    plt.plot(storedls[:,0],storedls[:,1])\n",
    "    "
   ]
  },
  {
   "cell_type": "markdown",
   "metadata": {},
   "source": [
    "The top figure is the values of L (over two values of $\\lambda$).\n",
    "The bottom two figures are the gradients of $L$, over two values of $lambda$. The first is the gradient wrt to $lambda$ on the x-axis, and the second wrt to the one on the y-axis. So you can see how it follows the gradient down (in this case) to the maximum of $L$, but with the constraint (artificially imposed) that the lambdas must be greater than (or equal to) zero.\n",
    "\n",
    "So in simple cases it seems to work!\n",
    "\n",
    "Below are examples of $c$ from real covariance functions, to investigate what structures they might have which cause a problem."
   ]
  },
  {
   "cell_type": "markdown",
   "metadata": {
    "collapsed": true
   },
   "source": [
    "## Problem c values\n",
    "\n",
    "The problem values of $\\mathbf{c}$ previously seemed to occur when I used 'realistic' values. But it may be the new code solves the previous problems. In particular I must have improved things as the new code doesn't require the sum of the lambdas to be enforced (to equal the rank).\n",
    "\n",
    "The vectors are the columns of:\n",
    "\n",
    "$$K_{*f} K^{-1}$$\n",
    "\n",
    "So we can produce some;"
   ]
  },
  {
   "cell_type": "code",
   "execution_count": 84,
   "metadata": {
    "collapsed": false
   },
   "outputs": [],
   "source": [
    "import numpy as np\n",
    "np.set_printoptions(suppress=True, precision=5)\n",
    "\n",
    "\n",
    "def k(x1,x2):\n",
    "    return np.exp(-(x1-x2)**2)\n",
    "\n",
    "X = np.arange(0,60,3.9)\n",
    "X[-1] = X[-2]+1e-10\n",
    "X[0:5] = X[10:15]\n",
    "Xstar = np.arange(50,55,0.2)\n",
    "\n",
    "Kstarf = np.zeros([len(Xstar),len(X)])\n",
    "for i,xstar in enumerate(Xstar):\n",
    "    for j,x in enumerate(X):\n",
    "        Kstarf[i,j] = k(x,xstar)\n",
    "        \n",
    "K = np.zeros([len(X),len(X)])\n",
    "for i,x1 in enumerate(X):\n",
    "    for j,x2 in enumerate(X):\n",
    "        K[i,j] = k(x1,x2)\n",
    "        \n",
    "K = K + np.eye(len(K))*0.0001\n",
    "C = np.dot(Kstarf,np.linalg.inv(K))\n",
    "\n",
    "cs = []\n",
    "for i in range(C.shape[1]):\n",
    "    cs.append(C[:,i][:,None])"
   ]
  },
  {
   "cell_type": "code",
   "execution_count": 85,
   "metadata": {
    "collapsed": false
   },
   "outputs": [
    {
     "name": "stdout",
     "output_type": "stream",
     "text": [
      "Lambdas:\n",
      "[ 0.       0.       0.5      0.5      0.50015  0.       0.       0.       0.\n",
      "  0.       0.       0.       0.5      0.5      0.49985  1.     ]\n",
      "Solutions to c^T M^-1 c (should all be 0<=x<=1)\n",
      "[[ 0.]]\n",
      "[[ 0.]]\n",
      "[[ 1.]]\n",
      "[[ 1.]]\n",
      "[[ 1.00001]]\n",
      "[[ 0.]]\n",
      "[[ 0.]]\n",
      "[[ 0.]]\n",
      "[[ 0.]]\n",
      "[[ 0.]]\n",
      "[[ 0.]]\n",
      "[[ 0.]]\n",
      "[[ 1.]]\n",
      "[[ 1.]]\n",
      "[[ 1.00001]]\n",
      "[[ 1.]]\n"
     ]
    }
   ],
   "source": [
    "ls, storedls = findLambdas(cs)\n",
    "print \"Lambdas:\"\n",
    "print ls\n",
    "M = calcM(ls,cs)\n",
    "Minv = np.linalg.pinv(M)\n",
    "print \"Solutions to c^T M^-1 c (should all be 0<=x<=1)\"\n",
    "for l,c in zip(ls,cs):\n",
    "    print np.dot(np.dot(c.transpose(), Minv),c)"
   ]
  },
  {
   "cell_type": "code",
   "execution_count": null,
   "metadata": {
    "collapsed": true
   },
   "outputs": [],
   "source": []
  }
 ],
 "metadata": {
  "kernelspec": {
   "display_name": "Python 2",
   "language": "python",
   "name": "python2"
  },
  "language_info": {
   "codemirror_mode": {
    "name": "ipython",
    "version": 2
   },
   "file_extension": ".py",
   "mimetype": "text/x-python",
   "name": "python",
   "nbconvert_exporter": "python",
   "pygments_lexer": "ipython2",
   "version": "2.7.12"
  }
 },
 "nbformat": 4,
 "nbformat_minor": 0
}
