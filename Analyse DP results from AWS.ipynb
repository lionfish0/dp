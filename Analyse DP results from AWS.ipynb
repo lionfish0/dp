{
 "cells": [
  {
   "cell_type": "code",
   "execution_count": 103,
   "metadata": {
    "collapsed": false
   },
   "outputs": [],
   "source": [
    "import glob\n",
    "import pandas as pd\n",
    "import numpy as np\n",
    "df = None\n",
    "for fname in glob.glob('results/results*.txt'):\n",
    "    newdf = pd.read_csv(fname,header=None,index_col=False,names=['epsilon','steps','-','no dp','-','integral','-','cloaking'])\n",
    "    if df is None:\n",
    "        df = newdf\n",
    "    else:\n",
    "        df = pd.concat([df,newdf])\n",
    "        #df.append(newdf, ignore_index=True)\n",
    "df.drop('-', axis=1, inplace=True)\n",
    "\n",
    "summary = {}\n",
    "nodp = df['no dp']\n",
    "summary['nodp'] = {'mean':np.mean(nodp), 'std':np.std(nodp), 'n':len(nodp)}\n",
    "summary['cloaking'] = {}\n",
    "summary['integral'] = {}\n",
    "\n",
    "for eps in df['epsilon'].unique():\n",
    "    cloaking = df[df['epsilon']==eps]['cloaking']\n",
    "    summary['cloaking'][eps] = {'mean':np.mean(cloaking), 'std':np.std(cloaking), 'n':len(cloaking)}\n",
    "    summary['integral'][eps] = {}\n",
    "    for step in df['steps'].unique():\n",
    "        integral = df[(df['epsilon']==eps) & (df['steps']==step)]['integral']\n",
    "        summary['integral'][eps][step] = {'mean':np.mean(integral), 'std':np.std(integral), 'n':len(integral)}"
   ]
  },
  {
   "cell_type": "code",
   "execution_count": 106,
   "metadata": {
    "collapsed": false
   },
   "outputs": [],
   "source": [
    "def add_ste(s):\n",
    "    s['ste'] = s['std']/np.sqrt(s['n'])\n",
    "    \n",
    "for k in summary['cloaking']:\n",
    "    add_ste(summary['cloaking'][k])\n",
    "        \n",
    "for k in summary['integral']:\n",
    "    for j in summary['integral'][k]:\n",
    "        add_ste(summary['integral'][k][j])\n",
    "\n",
    "add_ste(summary['nodp'])\n",
    "        \n"
   ]
  },
  {
   "cell_type": "code",
   "execution_count": 118,
   "metadata": {
    "collapsed": false
   },
   "outputs": [
    {
     "data": {
      "text/plain": [
       "array([ 1,  3,  6, 10])"
      ]
     },
     "execution_count": 118,
     "metadata": {},
     "output_type": "execute_result"
    }
   ],
   "source": []
  },
  {
   "cell_type": "code",
   "execution_count": 142,
   "metadata": {
    "collapsed": false,
    "scrolled": true
   },
   "outputs": [
    {
     "name": "stdout",
     "output_type": "stream",
     "text": [
      "\\begin{tabular}{ l l l l l l }\n",
      "\\hline\n",
      "Epsilon & Cloaking & \\multicolumn{4}{ c }{Binning with Integral Kernel} \\\\\n",
      " &  & 1 bin & 3 bins & 6 bins & 10 bins \\\\ \n",
      "\\hline\n",
      "$1.00$ & $0.89 \\pm 0.04$ & $1.00 \\pm 0.02$ & $1.30 \\pm 0.06$ & $1.30 \\pm 0.06$ & $1.17 \\pm 0.02$  \\\\\n",
      "$0.50$ & $1.21 \\pm 0.05$ & $1.01 \\pm 0.01$ & $1.35 \\pm 0.12$ & $1.44 \\pm 0.13$ & $1.34 \\pm 0.07$  \\\\\n",
      "$0.20$ & $2.40 \\pm 0.12$ & $1.02 \\pm 0.01$ & $2.74 \\pm 0.41$ & $2.21 \\pm 0.20$ & $1.64 \\pm 0.21$  \\\\\n",
      "$0.10$ & $4.82 \\pm 0.28$ & $0.99 \\pm 0.02$ & $4.59 \\pm 0.69$ & $3.91 \\pm 0.63$ & $2.68 \\pm 0.31$  \\\\\n",
      "$0.01$ & $48.44 \\pm 3.22$ & $1.05 \\pm 0.02$ & $13.65 \\pm 2.50$ & $28.13 \\pm 6.29$ & $22.72 \\pm 2.92$  \\\\\n",
      "\\hline\n",
      "\\end{tabular}\n",
      "\n"
     ]
    }
   ],
   "source": [
    "prepend = \"\\\\begin{tabular}{ l l l l l l }\\n\"\n",
    "prepend += \"\\\\hline\\n\"\n",
    "prepend += \"Epsilon & Cloaking & \\\\multicolumn{4}{ c }{Binning with Integral Kernel} \\\\\\\\\\n\"\n",
    "prepend += \" &  \"\n",
    "for step in np.sort(df['steps'].unique()):\n",
    "    if step==1:\n",
    "        add_s = \"\"\n",
    "    else:\n",
    "        add_s = \"s\"\n",
    "    prepend += \"& %d bin%s \" % (step,add_s)\n",
    "prepend += \"\\\\\\\\ \\n\"\n",
    "prepend += \"\\\\hline\\n\"\n",
    "append = \"\\\\hline\\n\"\n",
    "append += \"\\\\end{tabular}\\n\"\n",
    "rows = []\n",
    "for eps in np.sort(df['epsilon'].unique())[-1::-1]:\n",
    "    \n",
    "    row = \"\"\n",
    "    row += \"$%0.2f$ & $%0.2f \\\\pm %0.2f$ \" % (eps, summary['cloaking'][eps]['mean'], summary['cloaking'][eps]['ste'])\n",
    "    for step in np.sort(df['steps'].unique()):\n",
    "        row += \"& $%0.2f \\\\pm %0.2f$ \" % (summary['integral'][eps][step]['mean'], summary['integral'][eps][step]['ste'])\n",
    "    row += \" \\\\\\\\\"\n",
    "    rows.append(row)\n",
    "\n",
    "output = prepend + \"\\n\".join(rows) + \"\\n\" + append\n",
    " \n",
    "print output    "
   ]
  },
  {
   "cell_type": "code",
   "execution_count": 143,
   "metadata": {
    "collapsed": false
   },
   "outputs": [
    {
     "data": {
      "text/plain": [
       "{'mean': 0.66955978125,\n",
       " 'n': 320,\n",
       " 'std': 0.0859667785121942,\n",
       " 'ste': 0.0048056890139983616}"
      ]
     },
     "execution_count": 143,
     "metadata": {},
     "output_type": "execute_result"
    }
   ],
   "source": [
    "summary['nodp']"
   ]
  },
  {
   "cell_type": "code",
   "execution_count": null,
   "metadata": {
    "collapsed": true
   },
   "outputs": [],
   "source": []
  }
 ],
 "metadata": {
  "kernelspec": {
   "display_name": "Python 2",
   "language": "python",
   "name": "python2"
  },
  "language_info": {
   "codemirror_mode": {
    "name": "ipython",
    "version": 2
   },
   "file_extension": ".py",
   "mimetype": "text/x-python",
   "name": "python",
   "nbconvert_exporter": "python",
   "pygments_lexer": "ipython2",
   "version": "2.7.12"
  }
 },
 "nbformat": 4,
 "nbformat_minor": 0
}
