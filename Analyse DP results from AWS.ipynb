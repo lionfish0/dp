{
 "cells": [
  {
   "cell_type": "code",
   "execution_count": 1,
   "metadata": {
    "collapsed": false
   },
   "outputs": [],
   "source": [
    "import glob\n",
    "import pandas as pd\n",
    "import numpy as np\n",
    "df = None\n",
    "for fname in glob.glob('res/results*.txt'):\n",
    "    newdf = pd.read_csv(fname,sep=',', header=None,index_col=False,names=['sensitivity','ys_mean','ys_std','epsilon','steps','lengthscale','-','integral','-','cloaking'])\n",
    "    if df is None:\n",
    "        df = newdf\n",
    "    else:\n",
    "        df = pd.concat([df,newdf])\n",
    "        #df.append(newdf, ignore_index=True)\n",
    "#df.drop('-', axis=1, inplace=True)\n",
    "\n",
    "df.loc[df['sensitivity']<0.01,'epsilon'] = 10000\n",
    "#df = df[df['sensitivity']>0.001]\n",
    "df['integral'] = df['integral'] * df['ys_std']\n",
    "df['cloaking'] = df['cloaking'] * df['ys_std']\n",
    "\n",
    "summary = {}\n",
    "#nodp = df['no dp']\n",
    "#summary['nodp'] = {'mean':np.mean(nodp), 'std':np.std(nodp), 'n':len(nodp)}\n",
    "summary['cloaking'] = {}\n",
    "summary['integral'] = {}\n",
    "\n",
    "for eps in df['epsilon'].unique():\n",
    "    summary['cloaking'][eps] = {}\n",
    "    summary['integral'][eps] = {}\n",
    "    for ls in df['lengthscale'].unique():\n",
    "        cloaking = df[(df['epsilon']==eps) & (df['lengthscale']==ls)]['cloaking']\n",
    "        summary['cloaking'][eps][ls] = {'mean':np.mean(cloaking), 'std':np.std(cloaking), 'n':len(cloaking)}\n",
    "    for step in df['steps'].unique():\n",
    "        integral = df[(df['epsilon']==eps) & (df['steps']==step)]['integral']\n",
    "        summary['integral'][eps][step] = {'mean':np.mean(integral), 'std':np.std(integral), 'n':len(integral)}"
   ]
  },
  {
   "cell_type": "code",
   "execution_count": 2,
   "metadata": {
    "collapsed": false
   },
   "outputs": [],
   "source": [
    "def add_ste(s):\n",
    "    s['ste'] = s['std']/np.sqrt(s['n'])\n",
    "    \n",
    "for k in summary['cloaking']:\n",
    "    for l in summary['cloaking'][k]:\n",
    "        add_ste(summary['cloaking'][k][l])\n",
    "        \n",
    "for k in summary['integral']:\n",
    "    for l in summary['integral'][k]:\n",
    "        add_ste(summary['integral'][k][l])\n",
    "\n",
    "#add_ste(summary['nodp'])\n",
    "        \n"
   ]
  },
  {
   "cell_type": "code",
   "execution_count": 5,
   "metadata": {
    "collapsed": false
   },
   "outputs": [],
   "source": [
    "# values from simple histogram data\n",
    "means = np.array([[  542.67685719,   573.53396497,   704.89971696,  1344.05599004], [576.89537908,  1173.12983334,  2009.2342494 ,  4495.18246698],  [590.28755099,  1932.00996766,  3943.30129672,  8932.29461108]])\n",
    "stes = np.array([[   6.82008082,    8.30943982,   46.61052769,  117.33564275],[ 7.92886834,   60.26630375,  166.87342616,  335.84487673], [ 7.38250292,   84.90635307,  198.94210199,  466.69851184]])"
   ]
  },
  {
   "cell_type": "code",
   "execution_count": 11,
   "metadata": {
    "collapsed": false
   },
   "outputs": [
    {
     "name": "stdout",
     "output_type": "stream",
     "text": [
      "\\begin{tabular}{ l l l l l l }\n",
      "\\hline\n",
      " &  & No DP & $\\varepsilon = 1$ & $\\varepsilon = 0.5$ & $\\varepsilon = 0.2$ \\\\\n",
      " \\hline\n",
      "cloaking & l=0.125  & $402 \\pm 7$ & $437 \\pm 21$ & $476 \\pm 17$ & $758 \\pm 94$ \\\\\n",
      " & l=0.050  & $333 \\pm 11$ & $434 \\pm 27$ & $612 \\pm 78$ & $1163 \\pm 147$ \\\\\n",
      " & l=0.020  & $314 \\pm 12$ & $478 \\pm 22$ & $854 \\pm 54$ & $1868 \\pm 106$ \\\\\n",
      " \\hline\n",
      "integral binning & $10^4$ bins  & $580 \\pm 9$ & $599 \\pm 23$ & $608 \\pm 39$ & $882 \\pm 111$ \\\\\n",
      " & $6^4$ bins  & $642 \\pm 7$ & $652 \\pm 29$ & $726 \\pm 59$ & $948 \\pm 118$ \\\\\n",
      " & $3^4$ bins  & $639 \\pm 8$ & $687 \\pm 47$ & $756 \\pm 86$ & $1109 \\pm 143$ \\\\\n",
      " \\hline\n",
      "simple binning & $10^4$ bins  & $590 \\pm 14$ & $1932 \\pm 166$ & $3943 \\pm 390$ & $8932 \\pm 915$ \\\\\n",
      " & $6^4$ bins  & $577 \\pm 16$ & $1173 \\pm 118$ & $2009 \\pm 327$ & $4495 \\pm 658$ \\\\\n",
      " & $3^4$ bins  & $543 \\pm 13$ & $574 \\pm 16$ & $705 \\pm 91$ & $1344 \\pm 230$ \\\\\n",
      "\\hline\n",
      "\\end{tabular}\n",
      "\n"
     ]
    }
   ],
   "source": [
    "prepend = \"\\\\begin{tabular}{ l l l l l l }\\n\"\n",
    "prepend += \"\\\\hline\\n\"\n",
    "prepend += \" &  & No DP & $\\\\varepsilon = 1$ & $\\\\varepsilon = 0.5$ & $\\\\varepsilon = 0.2$ \\\\\\\\\\n\"\n",
    "prepend += \" \\\\hline\\n\"\n",
    "#prepend += \" &  \"\n",
    "#for step in np.sort(df['steps'].unique()):\n",
    "#    if step==1:\n",
    "#        add_s = \"\"\n",
    "#    else:\n",
    "#        add_s = \"s\"\n",
    "#    prepend += \"& %d bin%s \" % (step,add_s)\n",
    "#prepend += \"\\\\\\\\ \\n\"\n",
    "#prepend += \"\\\\hline\\n\"\n",
    "append = \"\\\\hline\\n\"\n",
    "append += \"\\\\end{tabular}\\n\"\n",
    "rows = []\n",
    "firstrow = True\n",
    "for ls in np.sort(df['lengthscale'].unique())[::-1]:\n",
    "    row = \"\"\n",
    "    if firstrow:\n",
    "        row += \"cloaking \"\n",
    "        firstrow = False\n",
    "    else:\n",
    "        row += \" \"\n",
    "    row += \"& l=%0.3f \" % (ls)\n",
    "    for eps in np.sort(df['epsilon'].unique())[::-1]:\n",
    "        row += \" & $%0.0f \\\\pm %0.0f$\" % (summary['cloaking'][eps][ls]['mean'], 1.96*summary['cloaking'][eps][ls]['ste'])\n",
    "    row += \" \\\\\\\\\"\n",
    "    rows.append(row)\n",
    "    \n",
    "rows.append(\" \\\\hline\")\n",
    "    \n",
    "firstrow = True\n",
    "for steps in np.sort(df['steps'].unique())[::-1]:\n",
    "    row = \"\"\n",
    "    if firstrow:\n",
    "        row += \"integral binning \"\n",
    "        firstrow = False\n",
    "    else:\n",
    "        row += \" \"\n",
    "    row += \"& $%d^4$ bins \" % (steps)\n",
    "    for eps in np.sort(df['epsilon'].unique())[::-1]:\n",
    "        row += \" & $%0.0f \\\\pm %0.0f$\" % (summary['integral'][eps][steps]['mean'], 1.96*summary['integral'][eps][steps]['ste'])\n",
    "    row += \" \\\\\\\\\"\n",
    "    rows.append(row)    \n",
    "    \n",
    "rows.append(\" \\\\hline\")\n",
    "    \n",
    "firstrow = True\n",
    "i = 2\n",
    "for steps in np.sort(df['steps'].unique())[::-1]:\n",
    "    j = 0\n",
    "    row = \"\"\n",
    "    if firstrow:\n",
    "        row += \"simple binning \"\n",
    "        firstrow = False\n",
    "    else:\n",
    "        row += \" \"\n",
    "    row += \"& $%d^4$ bins \" % (steps)\n",
    "    for eps in np.sort(df['epsilon'].unique())[::-1]:\n",
    "        row += \" & $%0.0f \\\\pm %0.0f$\" % (means[i][j],1.96*stes[i][j]) #these values are luckily in the right order to do this!\n",
    "        j+=1\n",
    "    row += \" \\\\\\\\\"\n",
    "    i-=1\n",
    "    rows.append(row)        \n",
    "\n",
    "output = prepend + \"\\n\".join(rows) + \"\\n\" + append\n",
    " \n",
    "print output    "
   ]
  },
  {
   "cell_type": "code",
   "execution_count": 56,
   "metadata": {
    "collapsed": false
   },
   "outputs": [
    {
     "data": {
      "text/plain": [
       "10"
      ]
     },
     "execution_count": 56,
     "metadata": {},
     "output_type": "execute_result"
    }
   ],
   "source": [
    "eps"
   ]
  },
  {
   "cell_type": "code",
   "execution_count": 85,
   "metadata": {
    "collapsed": false,
    "scrolled": true
   },
   "outputs": [
    {
     "name": "stdout",
     "output_type": "stream",
     "text": [
      "\\begin{tabular}{ l l l l l }\n",
      "\\hline\n",
      "Epsilon & Cloaking & \\multicolumn{3}{ c }{Binning with Integral Kernel} \\\\\n",
      " &  & 3 bins & 6 bins & 10 bins \\\\ \n",
      "\\hline\n",
      "\\multicolumn{5}{ c }{Lengthscale = 0.1250} \\\\\n",
      "$1.0$ & $437.2 \\pm 10.7$ & $641.4 \\pm 43.4$ & $648.3 \\pm 29.2$ & $626.7 \\pm 18.3$  \\\\\n",
      "$0.5$ & $475.9 \\pm 8.6$ & $784.1 \\pm 93.7$ & $668.3 \\pm 56.3$ & $599.5 \\pm 40.4$  \\\\\n",
      "$0.2$ & $758.4 \\pm 48.1$ & $1171.9 \\pm 111.5$ & $1098.4 \\pm 133.8$ & $937.1 \\pm 96.9$  \\\\\n",
      "\\multicolumn{5}{ c }{Lengthscale = 0.0500} \\\\\n",
      "$1.0$ & $433.6 \\pm 13.9$ & $734.8 \\pm 41.0$ & $643.1 \\pm 22.8$ & $585.3 \\pm 18.6$  \\\\\n",
      "$0.5$ & $612.5 \\pm 39.8$ & $742.4 \\pm 75.7$ & $757.3 \\pm 52.5$ & $633.7 \\pm 34.1$  \\\\\n",
      "$0.2$ & $1163.4 \\pm 74.8$ & $1132.9 \\pm 158.6$ & $880.6 \\pm 70.9$ & $877.7 \\pm 113.5$  \\\\\n",
      "\\multicolumn{5}{ c }{Lengthscale = 0.0200} \\\\\n",
      "$1.0$ & $478.0 \\pm 11.4$ & $685.8 \\pm 35.9$ & $665.6 \\pm 24.1$ & $586.7 \\pm 20.8$  \\\\\n",
      "$0.5$ & $853.6 \\pm 27.4$ & $741.9 \\pm 57.1$ & $751.6 \\pm 42.7$ & $589.1 \\pm 23.4$  \\\\\n",
      "$0.2$ & $1868.1 \\pm 53.9$ & $1035.7 \\pm 104.4$ & $884.8 \\pm 99.5$ & $832.6 \\pm 78.6$  \\\\\n",
      "\\hline\n",
      "\\end{tabular}\n",
      "\n"
     ]
    }
   ],
   "source": [
    "prepend = \"\\\\begin{tabular}{ l l l l l }\\n\"\n",
    "prepend += \"\\\\hline\\n\"\n",
    "prepend += \"Epsilon & Cloaking & \\\\multicolumn{3}{ c }{Binning with Integral Kernel} \\\\\\\\\\n\"\n",
    "prepend += \" &  \"\n",
    "for step in np.sort(df['steps'].unique()):\n",
    "    if step==1:\n",
    "        add_s = \"\"\n",
    "    else:\n",
    "        add_s = \"s\"\n",
    "    prepend += \"& %d bin%s \" % (step,add_s)\n",
    "prepend += \"\\\\\\\\ \\n\"\n",
    "prepend += \"\\\\hline\\n\"\n",
    "append = \"\\\\hline\\n\"\n",
    "append += \"\\\\end{tabular}\\n\"\n",
    "rows = []\n",
    "for ls in np.sort(df['lengthscale'].unique())[-1::-1]:\n",
    "    rows.append(\"\\\\multicolumn{5}{ c }{Lengthscale = %0.4f} \\\\\\\\\" % ls)\n",
    "    for eps in np.sort(df['epsilon'].unique())[-1::-1]:\n",
    "        row = \"\"\n",
    "        row += \"$%0.1f$ & $%0.1f \\\\pm %0.1f$ \" % (eps, summary['cloaking'][eps][ls]['mean'], summary['cloaking'][eps][ls]['ste'])\n",
    "        for step in np.sort(df['steps'].unique()):\n",
    "            row += \"& $%0.1f \\\\pm %0.1f$ \" % (summary['integral'][eps][ls][step]['mean'], summary['integral'][eps][ls][step]['ste'])\n",
    "\n",
    "            \n",
    "            \n",
    "        row += \" \\\\\\\\\"\n",
    "        rows.append(row)\n",
    "\n",
    "output = prepend + \"\\n\".join(rows) + \"\\n\" + append\n",
    " \n",
    "print output    "
   ]
  },
  {
   "cell_type": "code",
   "execution_count": null,
   "metadata": {
    "collapsed": true
   },
   "outputs": [],
   "source": []
  }
 ],
 "metadata": {
  "kernelspec": {
   "display_name": "Python 2",
   "language": "python",
   "name": "python2"
  },
  "language_info": {
   "codemirror_mode": {
    "name": "ipython",
    "version": 2
   },
   "file_extension": ".py",
   "mimetype": "text/x-python",
   "name": "python",
   "nbconvert_exporter": "python",
   "pygments_lexer": "ipython2",
   "version": "2.7.12"
  }
 },
 "nbformat": 4,
 "nbformat_minor": 0
}
