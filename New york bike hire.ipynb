{
 "cells": [
  {
   "cell_type": "markdown",
   "metadata": {},
   "source": [
    "# Applying DP to New York citibike data\n",
    "\n",
    "Here's a new demonstration of the methods described in our DP for GP paper. We use the citibike data.\n",
    "\n",
    "We'll bin the data into a histogram, with two axes: Time since start of week and Duration of bike ride.\n",
    "\n",
    "## Results Summary\n",
    "\n",
    "### Integral vs RBF kernel\n",
    "\n",
    "    Integral kernel works better maybe\n",
    "    \n",
    "I've found that the RBF kernel doesn't seem to converge properly. So I've had to fix the lengthscales etc (used the same values that the integral kernel converged to). Need to work on this and make it work properly.\n",
    "\n",
    "### Inducing inputs\n",
    "\n",
    "Inducing inputs help lots, but it does depend on the scale of the histogram grid and the distribution of the inducing inputs.\n",
    "\n",
    "## Load the data"
   ]
  },
  {
   "cell_type": "code",
   "execution_count": 1,
   "metadata": {
    "collapsed": false
   },
   "outputs": [],
   "source": [
    "import pandas\n",
    "from datetime import datetime\n",
    "import numpy as np\n",
    "import matplotlib.pyplot as plt\n",
    "%matplotlib inline\n",
    "\n",
    "full_df = pandas.read_csv('201606-citibike-tripdata.csv')#,nrows=1000000)"
   ]
  },
  {
   "cell_type": "code",
   "execution_count": 2,
   "metadata": {
    "collapsed": false
   },
   "outputs": [],
   "source": [
    "df = full_df[full_df['start station id']==300].copy() #380"
   ]
  },
  {
   "cell_type": "markdown",
   "metadata": {},
   "source": [
    "## Calculate 'hours since start of week'"
   ]
  },
  {
   "cell_type": "markdown",
   "metadata": {},
   "source": [
    "Finds the number of seconds since the start of the week (see 'seconds') and number of hours (see 'hours'). Also converts tripduration into hours instead of seconds."
   ]
  },
  {
   "cell_type": "code",
   "execution_count": 3,
   "metadata": {
    "collapsed": false
   },
   "outputs": [],
   "source": [
    "#seconds since start of week\n",
    "seconds = np.zeros(df.shape[0])\n",
    "dow = np.zeros(df.shape[0])\n",
    "for i,p in enumerate(df.iterrows()):\n",
    "    hiredatetime = datetime.strptime(p[1]['starttime'], '%m/%d/%Y %H:%M:%S')\n",
    "    midnight = hiredatetime.replace(hour=0, minute=0, second=0, microsecond=0)\n",
    "    dow[i] = hiredatetime.weekday()    \n",
    "    seconds[i] = (hiredatetime - midnight).seconds + dow[i]*(3600*24.0)\n",
    "df['seconds'] = seconds #total number of seconds\n",
    "df['hours'] = seconds/3600.0 #total number of hours\n",
    "df['dow'] = dow\n",
    "df['tripduration_hours'] = df['tripduration']/3600.0"
   ]
  },
  {
   "cell_type": "markdown",
   "metadata": {},
   "source": [
    "## Methods to analyse data\n",
    "\n",
    " - bin_dataframe: Given a dataframe and a list of dimensions to use, generate a histogram of data (and provide the bin boundaries etc).\n",
    " - buildlist: Produces a matrix. Each row describes one bin. Each pair of columns describes the bin edges in one dimension.\n",
    " - findcentres: Produces a matrix, in which each column is a bin centre.\n",
    " - get_Gaussian_DP_noise: Calculate the sigma (standard deviation) value for the specified DP parameters.\n",
    " - generate_Gaussian_DP_noise: Generates DP noises of the required scale and shape"
   ]
  },
  {
   "cell_type": "code",
   "execution_count": 4,
   "metadata": {
    "collapsed": false
   },
   "outputs": [],
   "source": [
    "def buildlist(bins):\n",
    "    #Produces a matrix. Each row describes one bin.\n",
    "    #bins: a list of D numpy arrays (one for each dimension),\n",
    "    #each one specifying the boundaries of each bin (Mx bins)\n",
    "    #e.g. [np.array([1,2,3]),np.array([4,6,8,10])]\n",
    "    #the arrays contain varying number of bin boundaries,\n",
    "    #M1+1,M2+1..MD+1\n",
    "    #\n",
    "    #outputs: a D dimensional array containing the values\n",
    "    #\n",
    "    #returns\n",
    "    #a matrix of size (M1*M2*...*MD) x (2*D)\n",
    "    #each row is one bin in the D-dimensional histogram\n",
    "    #each pair of columns are the boundary values of a bin\n",
    "    #in one dimension, so in the example above the result\n",
    "    #would be:\n",
    "    # 1 2 4  6\n",
    "    # 1 2 6  8\n",
    "    # 1 2 8 10\n",
    "    # 2 3 4  6\n",
    "    # 2 3 6  8\n",
    "    # 2 3 8 10\n",
    "    #M1=2, M2=3, so the matrix size is (2*3) x (2*2) = 6x4\n",
    "    #\n",
    "    #This is the same order of items that feeding the histogram\n",
    "    #into squeeze produces.\n",
    "    boundaries = None\n",
    "    for b1,b2 in zip(bins[0][0:-1],bins[0][1:]):\n",
    "        if len(bins)>1:\n",
    "            new = np.array(buildlist(bins[1:]))\n",
    "            old = np.repeat(np.array([b1,b2])[None,:],len(new),axis=0)\n",
    "            \n",
    "            newrows = np.hstack([old,new])\n",
    "            \n",
    "        else:\n",
    "            newrows = np.array([b1,b2])[None,:]\n",
    "        if boundaries is None:\n",
    "            boundaries = newrows\n",
    "            \n",
    "        else:\n",
    "            boundaries = np.vstack([boundaries,newrows])\n",
    "\n",
    "    return boundaries\n",
    "\n",
    "def findcentres(area_row_list):\n",
    "    #takes the matrix (Lx(2D)) buildlist returns and\n",
    "    #finds the mean of each pair of bin boundaries\n",
    "    #reults in an LxD matrix\n",
    "    #\n",
    "    #for the example given in buildlist's comment,\n",
    "    #the output of this function would be:\n",
    "    # 1.5 5\n",
    "    # 1.5 7\n",
    "    # 1.5 9\n",
    "    # 2.5 5\n",
    "    # 2.5 7\n",
    "    # 2.5 9\n",
    "\n",
    "    out = []\n",
    "    for d in range(0,area_row_list.shape[1],2):\n",
    "        out.append(np.mean(area_row_list[:,d:(d+2)],axis=1))\n",
    "    return(np.array(out).T)\n",
    "\n",
    "def get_Gaussian_DP_noise(epsilon,delta,sensitivity):\n",
    "    csqr = 2*np.log(1.25/delta)\n",
    "    sigma = np.sqrt(csqr)*sensitivity/epsilon\n",
    "    return sigma\n",
    "\n",
    "def generate_Gaussian_DP_noise(sigma,shape):\n",
    "    noise = np.random.normal(0,sigma,shape)\n",
    "    return noise\n",
    "\n",
    "def bin_dataframe(df,axes,verbose=True):\n",
    "#Bins the data in a dataframe, by the list of tuples in 'axes'.\n",
    "#each tuple specifies the name of a column and the range and step size to bin it with, e.g.:\n",
    "#[('seconds',0,24*3600,60*5),('gender',None,None,1)] or leave out the range,\n",
    "#and just provide a single step size, and let the tool decide on the bounds\n",
    "#\n",
    "#returns:\n",
    "#output = histogram\n",
    "#represent the data of the histogram in a list:\n",
    "#point_row_form = each row is one histogram cell's centroid location\n",
    "#area_row_form = each row is one histogram cell's location, with the bounds specified\n",
    "#output_row_form = each row is the value of that histogram cell\n",
    "#bins = list of arrays, each one a list of boundaries for each bin\n",
    "\n",
    "\n",
    "    bins = []\n",
    "    for i,axis in enumerate(axes):\n",
    "        column = axis[0]\n",
    "        start = axis[1]\n",
    "        end = axis[2]\n",
    "        step = axis[3]\n",
    "        if (start==None):\n",
    "            s = df[column]\n",
    "            s = s[~np.isnan(s)]\n",
    "            s = np.sort(s)\n",
    "            N = s.shape[0]\n",
    "            start = s[int(N*0.03)] #get rid of outliers\n",
    "            end = s[int(N*0.97)]\n",
    "            delta= (end-start)*0.04 #add 10% on each end, to catch any outside the range.\n",
    "            start -= delta\n",
    "            end += delta\n",
    "            #step = (end-start)/step            \n",
    "        axes[i] = column,start,end,step\n",
    "        bins.append(np.arange(start,end+step,step))\n",
    "    data = df[[axis[0] for axis in axes]].as_matrix()\n",
    "    \n",
    "    output = np.histogramdd(data,bins)[0]\n",
    "    if verbose:\n",
    "        bincount = np.prod([len(b)-1 for b in bins])\n",
    "        print(\"Bin count: %d\" % bincount)\n",
    "        datacount =  (df.shape[0])\n",
    "        print(\"Data Length: %d\" % datacount)\n",
    "        print(\"Average occupancy: %0.2f\" % (1.0*datacount/bincount))\n",
    "        print(\"%0.2f%% of data were not included.\" % (100*(1-(np.sum(output)/df.shape[0]))))\n",
    "    \n",
    "    area_row_form = buildlist(bins)\n",
    "    point_row_form = findcentres(area_row_form)\n",
    "    output_row_form = output.flatten() #TODO: CHECK ORDER IS CORRECT\n",
    "    #assert np.sum(output)==df.shape[0], \"Not all data points have been counted\"\n",
    "    return output,point_row_form,area_row_form,output_row_form,bins"
   ]
  },
  {
   "cell_type": "markdown",
   "metadata": {},
   "source": [
    "## Cycle hire times\n",
    "\n",
    "To give you an idea of cyclist hire times, here's a histogram!"
   ]
  },
  {
   "cell_type": "code",
   "execution_count": 5,
   "metadata": {
    "collapsed": false
   },
   "outputs": [
    {
     "data": {
      "image/png": "[encoded data removed]",
      "text/plain": [
       "<matplotlib.figure.Figure at 0x7f1347d37490>"
      ]
     },
     "metadata": {},
     "output_type": "display_data"
    }
   ],
   "source": [
    "%matplotlib inline\n",
    "plt.hist(seconds,range(0,24*60*60*7,60*60*1));"
   ]
  },
  {
   "cell_type": "markdown",
   "metadata": {},
   "source": [
    "## Analyse the data\n",
    "\n",
    "Here we specify the boundary list, and then produce a series of variables. We produce two similar sets, one is a 'lower resolution' histogram, containing larger bins. This is used to train the GPs. The second set has a higher resolution and is used to test the predictions.\n",
    "\n",
    "**output** is the binned data, while **point_row_form**, **area_row_form**, **output_row_form**, **bins** are other variables describing the shape of the binning. \n",
    "\n",
    "**output_test** and associated variables are from a similar analysis, but with smaller bin sizes.\n",
    "\n",
    "We train on the low-res data, and then test how well it predicts the hi-res data. We do this with the assumption that, in future, people will want to estimate the hi-res data using low-res binned data (e.g. from a differentially private treatment of a dataset)."
   ]
  },
  {
   "cell_type": "markdown",
   "metadata": {},
   "source": [
    "## Fit the two GP regression models\n",
    "\n",
    "Here we fit two GP regression models to the low-res binned data. One uses the 'rbf' kernel, while the other uses the 'integral' kernel.\n",
    "\n",
    "### Fit the integral model (held in 'm')"
   ]
  },
  {
   "cell_type": "code",
   "execution_count": 6,
   "metadata": {
    "collapsed": false
   },
   "outputs": [
    {
     "name": "stdout",
     "output_type": "stream",
     "text": [
      "Bin count: 168\n",
      "Data Length: 3891\n",
      "Average occupancy: 23.16\n",
      "0.59% of data were not included.\n",
      "Bin count: 1176\n",
      "Data Length: 3891\n",
      "Average occupancy: 3.31\n",
      "0.36% of data were not included.\n"
     ]
    }
   ],
   "source": [
    "import GPy\n",
    "#Get the distribution of histogram bins\n",
    "boundarylist = [('hours',0,24*7,3), ('tripduration_hours',0,1,20.0/60.0)]\n",
    "test_boundarylist = [('hours',0,24*7,1), ('tripduration_hours',0,1,10.0/60.0)]\n",
    "area = np.prod([b[3] for b in boundarylist])\n",
    "area_test = np.prod([b[3] for b in test_boundarylist])\n",
    "#get the actual histogram results\n",
    "output,point_row_form,area_row_form,output_row_form,bins = bin_dataframe(df,boundarylist)\n",
    "output_test,point_row_form_test,area_row_form_test,output_row_form_test,bins_test = bin_dataframe(df,test_boundarylist)\n",
    "\n",
    "#add the noise and normalise\n",
    "sigma = get_Gaussian_DP_noise(1.0,0.01,1.0)\n",
    "noisy_output = output_row_form + generate_Gaussian_DP_noise(sigma,len(output_row_form))\n",
    "normalisation_mean = np.mean(noisy_output)\n",
    "normalisation_std = np.std(noisy_output)\n",
    "noisy_output -= normalisation_mean\n",
    "noisy_output /= normalisation_std\n",
    "\n",
    "\n",
    "#initialise the INTEGRAL kernel\n",
    "init_length_scales = 0.02*np.array([np.max(b)-np.min(b) for b in bins])\n",
    "kernel = GPy.kern.Multidimensional_Integral_Limits(input_dim=area_row_form.shape[1], variances=5.0, lengthscale=init_length_scales)\n",
    "m = GPy.models.GPRegression(1.0*area_row_form,1.0*area*noisy_output[:,None],kernel)#,normalizer=True)\n",
    "m.integral.variances = 1.0\n",
    "m.Gaussian_noise.variance = 0.01\n",
    "\n",
    "#OPTIMISE the integral kernel\n",
    "m.optimize(messages=True)\n"
   ]
  },
  {
   "cell_type": "markdown",
   "metadata": {},
   "source": [
    "The integral model's lengthscales:"
   ]
  },
  {
   "cell_type": "code",
   "execution_count": 7,
   "metadata": {
    "collapsed": false
   },
   "outputs": [
    {
     "data": {
      "text/html": [
       "<style type=\"text/css\">\n",
       ".tg  {padding:2px 3px;word-break:normal;border-collapse:collapse;border-spacing:0;border-color:#DCDCDC;margin:0px auto;width:100%;}\n",
       ".tg td{font-family:\"Courier New\", Courier, monospace !important;font-weight:bold;color:#444;background-color:#F7FDFA;border-style:solid;border-width:1px;overflow:hidden;word-break:normal;border-color:#DCDCDC;}\n",
       ".tg th{font-family:\"Courier New\", Courier, monospace !important;font-weight:normal;color:#fff;background-color:#26ADE4;border-style:solid;border-width:1px;overflow:hidden;word-break:normal;border-color:#DCDCDC;}\n",
       ".tg .tg-left{font-family:\"Courier New\", Courier, monospace !important;font-weight:normal;text-align:left;}\n",
       ".tg .tg-right{font-family:\"Courier New\", Courier, monospace !important;font-weight:normal;text-align:right;}\n",
       "</style>\n",
       "<table class=\"tg\">\n",
       "\n",
       "<tr>\n",
       "  <th><b>index</b></th>\n",
       "  <th><b>GP_regression.integral.lengthscale</b></th>\n",
       "  <th><b>constraints</b></th><th><b>priors</b></th>\n",
       "</tr>\n",
       "<tr><td class=tg-left>  [0]  </td><td class=tg-right>                        4.41941936</td><td class=tg-left>    +ve    </td><td class=tg-left>      </td></tr>\n",
       "<tr><td class=tg-left>  [1]  </td><td class=tg-right>                        0.30015043</td><td class=tg-left>    +ve    </td><td class=tg-left>      </td></tr>"
      ],
      "text/plain": [
       "\u001b[1mGP_regression.integral.lengthscale\u001b[0;0m:\n",
       "Param([ 4.41941936,  0.30015043])"
      ]
     },
     "execution_count": 7,
     "metadata": {},
     "output_type": "execute_result"
    }
   ],
   "source": [
    "m.integral.lengthscale"
   ]
  },
  {
   "cell_type": "markdown",
   "metadata": {},
   "source": [
    "### Fit the RBF model"
   ]
  },
  {
   "cell_type": "code",
   "execution_count": 8,
   "metadata": {
    "collapsed": true
   },
   "outputs": [],
   "source": [
    "#initialise the RBF Kernel\n",
    "rbfkernel = GPy.kern.RBF(input_dim=point_row_form.shape[1], lengthscale=init_length_scales, ARD=True)\n",
    "m_rbf = GPy.models.GPRegression(1.0*point_row_form,1.0*noisy_output[:,None],rbfkernel)\n",
    "m_rbf.rbf.variance = 100.0\n",
    "m_rbf.rbf.lengthscale=[6.313,0.271] #TODO!! WHY DO WE HAVE TO SET THE LENGTHSCALE FOR THE RBF KERNEL!?!?!?!\n",
    "\n",
    "#Optimise the RBF kernel\n",
    "m_rbf.optimize(messages=True)"
   ]
  },
  {
   "cell_type": "markdown",
   "metadata": {},
   "source": [
    "## Assessment\n",
    "\n",
    "### Integral kernel\n",
    "\n",
    "First we plot the 'integral' kernel's fit. We plot it for short rides and long rides. Notice, short rides are more popular in the week, while long hires are more common at the weekend & longer ones are less popular in general."
   ]
  },
  {
   "cell_type": "code",
   "execution_count": 9,
   "metadata": {
    "collapsed": false
   },
   "outputs": [
    {
     "data": {
      "text/plain": [
       "<matplotlib.text.Text at 0x7f1342b460d0>"
      ]
     },
     "execution_count": 9,
     "metadata": {},
     "output_type": "execute_result"
    },
    {
     "name": "stderr",
     "output_type": "stream",
     "text": [
      " /home/lionfish/anaconda2/lib/python2.7/site-packages/matplotlib/figure.py:1718: UserWarning:This figure includes Axes that are not compatible with tight_layout, so its results might be incorrect.\n"
     ]
    },
    {
     "data": {
      "image/png": "[encoded data removed]",
      "text/plain": [
       "<matplotlib.figure.Figure at 0x7f1331cc3210>"
      ]
     },
     "metadata": {},
     "output_type": "display_data"
    },
    {
     "data": {
      "image/png": "[encoded data removed]",
      "text/plain": [
       "<matplotlib.figure.Figure at 0x7f1331be20d0>"
      ]
     },
     "metadata": {},
     "output_type": "display_data"
    }
   ],
   "source": [
    "m.plot(fixed_inputs=[(1,0),(2,5.0/60),(3,0)],plot_data=False)\n",
    "sel = point_row_form_test[:,1]==5.0/60\n",
    "plt.plot(point_row_form_test[sel,0],((output_row_form_test[sel]*area/area_test)-normalisation_mean)/normalisation_std,'x')\n",
    "#plt.ylim([0,area*0.005])\n",
    "#plt.xlim([0,60*60*7*24])\n",
    "plt.title('5 minute hires')\n",
    "\n",
    "m.plot(fixed_inputs=[(1,0),(2,45.0/60),(3,0)],plot_data=False)\n",
    "sel = point_row_form_test[:,1]==45.0/60\n",
    "plt.plot(point_row_form_test[sel,0],((output_row_form_test[sel]*area/area_test)-normalisation_mean)/normalisation_std,'x')\n",
    "#plt.ylim([0,area*0.005])\n",
    "#plt.xlim([0,60*60*7*24])\n",
    "plt.title('45 minute hires')"
   ]
  },
  {
   "cell_type": "markdown",
   "metadata": {},
   "source": [
    "### RBF Kernel\n",
    "\n",
    "Similarly we look at the results of using the rbf kernel:"
   ]
  },
  {
   "cell_type": "code",
   "execution_count": 10,
   "metadata": {
    "collapsed": false
   },
   "outputs": [
    {
     "data": {
      "text/plain": [
       "[<matplotlib.lines.Line2D at 0x7f1342e0ded0>]"
      ]
     },
     "execution_count": 10,
     "metadata": {},
     "output_type": "execute_result"
    },
    {
     "data": {
      "image/png": "[encoded data removed]",
      "text/plain": [
       "<matplotlib.figure.Figure at 0x7f1331cdba90>"
      ]
     },
     "metadata": {},
     "output_type": "display_data"
    },
    {
     "data": {
      "image/png": "[encoded data removed]",
      "text/plain": [
       "<matplotlib.figure.Figure at 0x7f13436bd110>"
      ]
     },
     "metadata": {},
     "output_type": "display_data"
    }
   ],
   "source": [
    "m_rbf.plot(fixed_inputs=[(1,5.0/60)],plot_data=False)\n",
    "sel = point_row_form_test[:,1]==5.0/60\n",
    "plt.plot(point_row_form_test[sel,0],((output_row_form_test[sel]*area/area_test)-normalisation_mean)/normalisation_std,'x')\n",
    "\n",
    "m_rbf.plot(fixed_inputs=[(1,45.0/60)],plot_data=False)\n",
    "sel = point_row_form_test[:,1]==45.0/60\n",
    "plt.plot(point_row_form_test[sel,0],((output_row_form_test[sel]*area/area_test)-normalisation_mean)/normalisation_std,'x')\n"
   ]
  },
  {
   "cell_type": "markdown",
   "metadata": {},
   "source": [
    "### RMSE\n",
    "\n",
    "Here we calculate the RMSE of the predictions of the two models, compared to the high-res 'test' histogram."
   ]
  },
  {
   "cell_type": "code",
   "execution_count": 11,
   "metadata": {
    "collapsed": false
   },
   "outputs": [],
   "source": [
    "## Find the sum squared error for the two methods\n",
    "sse = 0\n",
    "temp = []\n",
    "rbf_sse = 0\n",
    "for point_row,area_row,op in zip(point_row_form_test,area_row_form_test,output_row_form_test):\n",
    "    [int_mean,var] = m.predict_noiseless(np.array([area_row]))\n",
    "    int_mean = int_mean*normalisation_std + normalisation_mean\n",
    "    sse += (int_mean[0][0]-op*area/area_test)**2\n",
    "    [rbf_mean,var] = m_rbf.predict_noiseless(np.array([point_row]))\n",
    "    rbf_mean = rbf_mean*normalisation_std + normalisation_mean\n",
    "    rbf_sse += (rbf_mean[0][0]-op*area/area_test)**2"
   ]
  },
  {
   "cell_type": "code",
   "execution_count": 12,
   "metadata": {
    "collapsed": false
   },
   "outputs": [
    {
     "name": "stdout",
     "output_type": "stream",
     "text": [
      "Integral Kernel RMSE:   5.38\n",
      "     RBF Kernel RMSE:   8.45\n"
     ]
    }
   ],
   "source": [
    "print(\"Integral Kernel RMSE: %6.2f\" % (np.sqrt(sse)/len(output_row_form)))\n",
    "print(\"     RBF Kernel RMSE: %6.2f\" % (np.sqrt(rbf_sse)/len(output_row_form)))"
   ]
  },
  {
   "cell_type": "markdown",
   "metadata": {},
   "source": [
    "It seems out integral kernel is doing a much better job of fitting.\n",
    "\n",
    "But there's the problem with the RBF kernel's failure to estimate the lengthscale."
   ]
  },
  {
   "cell_type": "markdown",
   "metadata": {},
   "source": [
    "# Noise on the outputs (GP sensitivity)\n",
    "\n",
    "In this section we look at the results of applying DP directly to the GP."
   ]
  },
  {
   "cell_type": "code",
   "execution_count": 44,
   "metadata": {
    "collapsed": false
   },
   "outputs": [],
   "source": [
    "def k(x,xprime,l):\n",
    "    #kernel function: takes two values x and xprime, and finds the covariance between them.\n",
    "    #x, xprime = vectors each representing one point each (so Dx1)\n",
    "    #l = lengthscale vector (Dx1).\n",
    "    #returns a scalar value describing the covariance between these locations.\n",
    "    return np.exp(-.5*np.sum(((x-xprime)/l)**2))\n",
    "    #return m.kern.K(np.array([[x]]),np.array([[xprime]])) #could try using GPy kernels in future?\n",
    "\n",
    "def inf_norm(A):\n",
    "    #returns the infinity norm of A.\n",
    "    return np.max(np.sum(np.abs(A),1))\n",
    "\n",
    "def get_noise_scale(y,test_inputs,training_inputs,pseudo_inputs,lengthscales,sigma,verbose=False):\n",
    "    #Finds the infinity norm of the inverse covariance matrix\n",
    "    #and the infinity norm of the $Q^{-1} K_{uf} (\\Lambda + \\sigma^2 I)^{-1}$\n",
    "    #matrix (which relies on inducing inputs to reduce the value\n",
    "    #of this norm) See the Differentially Private Gaussian Processes\n",
    "    #paper and [1] for more details.\n",
    "    #\n",
    "    #This assumes we're using the RBF kernel. It also uses the lengthscales\n",
    "    #specified.\n",
    "    #\n",
    "    #[1] Hall, Rinaldo and Wasserman. DP for functions and functional data. \n",
    "    #Journal of Machine Learning Research 14.Feb (2013): 703-727.\n",
    "    #\n",
    "    #parameters:\n",
    "    #y = the output values (currently only handles single output functions)\n",
    "    #test_inputs = the input values to test with\n",
    "    #training_inputs = the training data (describes the GP)\n",
    "    #pseudo_inputs = the inducing inputs\n",
    "    #lengthscales = a vector of lengthscales (one for each input dimension)\n",
    "    #sigma = noise standard deviation.\n",
    "    #verbose (optional) = set to true for verbiage.\n",
    "    #\n",
    "    #returns:\n",
    "    # test_cov = the covariance matrix (based on the kernel and the\n",
    "    #            locations of the test inputs.\n",
    "    #\n",
    "    # normal_inf_norm = the infinity norm of the inverse covariance matrix\n",
    "    # pseudo_inf_norm = the equivalent when using inducing inputs\n",
    "\n",
    "    #normalise outputs (y): zero mean, unit variance\n",
    "    ymean = np.mean(y)\n",
    "    ystd = np.std(y)\n",
    "    y = y - ymean\n",
    "    y = y / ystd\n",
    "    sigma = sigma / ystd\n",
    "\n",
    "        \n",
    "    sigmasqr = sigma**2\n",
    "\n",
    "    #covariance between test inputs\n",
    "    print \"Calculating covariance between test inputs\"\n",
    "    sys.stdout.flush()\n",
    "    test_cov = np.zeros([len(test_inputs),len(test_inputs)])\n",
    "    for i,t_in1 in enumerate(test_inputs):\n",
    "        for j,t_in2 in enumerate(test_inputs):\n",
    "            test_cov[i,j] = k(t_in1,t_in2,lengthscales)\n",
    "\n",
    "    #covariance between training inputs and test inputs\n",
    "    print \"Calculating covariance between training inputs and test inputs\"\n",
    "    sys.stdout.flush()\n",
    "    K_Nstar = np.zeros([len(training_inputs),len(test_inputs)])\n",
    "    for i,t_in in enumerate(training_inputs):\n",
    "        for j,p_in in enumerate(test_inputs):\n",
    "            K_Nstar[i,j] = k(t_in,p_in,lengthscales)\n",
    "\n",
    "    #covariance between training inputs and pseudo inputs\n",
    "    print \"Calculating K_NM\"\n",
    "    sys.stdout.flush()\n",
    "    K_NM = np.zeros([len(training_inputs),len(pseudo_inputs)])\n",
    "    for i,t_in in enumerate(training_inputs):\n",
    "        for j,p_in in enumerate(pseudo_inputs):\n",
    "            K_NM[i,j] = k(t_in,p_in,lengthscales)\n",
    "\n",
    "    #covariance between pseudo inputs\n",
    "    print \"Calculating K_MM\"\n",
    "    sys.stdout.flush()\n",
    "    K_MM = np.zeros([len(pseudo_inputs),len(pseudo_inputs)])\n",
    "    for i,p_in1 in enumerate(pseudo_inputs):\n",
    "        for j,p_in2 in enumerate(pseudo_inputs):\n",
    "            K_MM[i,j] = k(p_in1,p_in2,lengthscales)\n",
    "    #K_MM += np.eye(len(pseudo_inputs))*10.0\n",
    "    invK_MM = np.linalg.inv(K_MM)\n",
    "\n",
    "    #covariance between training inputs\n",
    "    print \"Calculating K_NN\"\n",
    "    sys.stdout.flush()\n",
    "    K_NN = np.zeros([len(training_inputs),len(training_inputs)])\n",
    "    for i,t_in1 in enumerate(training_inputs):\n",
    "        for j,t_in2 in enumerate(training_inputs):\n",
    "            K_NN[i,j] = k(t_in1,t_in2,lengthscales)\n",
    "    #K_NN += np.eye(len(training_inputs))*10.0\n",
    "\n",
    "\n",
    "    #covariance between test inputs and pseudo inputs\n",
    "    print \"Calculating K_star\"\n",
    "    sys.stdout.flush()\n",
    "    K_star = np.zeros([len(test_inputs),len(pseudo_inputs)])\n",
    "    for i,t_in in enumerate(test_inputs):\n",
    "        for j,p_in in enumerate(pseudo_inputs):\n",
    "            K_star[i,j] = k(t_in,p_in,lengthscales)\n",
    "\n",
    "    #lambda values are the diagonal of the training input covariances minus \n",
    "    #(cov of training+pseudo).(inv cov of pseudo).(transpose of cov of training+pseudo)\n",
    "    print \"Calculating lambda\"\n",
    "    sys.stdout.flush()\n",
    "    lamb = np.zeros(len(training_inputs))\n",
    "    for i,t_in in enumerate(training_inputs):\n",
    "        lamb[i] = K_NN[i,i] - np.dot(np.dot(K_NM[i,:].T,invK_MM),K_NM[i,:])\n",
    "\n",
    "    #this finds (\\Lambda + \\sigma^2 I)^{-1}\n",
    "    invlambplussigma = np.diag(1.0/(lamb + sigmasqr)) #note diagonal so can do the inversion first\n",
    "    Q = K_MM + np.dot(np.dot(K_NM.T, invlambplussigma),K_NM)\n",
    "\n",
    "    if (verbose):\n",
    "        print K_star.shape\n",
    "        print Q.shape\n",
    "        print K_NM.shape\n",
    "        print invlambplussigma.shape\n",
    "        print y.shape\n",
    "\n",
    "    #find the mean at each test point\n",
    "    psuedo_mu = np.dot(np.dot(np.dot(np.dot(K_star, np.linalg.inv(Q)),K_NM.T),invlambplussigma),y)\n",
    "    normal_mu = np.dot(np.dot(K_Nstar.T,np.linalg.inv(K_NN+sigmasqr*np.eye(K_NN.shape[0]))),y)\n",
    "\n",
    "    #un-normalise our estimates of the mean (one using the pseudo inputs, and one using normal GP regression)\n",
    "    psuedo_mu = psuedo_mu * ystd\n",
    "    psuedo_mu = psuedo_mu + ymean\n",
    "    normal_mu = normal_mu * ystd\n",
    "    normal_mu = normal_mu + ymean\n",
    "    y = y * ystd\n",
    "    y = y + ymean\n",
    "\n",
    "    #find the covariance for the two methods (pseudo and normal)\n",
    "    K_pseudo = np.dot(np.dot(np.linalg.inv(Q),K_NM.T),invlambplussigma)\n",
    "    pseudo_inf_norm = inf_norm(K_pseudo)\n",
    "    K_normal = K_NN + sigma * np.eye(K_NN.shape[0])\n",
    "    normal_inf_norm = inf_norm(np.linalg.inv(K_normal))\n",
    "\n",
    "    if verbose:\n",
    "        print \"Pseudo Inputs\"\n",
    "        print \"The matrix to apply infinity norm\"\n",
    "        print K_pseudo.shape\n",
    "        print \"has infinity norm\"\n",
    "        print pseudo_inf_norm #max sum of a ROW\n",
    "        print \" \"\n",
    "        print \"Normal Inputs\"\n",
    "        print \"The matrix to apply infinity norm\"\n",
    "        print K_normal.shape\n",
    "        print \"has infinity norm\"\n",
    "        print normal_inf_norm\n",
    "        \n",
    "    return test_cov, normal_inf_norm, pseudo_inf_norm, normal_mu, psuedo_mu"
   ]
  },
  {
   "cell_type": "code",
   "execution_count": 45,
   "metadata": {
    "collapsed": false
   },
   "outputs": [
    {
     "name": "stdout",
     "output_type": "stream",
     "text": [
      "Bin count: 4032\n",
      "Data Length: 3891\n",
      "Average occupancy: 0.97\n",
      "0.59% of data were not included.\n",
      "Bin count: 119\n",
      "Data Length: 3891\n",
      "Average occupancy: 32.70\n",
      "0.36% of data were not included.\n",
      "Bin count: 252\n",
      "Data Length: 3891\n",
      "Average occupancy: 15.44\n",
      "0.59% of data were not included.\n"
     ]
    }
   ],
   "source": [
    "train_boundarylist = [('hours',0,24*7,0.5), ('tripduration_hours',0,1,5.0/60.0)]\n",
    "test_boundarylist = [('hours',0,24*7,10.0), ('tripduration_hours',0,1,10.0/60.0)]\n",
    "pseudo_boundarylist = [('hours',0,24*7,2), ('tripduration_hours',0,1,20.0/60.0)]\n",
    "output_train,point_row_form_train,area_row_form_train,output_row_form_train,bins = bin_dataframe(df,train_boundarylist)\n",
    "output_test,point_row_form_test,area_row_form_test,output_row_form_test,bins_test = bin_dataframe(df,test_boundarylist)\n",
    "output_pseudo,point_row_form_pseudo,area_row_form_pseudo,output_row_form_pseudo,bins_pseudo = bin_dataframe(df,pseudo_boundarylist)\n",
    "\n",
    "area_train = np.prod([b[3] for b in train_boundarylist])\n",
    "area_test = np.prod([b[3] for b in test_boundarylist])\n",
    "area_pseudo = np.prod([b[3] for b in pseudo_boundarylist])"
   ]
  },
  {
   "cell_type": "code",
   "execution_count": 46,
   "metadata": {
    "collapsed": false
   },
   "outputs": [
    {
     "data": {
      "text/plain": [
       "[<matplotlib.lines.Line2D at 0x7f132d07c590>]"
      ]
     },
     "execution_count": 46,
     "metadata": {},
     "output_type": "execute_result"
    },
    {
     "data": {
      "image/png": "[encoded data removed]",
      "text/plain": [
       "<matplotlib.figure.Figure at 0x7f132d4c7bd0>"
      ]
     },
     "metadata": {},
     "output_type": "display_data"
    }
   ],
   "source": [
    "plt.plot(output_row_form_test)"
   ]
  },
  {
   "cell_type": "code",
   "execution_count": 47,
   "metadata": {
    "collapsed": false
   },
   "outputs": [
    {
     "name": "stdout",
     "output_type": "stream",
     "text": [
      "Starting to get norms...\n",
      "\n",
      "Calculating covariance between test inputs\n",
      "Calculating covariance between training inputs and test inputs\n",
      "Calculating K_NM\n",
      "Calculating K_MM\n",
      "Calculating K_NN\n",
      "Calculating K_star\n",
      "Calculating lambda\n",
      "(119, 252)\n",
      "(252, 252)\n",
      "(4032, 252)\n",
      "(4032, 4032)\n",
      "(4032, 1)\n",
      "Pseudo Inputs\n",
      "The matrix to apply infinity norm\n",
      "(252, 4032)\n",
      "has infinity norm\n",
      "2.26763645415\n",
      " \n",
      "Normal Inputs\n",
      "The matrix to apply infinity norm\n",
      "(4032, 4032)\n",
      "has infinity norm\n",
      "9.91198831923\n",
      "Done\n"
     ]
    }
   ],
   "source": [
    "ysens = 1.0\n",
    "eps = 1.0\n",
    "delta = 0.01\n",
    "\n",
    "\n",
    "test_inputs = point_row_form_test\n",
    "training_inputs = point_row_form_train\n",
    "pseudo_inputs = point_row_form_pseudo\n",
    "lengthscales = [1.0,5.0/60.0] #length scales of 1 hour and 5 minutes\n",
    "sigma = 0.5 #?\n",
    "print \"Starting to get norms...\\n\"\n",
    "import sys \n",
    "sys.stdout.flush()\n",
    "y = output_row_form_train[:,None]\n",
    "test_cov, normal_inf_norm, pseudo_inf_norm, normal_mu, pseudo_mu = get_noise_scale(y,test_inputs,training_inputs,pseudo_inputs,lengthscales,sigma,verbose=True)\n",
    "print \"Done\"\n",
    "sys.stdout.flush()\n"
   ]
  },
  {
   "cell_type": "code",
   "execution_count": 82,
   "metadata": {
    "collapsed": false
   },
   "outputs": [
    {
     "name": "stdout",
     "output_type": "stream",
     "text": [
      "Normal GP, RMSE 2.029 (0.000)\n",
      "No  DP GP, RMSE 32.207 (0.584)\n",
      "Pseudo GP, RMSE 1.764 (0.000)\n",
      "Ps  DP GP, RMSE 7.585 (0.143)\n"
     ]
    }
   ],
   "source": [
    "normal_gp_sses = []\n",
    "pseudo_gp_sses = []\n",
    "dp_normal_gp_sses = []\n",
    "dp_pseudo_gp_sses = []\n",
    "for sample in range(10):\n",
    "    G = np.random.multivariate_normal(np.zeros(len(test_inputs)),test_cov)\n",
    "\n",
    "    dp_normal_mu = normal_mu + G*ysens*np.sqrt(2*np.log(2/delta))*normal_inf_norm/eps\n",
    "    dp_pseudo_mu = pseudo_mu + G*ysens*np.sqrt(2*np.log(2/delta))*pseudo_inf_norm/eps\n",
    "    \n",
    "    corrected_output_test = output_row_form_test *area_train/area_test #correct for size of bin difference.\n",
    "    normal_gp_sses.append(np.sqrt(np.mean((normal_mu - corrected_output_test)**2)))\n",
    "    pseudo_gp_sses.append(np.sqrt(np.mean((pseudo_mu - corrected_output_test)**2)))\n",
    "    dp_normal_gp_sses.append(np.sqrt(np.mean((dp_normal_mu - corrected_output_test)**2)))\n",
    "    dp_pseudo_gp_sses.append(np.sqrt(np.mean((dp_pseudo_mu - corrected_output_test)**2)))\n",
    "print \"Normal GP, RMSE %0.3f (%0.3f)\" % (np.mean(normal_gp_sses),np.std(normal_gp_sses)/np.sqrt(len(normal_gp_sses)))\n",
    "print \"No  DP GP, RMSE %0.3f (%0.3f)\" % (np.mean(dp_normal_gp_sses),np.std(dp_normal_gp_sses)/np.sqrt(len(dp_normal_gp_sses)))\n",
    "print \"Pseudo GP, RMSE %0.3f (%0.3f)\" % (np.mean(pseudo_gp_sses),np.std(pseudo_gp_sses)/np.sqrt(len(pseudo_gp_sses)))\n",
    "print \"Ps  DP GP, RMSE %0.3f (%0.3f)\" % (np.mean(dp_pseudo_gp_sses),np.std(dp_pseudo_gp_sses)/np.sqrt(len(dp_pseudo_gp_sses)))"
   ]
  },
  {
   "cell_type": "markdown",
   "metadata": {},
   "source": [
    "Here we can see that the Pseudo input (inducing input) GP has best results (when DP is applied).\n",
    "\n",
    "Normal GP (With DP): 89.4 vs Inducing input GP (with DP): 81.9.\n",
    "\n",
    "TODO I need to look into why these numbers are so big compared to the earlier analysis. Might be the GPs haven't fitted?"
   ]
  },
  {
   "cell_type": "code",
   "execution_count": 55,
   "metadata": {
    "collapsed": false
   },
   "outputs": [
    {
     "data": {
      "text/plain": [
       "array([ 0.08333333,  0.25      ,  0.41666667,  0.58333333,  0.75      ,\n",
       "        0.91666667,  1.08333333,  0.08333333,  0.25      ,  0.41666667,\n",
       "        0.58333333,  0.75      ,  0.91666667,  1.08333333,  0.08333333,\n",
       "        0.25      ,  0.41666667,  0.58333333,  0.75      ,  0.91666667,\n",
       "        1.08333333,  0.08333333,  0.25      ,  0.41666667,  0.58333333,\n",
       "        0.75      ,  0.91666667,  1.08333333,  0.08333333,  0.25      ,\n",
       "        0.41666667,  0.58333333,  0.75      ,  0.91666667,  1.08333333,\n",
       "        0.08333333,  0.25      ,  0.41666667,  0.58333333,  0.75      ,\n",
       "        0.91666667,  1.08333333,  0.08333333,  0.25      ,  0.41666667,\n",
       "        0.58333333,  0.75      ,  0.91666667,  1.08333333,  0.08333333,\n",
       "        0.25      ,  0.41666667,  0.58333333,  0.75      ,  0.91666667,\n",
       "        1.08333333,  0.08333333,  0.25      ,  0.41666667,  0.58333333,\n",
       "        0.75      ,  0.91666667,  1.08333333,  0.08333333,  0.25      ,\n",
       "        0.41666667,  0.58333333,  0.75      ,  0.91666667,  1.08333333,\n",
       "        0.08333333,  0.25      ,  0.41666667,  0.58333333,  0.75      ,\n",
       "        0.91666667,  1.08333333,  0.08333333,  0.25      ,  0.41666667,\n",
       "        0.58333333,  0.75      ,  0.91666667,  1.08333333,  0.08333333,\n",
       "        0.25      ,  0.41666667,  0.58333333,  0.75      ,  0.91666667,\n",
       "        1.08333333,  0.08333333,  0.25      ,  0.41666667,  0.58333333,\n",
       "        0.75      ,  0.91666667,  1.08333333,  0.08333333,  0.25      ,\n",
       "        0.41666667,  0.58333333,  0.75      ,  0.91666667,  1.08333333,\n",
       "        0.08333333,  0.25      ,  0.41666667,  0.58333333,  0.75      ,\n",
       "        0.91666667,  1.08333333,  0.08333333,  0.25      ,  0.41666667,\n",
       "        0.58333333,  0.75      ,  0.91666667,  1.08333333])"
      ]
     },
     "execution_count": 55,
     "metadata": {},
     "output_type": "execute_result"
    }
   ],
   "source": [
    "point_row_form_test[:,1]"
   ]
  },
  {
   "cell_type": "code",
   "execution_count": 81,
   "metadata": {
    "collapsed": false
   },
   "outputs": [
    {
     "data": {
      "text/plain": [
       "[<matplotlib.lines.Line2D at 0x7f132c236bd0>]"
      ]
     },
     "execution_count": 81,
     "metadata": {},
     "output_type": "execute_result"
    },
    {
     "data": {
      "image/png": "[encoded data removed]",
      "text/plain": [
       "<matplotlib.figure.Figure at 0x7f132c236d90>"
      ]
     },
     "metadata": {},
     "output_type": "display_data"
    }
   ],
   "source": [
    "sel = point_row_form_test[:,1]==0.25\n",
    "plt.plot(point_row_form_test[sel,0],normal_mu[sel],'.')\n",
    "plt.plot(point_row_form_test[sel,0],output_row_form_test[sel]*area_train/area_test,'x',markersize=5)\n",
    "\n",
    "#sel = point_row_form_train[:,1]==0.125\n",
    "#plt.plot(point_row_form_train[sel,0],output_row_form_train[sel],'x',markersize=1)"
   ]
  },
  {
   "cell_type": "code",
   "execution_count": 60,
   "metadata": {
    "collapsed": false
   },
   "outputs": [
    {
     "data": {
      "text/plain": [
       "40.0"
      ]
     },
     "execution_count": 60,
     "metadata": {},
     "output_type": "execute_result"
    }
   ],
   "source": [
    "area_test/area_train"
   ]
  },
  {
   "cell_type": "code",
   "execution_count": 73,
   "metadata": {
    "collapsed": false
   },
   "outputs": [
    {
     "data": {
      "text/plain": [
       "3877.0"
      ]
     },
     "execution_count": 73,
     "metadata": {},
     "output_type": "execute_result"
    }
   ],
   "source": [
    "np.sum(output_row_form_test)"
   ]
  },
  {
   "cell_type": "code",
   "execution_count": 75,
   "metadata": {
    "collapsed": false
   },
   "outputs": [
    {
     "data": {
      "text/plain": [
       "(119,)"
      ]
     },
     "execution_count": 75,
     "metadata": {},
     "output_type": "execute_result"
    }
   ],
   "source": [
    "output_row_form_test.shape"
   ]
  },
  {
   "cell_type": "code",
   "execution_count": 74,
   "metadata": {
    "collapsed": false
   },
   "outputs": [
    {
     "data": {
      "text/plain": [
       "3868.0"
      ]
     },
     "execution_count": 74,
     "metadata": {},
     "output_type": "execute_result"
    }
   ],
   "source": [
    "np.sum(output_row_form_train)"
   ]
  },
  {
   "cell_type": "code",
   "execution_count": 76,
   "metadata": {
    "collapsed": false
   },
   "outputs": [
    {
     "data": {
      "text/plain": [
       "(4032,)"
      ]
     },
     "execution_count": 76,
     "metadata": {},
     "output_type": "execute_result"
    }
   ],
   "source": [
    "output_row_form_train.shape"
   ]
  },
  {
   "cell_type": "code",
   "execution_count": null,
   "metadata": {
    "collapsed": true
   },
   "outputs": [],
   "source": []
  }
 ],
 "metadata": {
  "kernelspec": {
   "display_name": "Python 2",
   "language": "python",
   "name": "python2"
  },
  "language_info": {
   "codemirror_mode": {
    "name": "ipython",
    "version": 2
   },
   "file_extension": ".py",
   "mimetype": "text/x-python",
   "name": "python",
   "nbconvert_exporter": "python",
   "pygments_lexer": "ipython2",
   "version": "2.7.12"
  }
 },
 "nbformat": 4,
 "nbformat_minor": 0
}
