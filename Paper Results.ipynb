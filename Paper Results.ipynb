{
 "cells": [
  {
   "cell_type": "markdown",
   "metadata": {},
   "source": [
    "# Experimental Results for Paper"
   ]
  },
  {
   "cell_type": "code",
   "execution_count": 1,
   "metadata": {
    "collapsed": false
   },
   "outputs": [
    {
     "name": "stdout",
     "output_type": "stream",
     "text": [
      "warning in stationary: failed to import cython module: falling back to numpy\n"
     ]
    }
   ],
   "source": [
    "import dp4gp_datasets\n",
    "import dp4gp\n",
    "import random\n",
    "import numpy as np\n",
    "import GPy\n",
    "import matplotlib.pyplot as plt\n",
    "import dp4gp_histogram\n",
    "import pandas as pd\n",
    "%matplotlib inline"
   ]
  },
  {
   "cell_type": "markdown",
   "metadata": {},
   "source": [
    "## House prices"
   ]
  },
  {
   "cell_type": "markdown",
   "metadata": {},
   "source": [
    "\n",
    "Skip this if you want, and load precomputed data from the csv file below:"
   ]
  },
  {
   "cell_type": "code",
   "execution_count": 2,
   "metadata": {
    "collapsed": false,
    "scrolled": true
   },
   "outputs": [],
   "source": [
    "#dp4gp_datasets.prepare_preloaded_prices('test.csv', boundingbox=[480e3, 130e3, 580e3, 230e3], N=10000, col_list=['QS501EW'])"
   ]
  },
  {
   "cell_type": "markdown",
   "metadata": {},
   "source": [
    "Load precomputed dataset:"
   ]
  },
  {
   "cell_type": "code",
   "execution_count": 3,
   "metadata": {
    "collapsed": false
   },
   "outputs": [],
   "source": [
    "import pandas as pd\n",
    "dataset = pd.read_csv('price_dataset10k.csv') #london, 10k purchases"
   ]
  },
  {
   "cell_type": "markdown",
   "metadata": {},
   "source": [
    "Reduce the size of the dataset and split into training and test data:"
   ]
  },
  {
   "cell_type": "code",
   "execution_count": 4,
   "metadata": {
    "collapsed": false
   },
   "outputs": [],
   "source": [
    "#dataset = dataset[dataset['years']>2005]\n",
    "dataset = dataset.ix[random.sample(dataset.index, 500)]"
   ]
  },
  {
   "cell_type": "markdown",
   "metadata": {},
   "source": [
    "Get it into a form we'll be able to predict over"
   ]
  },
  {
   "cell_type": "code",
   "execution_count": 5,
   "metadata": {
    "collapsed": false
   },
   "outputs": [],
   "source": [
    "#east, north, time, education -> price\n",
    "inputs = np.vstack([dataset['easting'].values,dataset['northing'].values,dataset['seconds'].values,(dataset['QS501EW_6']/dataset['QS501EW_0']).values]).T\n",
    "#training_inputs = training_inputs[:,0:3]\n",
    "ys = dataset['price'].values\n",
    "\n",
    "training_inputs = inputs[0:-100,:]\n",
    "training_ys = ys[0:-100]\n",
    "test_inputs = inputs[-100:,:]\n",
    "test_ys = ys[-100:]"
   ]
  },
  {
   "cell_type": "code",
   "execution_count": 58,
   "metadata": {
    "collapsed": false
   },
   "outputs": [],
   "source": [
    "#squash data into £0k-£1M range\n",
    "training_ys[training_ys>1e6] = 1e6\n",
    "training_ys[training_ys<0] = 0\n",
    "sens = 1e6-0\n",
    "\n",
    "def get_cloaking_prediction(training_inputs, training_ys, test_inputs, sens, eps, delta):\n",
    "    rbf = GPy.kern.RBF(training_inputs.shape[1],1000e3,[5e3,5e3,50*31536000,5.0],ARD=True)\n",
    "    mod = GPy.models.GPRegression(training_inputs,training_ys,rbf)\n",
    "    mod.Gaussian_noise = 2000e3\n",
    "    dpgp = dp4gp.DPGP_cloaking(mod,sens,eps,delta)\n",
    "    preds, mu, cov = dpgp.draw_prediction_samples(test_inputs,1,1,10)\n",
    "    return preds, cov\n",
    "    \n",
    "def get_integral_prediction(training_inputs, training_ys, test_inputs, sens, eps, delta):\n",
    "    Xtest, free_inputs, step = dp4gp.compute_Xtest(training_inputs,steps=10)\n",
    "    dpgp = dp4gp_histogram.DPGP_histogram(sens,eps,delta)\n",
    "    dpgp.prepare_model(Xtest,training_inputs,step,ys,lengthscale=[3e3,3e3])\n",
    "    #dpgp.optimize()\n",
    "    dpgp.model.optimize(max_iters=10,messages=True)\n",
    "    preds, cov = dpgp.draw_prediction_samples(test_inputs)\n",
    "    return preds, cov\n",
    "\n",
    "def get_standard_prediction(training_inputs, training_ys, test_inputs, sens, eps, delta):\n",
    "    rbf = GPy.kern.RBF(training_inputs.shape[1],1000e3,[5e3,5e3,50*31536000,5.0],ARD=True)\n",
    "    mod = GPy.models.GPRegression(training_inputs,training_ys,rbf)\n",
    "    mod.Gaussian_noise = 2000e3\n",
    "    dpgp = dp4gp.DPGP_normal_prior(mod,sens,eps,delta)\n",
    "    preds, mu, cov = dpgp.draw_prediction_samples(test_inputs,1)\n",
    "    return preds, cov\n",
    "\n",
    "def get_pseudo_prediction(training_inputs, training_ys, test_inputs, sens, eps, delta):\n",
    "    rbf = GPy.kern.RBF(training_inputs.shape[1],1000e3,[5e3,5e3,50*31536000,5.0],ARD=True)\n",
    "    print training_ys.ndim\n",
    "    print training_inputs.shape\n",
    "    mod = GPy.models.SparseGPRegression(training_inputs,training_ys,kernel=rbf,num_inducing=40) #no idea how many inducing!\n",
    "    mod.inference_method = GPy.inference.latent_function_inference.FITC()\n",
    "    mod.set_Z(training_inputs[0:40,:]) #grab random inputs as pseudoinputs\n",
    "    mod.Gaussian_noise = 2000e3    \n",
    "    dpgp = dp4gp.DPGP_pseudo_prior(mod,sens,eps,delta)\n",
    "    preds, mu, cov = dpgp.draw_prediction_samples(test_inputs,1)\n",
    "    return preds, cov"
   ]
  },
  {
   "cell_type": "code",
   "execution_count": 59,
   "metadata": {
    "collapsed": false
   },
   "outputs": [
    {
     "name": "stdout",
     "output_type": "stream",
     "text": [
      "(100, 400)\n",
      "*\n",
      ". . . . . . . . . . Stopped before convergence\n",
      "(1000000.0, 3.2552472614374586, array([[ 1.18160085]]), 1.0, 3.9257908262295129e-249)\n",
      "2\n",
      "(400, 4)\n"
     ]
    }
   ],
   "source": [
    "fns = [get_cloaking_prediction,get_pseudo_prediction,get_standard_prediction,get_integral_prediction]\n",
    "labels = [\"Cloaking\",\"Pseudo\",\"Standard\",\"Integral\"]\n",
    "results = []\n",
    "for fn,label in zip(fns,labels):\n",
    "    preds, cov = fn(training_inputs,training_ys[:,None],test_inputs,sens,1.0,0.01)\n",
    "    RMSE = np.sqrt(np.mean((test_ys-preds)**2))\n",
    "    results.append({'label':label, 'preds':preds, 'cov':cov, 'RMSE':RMSE})"
   ]
  },
  {
   "cell_type": "code",
   "execution_count": 60,
   "metadata": {
    "collapsed": false
   },
   "outputs": [
    {
     "name": "stdout",
     "output_type": "stream",
     "text": [
      "Cloaking 752907.946882\n",
      "Pseudo 369261.55233\n",
      "Standard 353688.293534\n",
      "Integral 347599.372364\n"
     ]
    }
   ],
   "source": [
    "for r in results:\n",
    "    print r['label'],r['RMSE']"
   ]
  },
  {
   "cell_type": "markdown",
   "metadata": {},
   "source": [
    "### Other code"
   ]
  },
  {
   "cell_type": "code",
   "execution_count": null,
   "metadata": {
    "collapsed": false
   },
   "outputs": [],
   "source": [
    "plt.figure(figsize=[13,10])\n",
    "plt.errorbar(test_ys,preds,1.96*np.sqrt(np.diag(cov)),fmt=None,color='k',alpha=0.2)\n",
    "plt.plot(test_ys,preds,'+k')\n",
    "plt.xlim([0,1e6])\n",
    "plt.ylim([0,1e6])\n",
    "plt.plot([0,1e6],[0,1e6],'k-')"
   ]
  },
  {
   "cell_type": "code",
   "execution_count": null,
   "metadata": {
    "collapsed": false
   },
   "outputs": [],
   "source": [
    "#dpgp.plot(fixed_inputs=[(2,np.mean(training_inputs[:,2])), (3,np.mean(training_inputs[:,3]))],steps=12)"
   ]
  },
  {
   "cell_type": "code",
   "execution_count": null,
   "metadata": {
    "collapsed": true
   },
   "outputs": [],
   "source": []
  }
 ],
 "metadata": {
  "kernelspec": {
   "display_name": "Python 2",
   "language": "python",
   "name": "python2"
  },
  "language_info": {
   "codemirror_mode": {
    "name": "ipython",
    "version": 2
   },
   "file_extension": ".py",
   "mimetype": "text/x-python",
   "name": "python",
   "nbconvert_exporter": "python",
   "pygments_lexer": "ipython2",
   "version": "2.7.12"
  }
 },
 "nbformat": 4,
 "nbformat_minor": 0
}
