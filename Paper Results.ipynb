{
 "cells": [
  {
   "cell_type": "markdown",
   "metadata": {},
   "source": [
    "# Experimental Results for Paper"
   ]
  },
  {
   "cell_type": "code",
   "execution_count": 2,
   "metadata": {
    "collapsed": false
   },
   "outputs": [],
   "source": [
    "import dp4gp_datasets\n",
    "import dp4gp\n",
    "import random\n",
    "import numpy as np\n",
    "import GPy\n",
    "import matplotlib.pyplot as plt\n",
    "import dp4gp_histogram\n",
    "import pandas as pd\n",
    "%matplotlib inline"
   ]
  },
  {
   "cell_type": "markdown",
   "metadata": {},
   "source": [
    "## House prices"
   ]
  },
  {
   "cell_type": "code",
   "execution_count": 3,
   "metadata": {
    "collapsed": false,
    "scrolled": true
   },
   "outputs": [],
   "source": [
    "def get_house_prices():\n",
    "    #Skip this if you want, and load precomputed data from the csv file below:\n",
    "    #dp4gp_datasets.prepare_preloaded_prices('test.csv', boundingbox=[480e3, 130e3, 580e3, 230e3], N=10000, col_list=['QS501EW'])\n",
    "    #Load precomputed dataset:\n",
    "    dataset = pd.read_csv('price_dataset10k.csv') #london, 10k purchases\n",
    "\n",
    "    #Reduce the size of the dataset and split into training and test data:\n",
    "    random.seed(123)\n",
    "    #dataset = dataset[dataset['years']>2005]\n",
    "    dataset = dataset.ix[random.sample(dataset.index, 200)]\n",
    "\n",
    "    #get into useful form\n",
    "    #east, north, time, education -> price\n",
    "    inputs = np.vstack([dataset['easting'].values,dataset['northing'].values,dataset['seconds'].values,(dataset['QS501EW_6']/dataset['QS501EW_0']).values]).T\n",
    "\n",
    "    #inputs = inputs[:,0:2]\n",
    "    ys = dataset['price'].values\n",
    "    \n",
    "    return inputs, ys"
   ]
  },
  {
   "cell_type": "code",
   "execution_count": 4,
   "metadata": {
    "collapsed": true
   },
   "outputs": [],
   "source": [
    "def get_citibike_data():\n",
    "    allcb = dp4gp_datasets.load_citibike(station=None)\n",
    "    subcb = allcb[allcb['usertype']=='Subscriber']\n",
    "    random.seed(123)\n",
    "\n",
    "    cb = subcb.ix[random.sample(subcb.index, 5000)]\n",
    "    inputs = np.c_[cb['start station latitude'],cb['end station latitude'],cb['start station longitude'],cb['end station longitude']]\n",
    "    ys = cb['tripduration'].values\n",
    "    \n",
    "    return inputs, ys"
   ]
  },
  {
   "cell_type": "code",
   "execution_count": 5,
   "metadata": {
    "collapsed": false
   },
   "outputs": [],
   "source": [
    "\n",
    "def get_noDP_prediction(training_inputs, training_ys, test_inputs, sens, eps, delta,noise,modvar,kernval,kern_ls,steps):\n",
    "    rbf = GPy.kern.RBF(training_inputs.shape[1],kernvar, kern_ls,ARD=True)\n",
    "    mod = GPy.models.GPRegression(training_inputs,training_ys,rbf)\n",
    "    mod.Gaussian_noise = noise\n",
    "    dpgp = dp4gp.DPGP_cloaking(mod,sens,eps,delta)\n",
    "    preds, mu, cov = dpgp.draw_prediction_samples(test_inputs,1,1,0)\n",
    "    return mu, None\n",
    "\n",
    "\n",
    "def get_cloaking_prediction(training_inputs, training_ys, test_inputs, sens, eps, delta,noise,modvar,kernval,kern_ls,steps):\n",
    "    rbf = GPy.kern.RBF(training_inputs.shape[1],kernvar, kern_ls,ARD=True)\n",
    "    #rbf = GPy.kern.RBF(training_inputs.shape[1],modvar,[5e3,5e3],ARD=True)\n",
    "    mod = GPy.models.GPRegression(training_inputs,training_ys,rbf)\n",
    "    mod.Gaussian_noise = noise\n",
    "    dpgp = dp4gp.DPGP_cloaking(mod,sens,eps,delta)\n",
    "    preds, mu, cov = dpgp.draw_prediction_samples(test_inputs,1,1,1000)\n",
    "    return preds, cov\n",
    "    \n",
    "def get_integral_prediction(training_inputs, training_ys, test_inputs, sens, eps, delta,noise,modvar,kernval,kern_ls,steps):\n",
    "    Xtest, free_inputs, step = dp4gp.compute_Xtest(training_inputs,steps=steps)\n",
    "    print step\n",
    "    dpgp = dp4gp_histogram.DPGP_histogram(sens,eps,delta)\n",
    "    dpgp.prepare_model(Xtest,training_inputs,step,training_ys,lengthscale=kern_ls)\n",
    "    #dpgp.optimize()\n",
    "    dpgp.model.optimize(messages=True)\n",
    "    preds, cov = dpgp.draw_prediction_samples(test_inputs)\n",
    "    return preds, cov\n",
    "\n",
    "def get_standard_prediction(training_inputs, training_ys, test_inputs, sens, eps, delta,noise,modvar,kernval,kern_ls,steps):\n",
    "    rbf = GPy.kern.RBF(training_inputs.shape[1],kernvar,kern_ls,ARD=True)\n",
    "    mod = GPy.models.GPRegression(training_inputs,training_ys,rbf)\n",
    "    mod.Gaussian_noise = noise\n",
    "    dpgp = dp4gp.DPGP_normal_prior(mod,sens,eps,delta)\n",
    "    preds, mu, cov = dpgp.draw_prediction_samples(test_inputs,1)\n",
    "    return preds, cov\n",
    "\n",
    "def get_pseudo_prediction(training_inputs, training_ys, test_inputs, sens, eps, delta,noise,modvar,kernval,kern_ls,steps):\n",
    "    rbf = GPy.kern.RBF(training_inputs.shape[1],kernvar,kern_ls,ARD=True)\n",
    "    print training_ys.ndim\n",
    "    print training_inputs.shape\n",
    "    mod = GPy.models.SparseGPRegression(training_inputs,training_ys,kernel=rbf,num_inducing=40) #no idea how many inducing!\n",
    "    mod.inference_method = GPy.inference.latent_function_inference.FITC()\n",
    "    mod.set_Z(training_inputs[0:40,:]) #grab random inputs as pseudoinputs\n",
    "    mod.Gaussian_noise = noise  \n",
    "    dpgp = dp4gp.DPGP_pseudo_prior(mod,sens,eps,delta)\n",
    "    preds, mu, cov = dpgp.draw_prediction_samples(test_inputs,1)\n",
    "    return preds, cov"
   ]
  },
  {
   "cell_type": "code",
   "execution_count": 18,
   "metadata": {
    "collapsed": false
   },
   "outputs": [
    {
     "name": "stdout",
     "output_type": "stream",
     "text": [
      "(100, 4900)\n",
      "*\n",
      "Stopped before convergence\n",
      "(3.9836146099035994, 3.2552472614374586, array([[ 1.26196074]]), 0.01, 0.0)\n",
      "[ 0.12933827  0.12996228  0.10469202  0.15097224]\n",
      "(100, 4900)\n",
      "*\n",
      ". . . . . . . . . . . . . . . . . . . . . . . . . . . . . . . . . . . . . . . . . . . . . . . . . . . . . . . . . . . . . . . . . . . . . . . . . . . . . . . . . . . . . . . . . . . . . . . . . . . . . . . . . . . . . . . . . . . . . . . . . . . . . . . . . . . . . . . . . . . . . . . . . . . . . . . . . . . . . . . . . . . . . . . . . . . . . . . . . . . . . . . . . . . . . . . . . . . . . . . . . . . . . . . . . . . . . . . . . . . . . . . . . . . . . . . . . . . . . . . . . . . . . . . . . . . . . . . . . . . . . . . . . . . . . . . . . . . . . . . . . . . . . . . . . . . . . . . . . . . . . . . . . . . . . . . . . . . . . . . . . . . . . . . . . . . . . . . . . . . . . . . . . . . . . . . . . . . . . . . . . . . . . . . . . . . . . . . . . . . . . . . . . . . . . . . . . . . . . . . . . . . . . . . . . . . . . . . . . . . . . . . . . . . . . . . . . . . . . . . . . . . . . . . . . . . . . . . . . . . . . . . . . . . . . . . . . . . . . . . . . . . . . . . . . . . . . . . . . . . . . . . . . . . . . . . . . . . . . . . . . . . . . . . . . . . . . . . . . . . . . . . . . . . . . . . . . . . . . . . . . . . . . . . . . . . . . . . . . . . . . . . . . . . . . . . . . . . . . . . . . . . . . . . . . . . . . . . . . . . . . . . . . . . . . . . . . . . . . . . . . . . . . . . . . . . . . . . . . . . . . . . . . . . . . . . . . . . . . . . . . . . . . . . . . . . . . . . . . . . . . . . . . . . . . . . . . . . . . . . . . . . . . . . . . . . . . . . . . . . . . . . . . . . . . . . . . . . . . . . . . . . . . . . . . . . . . . . . . . . . . . . . . . . . . . . . . . . . . . . . . . . . . . . . . . . . . . . . . . . . . . . . . . . . . . . . . . . . . . . . . . . . . . . . . . . . . . . . . . . . . . . . . . . . . . . . . . . . . . . . . . . . . . . . . . . . . . . . . . . . . . . . . . . . . . . . . . . . . . . . . . . . . . . . . . . . . . . . . . . . . . . . . . . . . . . . . . . . . . . . . . . . . . . . . . . . . . . . . . . . . . . . . . . . . . . . . . . . . . . . Stopped before convergence\n",
      "(3.9836146099035994, 3.2552472614374586, array([[ 0.99914446]]), 0.01, 0.0)\n",
      "EPSILON = 0.010\n",
      "STEPS = 1.000\n",
      "No DP 0.675569194489\n",
      "Integral 1.06756258984\n",
      "Cloaking 20.8986052641\n",
      "(100, 4900)\n",
      "*\n",
      "Stopped before convergence\n",
      "(3.9836146099035994, 3.2552472614374586, array([[ 1.26196074]]), 0.1, 0.0)\n",
      "[ 0.12933827  0.12996228  0.10469202  0.15097224]\n",
      "(100, 4900)\n",
      "*\n",
      ". . . . . . . . . . . . . . . . . . . . . . . . . . . . . . . . . . . . . . . . . . . . . . . . . . . . . . . . . . . . . . . . . . . . . . . . . . . . . . . . . . . . . . . . . . . . . . . . . . . . . . . . . . . . . . . . . . . . . . . . . . . . . . . . . . . . . . . . . . . . . . . . . . . . . . . . . . . . . . . . . . . . . . . . . . . . . . . . . . . . . . . . . . . . . . . . . . . . . . . . . . . . . . . . . . . . . . . . . . . . . . . . . . . . . . . . . . . . . . . . . . . . . . . . . . . . . . . . . . . . . . . . . . . . . . . . . . . . . . . . . . . . . . . . . . . . . . . . . . . . . . . . . . . . . . . . . . . . . . . . . . . . . . . . . . . . . . . . . . . . . . . . . . . . . . . . . . . . . . . . . . . . . . . . . . . . . . . . . . . . . . . . . . . . . . . . . . . . . . . . . . . . . . . . . . . . . . . . . . . . . . . . . . . . . . . . . . . . . . . . . . . . . . . . . . . . . . . . . . . . . . . . . . . . . . . . . . . . . . . . . . . . . . . . . . . . . . . . . . . . . . . . . . . . . . . . . . . . . . . . . . . . . . . . . . . . . . . . . . . . . . . . . . . . . . . . . . . . . . . . . . . . . . . . . . . . . . . . . . . . . . . . . . . . . . . . . . . . . . . . . . . . . . . . . . . . . . . . . . . . . . . . . . . . . . . . . . . . . . . . . . . . . . . . . . . . . . . . . . . . . . . . . . . . . . . . . . . . . . . . . . . . . . . . . . . . . . . . . . . . . . . . . . . . . . . . . . . . . . . . . . . . . . . . . . . . . . . . . . . . . . . . . . . . . . . . . . . . . . . . . . . . . . . . . . . . . . . . . . . . . . . . . . . . . . . . . . . . . . . . . . . . . . . . . . . . . . . . . . . . . . . . . . . . . . . . . . . . . . . . . . . . . . . . . . . . . . . . . . . . . . . . . . . . . . . . . . . . . . . . . . . . . . . . . . . . . . . . . . . . . . . . . . . . . . . . . . . . . . . . . . . . . . . . . . . . . . . . . . . . . . . . . . . . . . . . . . . . . . . . . . . . . . . . . . . . . . . . . . . . . . . . . . . . . . . . . . . . . . . . Stopped before convergence\n",
      "(3.9836146099035994, 3.2552472614374586, array([[ 0.99914446]]), 0.1, 0.0)\n",
      "EPSILON = 0.100\n",
      "STEPS = 1.000\n",
      "No DP 0.675569194489\n",
      "Integral 0.97507350424\n",
      "Cloaking 2.94025897502\n",
      "(100, 4900)\n",
      "*\n",
      "Stopped before convergence\n",
      "(3.9836146099035994, 3.2552472614374586, array([[ 1.26196074]]), 0.2, 0.0)\n",
      "[ 0.12933827  0.12996228  0.10469202  0.15097224]\n",
      "(100, 4900)\n",
      "*\n",
      ". . . . . . . . . . . . . . . . . . . . . . . . . . . . . . . . . . . . . . . . . . . . . . . . . . . . . . . . . . . . . . . . . . . . . . . . . . . . . . . . . . . . . . . . . . . . . . . . . . . . . . . . . . . . . . . . . . . . . . . . . . . . . . . . . . . . . . . . . . . . . . . . . . . . . . . . . . . . . . . . . . . . . . . . . . . . . . . . . . . . . . . . . . . . . . . . . . . . . . . . . . . . . . . . . . . . . . . . . . . . . . . . . . . . . . . . . . . . . . . . . . . . . . . . . . . . . . . . . . . . . . . . . . . . . . . . . . . . . . . . . . . . . . . . . . . . . . . . . . . . . . . . . . . . . . . . . . . . . . . . . . . . . . . . . . . . . . . . . . . . . . . . . . . . . . . . . . . . . . . . . . . . . . . . . . . . . . . . . . . . . . . . . . . . . . . . . . . . . . . . . . . . . . . . . . . . . . . . . . . . . . . . . . . . . . . . . . . . . . . . . . . . . . . . . . . . . . . . . . . . . . . . . . . . . . . . . . . . . . . . . . . . . . . . . . . . . . . . . . . . . . . . . . . . . . . . . . . . . . . . . . . . . . . . . . . . . . . . . . . . . . . . . . . . . . . . . . . . . . . . . . . . . . . . . . . . . . . . . . . . . . . . . . . . . . . . . . . . . . . . . . . . . . . . . . . . . . . . . . . . . . . . . . . . . . . . . . . . . . . . . . . . . . . . . . . . . . . . . . . . . . . . . . . . . . . . . . . . . . . . . . . . . . . . . . . . . . . . . . . . . . . . . . . . . . . . . . . . . . . . . . . . . . . . . . . . . . . . . . . . . . . . . . . . . . . . . . . . . . . . . . . . . . . . . . . . . . . . . . . . . . . . . . . . . . . . . . . . . . . . . . . . . . . . . . . . . . . . . . . . . . . . . . . . . . . . . . . . . . . . . . . . . . . . . . . . . . . . . . . . . . . . . . . . . . . . . . . . . . . . . . . . . . . . . . . . . . . . . . . . . . . . . . . . . . . . . . . . . . . . . . . . . . . . . . . . . . . . . . . . . . . . . . . . . . . . . . . . . . . . . . . . . . . . . . . . . . . . . . . . . . . . . . . . . . . . . . . . . . . . Stopped before convergence\n",
      "(3.9836146099035994, 3.2552472614374586, array([[ 0.99914446]]), 0.2, 0.0)\n",
      "EPSILON = 0.200\n",
      "STEPS = 1.000\n",
      "No DP 0.675569194489\n",
      "Integral 0.975246731199\n",
      "Cloaking 1.4765297383\n",
      "(100, 4900)\n",
      "*\n",
      "Stopped before convergence\n",
      "(3.9836146099035994, 3.2552472614374586, array([[ 1.26196074]]), 0.5, 0.0)\n",
      "[ 0.12933827  0.12996228  0.10469202  0.15097224]\n",
      "(100, 4900)\n",
      "*\n",
      ". . . . . . . . . . . . . . . . . . . . . . . . . . . . . . . . . . . . . . . . . . . . . . . . . . . . . . . . . . . . . . . . . . . . . . . . . . . . . . . . . . . . . . . . . . . . . . . . . . . . . . . . . . . . . . . . . . . . . . . . . . . . . . . . . . . . . . . . . . . . . . . . . . . . . . . . . . . . . . . . . . . . . . . . . . . . . . . . . . . . . . . . . . . . . . . . . . . . . . . . . . . . . . . . . . . . . . . . . . . . . . . . . . . . . . . . . . . . . . . . . . . . . . . . . . . . . . . . . . . . . . . . . . . . . . . . . . . . . . . . . . . . . . . . . . . . . . . . . . . . . . . . . . . . . . . . . . . . . . . . . . . . . . . . . . . . . . . . . . . . . . . . . . . . . . . . . . . . . . . . . . . . . . . . . . . . . . . . . . . . . . . . . . . . . . . . . . . . . . . . . . . . . . . . . . . . . . . . . . . . . . . . . . . . . . . . . . . . . . . . . . . . . . . . . . . . . . . . . . . . . . . . . . . . . . . . . . . . . . . . . . . . . . . . . . . . . . . . . . . . . . . . . . . . . . . . . . . . . . . . . . . . . . . . . . . . . . . . . . . . . . . . . . . . . . . . . . . . . . . . . . . . . . . . . . . . . . . . . . . . . . . . . . . . . . . . . . . . . . . . . . . . . . . . . . . . . . . . . . . . . . . . . . . . . . . . . . . . . . . . . . . . . . . . . . . . . . . . . . . . . . . . . . . . . . . . . . . . . . . . . . . . . . . . . . . . . . . . . . . . . . . . . . . . . . . . . . . . . . . . . . . . . . . . . . . . . . . . . . . . . . . . . . . . . . . . . . . . . . . . . . . . . . . . . . . . . . . . . . . . . . . . . . . . . . . . . . . . . . . . . . . . . . . . . . . . . . . . . . . . . . . . . . . . . . . . . . . . . . . . . . . . . . . . . . . . . . . . . . . . . . . . . . . . . . . . . . . . . . . . . . . . . . . . . . . . . . . . . . . . . . . . . . . . . . . . . . . . . . . . . . . . . . . . . . . . . . . . . . . . . . . . . . . . . . . . . . . . . . . . . . . . . . . . . . . . . . . . . . . . . . . . . . . . . . . . . . . . . . . . Stopped before convergence\n",
      "(3.9836146099035994, 3.2552472614374586, array([[ 0.99914446]]), 0.5, 0.0)\n",
      "EPSILON = 0.500\n",
      "STEPS = 1.000\n",
      "No DP 0.675569194489\n",
      "Integral 0.975148922838\n",
      "Cloaking 0.75693000168\n",
      "(100, 4900)\n",
      "*\n",
      "Stopped before convergence\n",
      "(3.9836146099035994, 3.2552472614374586, array([[ 1.26196074]]), 1.0, 0.0)\n",
      "[ 0.12933827  0.12996228  0.10469202  0.15097224]\n"
     ]
    },
    {
     "ename": "MemoryError",
     "evalue": "",
     "output_type": "error",
     "traceback": [
      "\u001b[1;31m---------------------------------------------------------------------------\u001b[0m",
      "\u001b[1;31mMemoryError\u001b[0m                               Traceback (most recent call last)",
      "\u001b[1;32m<ipython-input-18-655fc6b0da55>\u001b[0m in \u001b[0;36m<module>\u001b[1;34m()\u001b[0m\n\u001b[0;32m     36\u001b[0m         \u001b[0mresults\u001b[0m \u001b[1;33m=\u001b[0m \u001b[1;33m[\u001b[0m\u001b[1;33m]\u001b[0m\u001b[1;33m\u001b[0m\u001b[0m\n\u001b[0;32m     37\u001b[0m         \u001b[1;32mfor\u001b[0m \u001b[0mfn\u001b[0m\u001b[1;33m,\u001b[0m\u001b[0mlabel\u001b[0m \u001b[1;32min\u001b[0m \u001b[0mzip\u001b[0m\u001b[1;33m(\u001b[0m\u001b[0mfns\u001b[0m\u001b[1;33m,\u001b[0m\u001b[0mlabels\u001b[0m\u001b[1;33m)\u001b[0m\u001b[1;33m:\u001b[0m\u001b[1;33m\u001b[0m\u001b[0m\n\u001b[1;32m---> 38\u001b[1;33m             \u001b[0mpreds\u001b[0m\u001b[1;33m,\u001b[0m \u001b[0mcov\u001b[0m \u001b[1;33m=\u001b[0m \u001b[0mfn\u001b[0m\u001b[1;33m(\u001b[0m\u001b[0mtraining_inputs\u001b[0m\u001b[1;33m,\u001b[0m\u001b[0mtraining_ys\u001b[0m\u001b[1;33m,\u001b[0m\u001b[0mtest_inputs\u001b[0m\u001b[1;33m,\u001b[0m\u001b[0msens\u001b[0m\u001b[1;33m,\u001b[0m\u001b[0meps\u001b[0m\u001b[1;33m,\u001b[0m\u001b[1;36m0.01\u001b[0m\u001b[1;33m,\u001b[0m\u001b[1;36m10.0\u001b[0m\u001b[1;33m,\u001b[0m\u001b[1;36m1.0\u001b[0m\u001b[1;33m,\u001b[0m \u001b[0mkernvar\u001b[0m\u001b[1;33m,\u001b[0m \u001b[0mkern_ls\u001b[0m\u001b[1;33m,\u001b[0m \u001b[0msteps\u001b[0m\u001b[1;33m)\u001b[0m\u001b[1;33m\u001b[0m\u001b[0m\n\u001b[0m\u001b[0;32m     39\u001b[0m             \u001b[0mRMSE\u001b[0m \u001b[1;33m=\u001b[0m \u001b[0mnp\u001b[0m\u001b[1;33m.\u001b[0m\u001b[0msqrt\u001b[0m\u001b[1;33m(\u001b[0m\u001b[0mnp\u001b[0m\u001b[1;33m.\u001b[0m\u001b[0mmean\u001b[0m\u001b[1;33m(\u001b[0m\u001b[1;33m(\u001b[0m\u001b[0mtest_ys\u001b[0m\u001b[1;33m-\u001b[0m\u001b[0mpreds\u001b[0m\u001b[1;33m)\u001b[0m\u001b[1;33m**\u001b[0m\u001b[1;36m2\u001b[0m\u001b[1;33m)\u001b[0m\u001b[1;33m)\u001b[0m\u001b[1;33m\u001b[0m\u001b[0m\n\u001b[0;32m     40\u001b[0m             \u001b[0mresults\u001b[0m\u001b[1;33m.\u001b[0m\u001b[0mappend\u001b[0m\u001b[1;33m(\u001b[0m\u001b[1;33m{\u001b[0m\u001b[1;34m'label'\u001b[0m\u001b[1;33m:\u001b[0m\u001b[0mlabel\u001b[0m\u001b[1;33m,\u001b[0m \u001b[1;34m'preds'\u001b[0m\u001b[1;33m:\u001b[0m\u001b[0mpreds\u001b[0m\u001b[1;33m,\u001b[0m \u001b[1;34m'cov'\u001b[0m\u001b[1;33m:\u001b[0m\u001b[0mcov\u001b[0m\u001b[1;33m,\u001b[0m \u001b[1;34m'RMSE'\u001b[0m\u001b[1;33m:\u001b[0m\u001b[0mRMSE\u001b[0m\u001b[1;33m}\u001b[0m\u001b[1;33m)\u001b[0m\u001b[1;33m\u001b[0m\u001b[0m\n",
      "\u001b[1;32m<ipython-input-17-98466bdd8b53>\u001b[0m in \u001b[0;36mget_cloaking_prediction\u001b[1;34m(training_inputs, training_ys, test_inputs, sens, eps, delta, noise, modvar, kernval, kern_ls, steps)\u001b[0m\n\u001b[0;32m     12\u001b[0m     \u001b[0mrbf\u001b[0m \u001b[1;33m=\u001b[0m \u001b[0mGPy\u001b[0m\u001b[1;33m.\u001b[0m\u001b[0mkern\u001b[0m\u001b[1;33m.\u001b[0m\u001b[0mRBF\u001b[0m\u001b[1;33m(\u001b[0m\u001b[0mtraining_inputs\u001b[0m\u001b[1;33m.\u001b[0m\u001b[0mshape\u001b[0m\u001b[1;33m[\u001b[0m\u001b[1;36m1\u001b[0m\u001b[1;33m]\u001b[0m\u001b[1;33m,\u001b[0m\u001b[0mkernvar\u001b[0m\u001b[1;33m,\u001b[0m \u001b[0mkern_ls\u001b[0m\u001b[1;33m,\u001b[0m\u001b[0mARD\u001b[0m\u001b[1;33m=\u001b[0m\u001b[0mTrue\u001b[0m\u001b[1;33m)\u001b[0m\u001b[1;33m\u001b[0m\u001b[0m\n\u001b[0;32m     13\u001b[0m     \u001b[1;31m#rbf = GPy.kern.RBF(training_inputs.shape[1],modvar,[5e3,5e3],ARD=True)\u001b[0m\u001b[1;33m\u001b[0m\u001b[1;33m\u001b[0m\u001b[0m\n\u001b[1;32m---> 14\u001b[1;33m     \u001b[0mmod\u001b[0m \u001b[1;33m=\u001b[0m \u001b[0mGPy\u001b[0m\u001b[1;33m.\u001b[0m\u001b[0mmodels\u001b[0m\u001b[1;33m.\u001b[0m\u001b[0mGPRegression\u001b[0m\u001b[1;33m(\u001b[0m\u001b[0mtraining_inputs\u001b[0m\u001b[1;33m,\u001b[0m\u001b[0mtraining_ys\u001b[0m\u001b[1;33m,\u001b[0m\u001b[0mrbf\u001b[0m\u001b[1;33m)\u001b[0m\u001b[1;33m\u001b[0m\u001b[0m\n\u001b[0m\u001b[0;32m     15\u001b[0m     \u001b[0mmod\u001b[0m\u001b[1;33m.\u001b[0m\u001b[0mGaussian_noise\u001b[0m \u001b[1;33m=\u001b[0m \u001b[0mnoise\u001b[0m\u001b[1;33m\u001b[0m\u001b[0m\n\u001b[0;32m     16\u001b[0m     \u001b[0mdpgp\u001b[0m \u001b[1;33m=\u001b[0m \u001b[0mdp4gp\u001b[0m\u001b[1;33m.\u001b[0m\u001b[0mDPGP_cloaking\u001b[0m\u001b[1;33m(\u001b[0m\u001b[0mmod\u001b[0m\u001b[1;33m,\u001b[0m\u001b[0msens\u001b[0m\u001b[1;33m,\u001b[0m\u001b[0meps\u001b[0m\u001b[1;33m,\u001b[0m\u001b[0mdelta\u001b[0m\u001b[1;33m)\u001b[0m\u001b[1;33m\u001b[0m\u001b[0m\n",
      "\u001b[1;32m/home/lionfish/anaconda2/lib/python2.7/site-packages/paramz/parameterized.pyc\u001b[0m in \u001b[0;36m__call__\u001b[1;34m(self, *args, **kw)\u001b[0m\n\u001b[0;32m     52\u001b[0m         \u001b[0mself\u001b[0m\u001b[1;33m.\u001b[0m\u001b[0m_model_initialized_\u001b[0m \u001b[1;33m=\u001b[0m \u001b[0minitialize\u001b[0m\u001b[1;33m\u001b[0m\u001b[0m\n\u001b[0;32m     53\u001b[0m         \u001b[1;32mif\u001b[0m \u001b[0minitialize\u001b[0m\u001b[1;33m:\u001b[0m\u001b[1;33m\u001b[0m\u001b[0m\n\u001b[1;32m---> 54\u001b[1;33m             \u001b[0mself\u001b[0m\u001b[1;33m.\u001b[0m\u001b[0minitialize_parameter\u001b[0m\u001b[1;33m(\u001b[0m\u001b[1;33m)\u001b[0m\u001b[1;33m\u001b[0m\u001b[0m\n\u001b[0m\u001b[0;32m     55\u001b[0m         \u001b[1;32melse\u001b[0m\u001b[1;33m:\u001b[0m\u001b[1;33m\u001b[0m\u001b[0m\n\u001b[0;32m     56\u001b[0m             \u001b[1;32mimport\u001b[0m \u001b[0mwarnings\u001b[0m\u001b[1;33m\u001b[0m\u001b[0m\n",
      "\u001b[1;32m/home/lionfish/anaconda2/lib/python2.7/site-packages/paramz/core/parameter_core.pyc\u001b[0m in \u001b[0;36minitialize_parameter\u001b[1;34m(self)\u001b[0m\n\u001b[0;32m    328\u001b[0m         \u001b[0mself\u001b[0m\u001b[1;33m.\u001b[0m\u001b[0m_highest_parent_\u001b[0m\u001b[1;33m.\u001b[0m\u001b[0m_connect_fixes\u001b[0m\u001b[1;33m(\u001b[0m\u001b[1;33m)\u001b[0m\u001b[1;33m\u001b[0m\u001b[0m\n\u001b[0;32m    329\u001b[0m         \u001b[0mself\u001b[0m\u001b[1;33m.\u001b[0m\u001b[0m_highest_parent_\u001b[0m\u001b[1;33m.\u001b[0m\u001b[0m_connect_parameters\u001b[0m\u001b[1;33m(\u001b[0m\u001b[1;33m)\u001b[0m \u001b[1;31m#logger.debug(\"calling parameters changed\")\u001b[0m\u001b[1;33m\u001b[0m\u001b[0m\n\u001b[1;32m--> 330\u001b[1;33m         \u001b[0mself\u001b[0m\u001b[1;33m.\u001b[0m\u001b[0mparameters_changed\u001b[0m\u001b[1;33m(\u001b[0m\u001b[1;33m)\u001b[0m\u001b[1;33m\u001b[0m\u001b[0m\n\u001b[0m\u001b[0;32m    331\u001b[0m \u001b[1;33m\u001b[0m\u001b[0m\n\u001b[0;32m    332\u001b[0m     \u001b[1;33m@\u001b[0m\u001b[0mproperty\u001b[0m\u001b[1;33m\u001b[0m\u001b[0m\n",
      "\u001b[1;32m/home/lionfish/GPy/GPy/core/gp.pyc\u001b[0m in \u001b[0;36mparameters_changed\u001b[1;34m(self)\u001b[0m\n\u001b[0;32m    191\u001b[0m             \u001b[0mthis\u001b[0m \u001b[0mmethod\u001b[0m \u001b[0myourself\u001b[0m\u001b[1;33m,\u001b[0m \u001b[0mthere\u001b[0m \u001b[0mmay\u001b[0m \u001b[0mbe\u001b[0m \u001b[0munexpected\u001b[0m \u001b[0mconsequences\u001b[0m\u001b[1;33m.\u001b[0m\u001b[1;33m\u001b[0m\u001b[0m\n\u001b[0;32m    192\u001b[0m         \"\"\"\n\u001b[1;32m--> 193\u001b[1;33m         \u001b[0mself\u001b[0m\u001b[1;33m.\u001b[0m\u001b[0mposterior\u001b[0m\u001b[1;33m,\u001b[0m \u001b[0mself\u001b[0m\u001b[1;33m.\u001b[0m\u001b[0m_log_marginal_likelihood\u001b[0m\u001b[1;33m,\u001b[0m \u001b[0mself\u001b[0m\u001b[1;33m.\u001b[0m\u001b[0mgrad_dict\u001b[0m \u001b[1;33m=\u001b[0m \u001b[0mself\u001b[0m\u001b[1;33m.\u001b[0m\u001b[0minference_method\u001b[0m\u001b[1;33m.\u001b[0m\u001b[0minference\u001b[0m\u001b[1;33m(\u001b[0m\u001b[0mself\u001b[0m\u001b[1;33m.\u001b[0m\u001b[0mkern\u001b[0m\u001b[1;33m,\u001b[0m \u001b[0mself\u001b[0m\u001b[1;33m.\u001b[0m\u001b[0mX\u001b[0m\u001b[1;33m,\u001b[0m \u001b[0mself\u001b[0m\u001b[1;33m.\u001b[0m\u001b[0mlikelihood\u001b[0m\u001b[1;33m,\u001b[0m \u001b[0mself\u001b[0m\u001b[1;33m.\u001b[0m\u001b[0mY_normalized\u001b[0m\u001b[1;33m,\u001b[0m \u001b[0mself\u001b[0m\u001b[1;33m.\u001b[0m\u001b[0mmean_function\u001b[0m\u001b[1;33m,\u001b[0m \u001b[0mself\u001b[0m\u001b[1;33m.\u001b[0m\u001b[0mY_metadata\u001b[0m\u001b[1;33m)\u001b[0m\u001b[1;33m\u001b[0m\u001b[0m\n\u001b[0m\u001b[0;32m    194\u001b[0m         \u001b[0mself\u001b[0m\u001b[1;33m.\u001b[0m\u001b[0mlikelihood\u001b[0m\u001b[1;33m.\u001b[0m\u001b[0mupdate_gradients\u001b[0m\u001b[1;33m(\u001b[0m\u001b[0mself\u001b[0m\u001b[1;33m.\u001b[0m\u001b[0mgrad_dict\u001b[0m\u001b[1;33m[\u001b[0m\u001b[1;34m'dL_dthetaL'\u001b[0m\u001b[1;33m]\u001b[0m\u001b[1;33m)\u001b[0m\u001b[1;33m\u001b[0m\u001b[0m\n\u001b[0;32m    195\u001b[0m         \u001b[0mself\u001b[0m\u001b[1;33m.\u001b[0m\u001b[0mkern\u001b[0m\u001b[1;33m.\u001b[0m\u001b[0mupdate_gradients_full\u001b[0m\u001b[1;33m(\u001b[0m\u001b[0mself\u001b[0m\u001b[1;33m.\u001b[0m\u001b[0mgrad_dict\u001b[0m\u001b[1;33m[\u001b[0m\u001b[1;34m'dL_dK'\u001b[0m\u001b[1;33m]\u001b[0m\u001b[1;33m,\u001b[0m \u001b[0mself\u001b[0m\u001b[1;33m.\u001b[0m\u001b[0mX\u001b[0m\u001b[1;33m)\u001b[0m\u001b[1;33m\u001b[0m\u001b[0m\n",
      "\u001b[1;32m/home/lionfish/GPy/GPy/inference/latent_function_inference/exact_gaussian_inference.pyc\u001b[0m in \u001b[0;36minference\u001b[1;34m(self, kern, X, likelihood, Y, mean_function, Y_metadata, K, variance, Z_tilde)\u001b[0m\n\u001b[0;32m     43\u001b[0m         \u001b[0mdiag\u001b[0m\u001b[1;33m.\u001b[0m\u001b[0madd\u001b[0m\u001b[1;33m(\u001b[0m\u001b[0mKy\u001b[0m\u001b[1;33m,\u001b[0m \u001b[0mvariance\u001b[0m\u001b[1;33m+\u001b[0m\u001b[1;36m1e-8\u001b[0m\u001b[1;33m)\u001b[0m\u001b[1;33m\u001b[0m\u001b[0m\n\u001b[0;32m     44\u001b[0m \u001b[1;33m\u001b[0m\u001b[0m\n\u001b[1;32m---> 45\u001b[1;33m         \u001b[0mWi\u001b[0m\u001b[1;33m,\u001b[0m \u001b[0mLW\u001b[0m\u001b[1;33m,\u001b[0m \u001b[0mLWi\u001b[0m\u001b[1;33m,\u001b[0m \u001b[0mW_logdet\u001b[0m \u001b[1;33m=\u001b[0m \u001b[0mpdinv\u001b[0m\u001b[1;33m(\u001b[0m\u001b[0mKy\u001b[0m\u001b[1;33m)\u001b[0m\u001b[1;33m\u001b[0m\u001b[0m\n\u001b[0m\u001b[0;32m     46\u001b[0m \u001b[1;33m\u001b[0m\u001b[0m\n\u001b[0;32m     47\u001b[0m         \u001b[0malpha\u001b[0m\u001b[1;33m,\u001b[0m \u001b[0m_\u001b[0m \u001b[1;33m=\u001b[0m \u001b[0mdpotrs\u001b[0m\u001b[1;33m(\u001b[0m\u001b[0mLW\u001b[0m\u001b[1;33m,\u001b[0m \u001b[0mYYT_factor\u001b[0m\u001b[1;33m,\u001b[0m \u001b[0mlower\u001b[0m\u001b[1;33m=\u001b[0m\u001b[1;36m1\u001b[0m\u001b[1;33m)\u001b[0m\u001b[1;33m\u001b[0m\u001b[0m\n",
      "\u001b[1;32m/home/lionfish/GPy/GPy/util/linalg.pyc\u001b[0m in \u001b[0;36mpdinv\u001b[1;34m(A, *args)\u001b[0m\n\u001b[0;32m    209\u001b[0m     \u001b[0mlogdet\u001b[0m \u001b[1;33m=\u001b[0m \u001b[1;36m2.\u001b[0m\u001b[1;33m*\u001b[0m\u001b[0mnp\u001b[0m\u001b[1;33m.\u001b[0m\u001b[0msum\u001b[0m\u001b[1;33m(\u001b[0m\u001b[0mnp\u001b[0m\u001b[1;33m.\u001b[0m\u001b[0mlog\u001b[0m\u001b[1;33m(\u001b[0m\u001b[0mnp\u001b[0m\u001b[1;33m.\u001b[0m\u001b[0mdiag\u001b[0m\u001b[1;33m(\u001b[0m\u001b[0mL\u001b[0m\u001b[1;33m)\u001b[0m\u001b[1;33m)\u001b[0m\u001b[1;33m)\u001b[0m\u001b[1;33m\u001b[0m\u001b[0m\n\u001b[0;32m    210\u001b[0m     \u001b[0mLi\u001b[0m \u001b[1;33m=\u001b[0m \u001b[0mdtrtri\u001b[0m\u001b[1;33m(\u001b[0m\u001b[0mL\u001b[0m\u001b[1;33m)\u001b[0m\u001b[1;33m\u001b[0m\u001b[0m\n\u001b[1;32m--> 211\u001b[1;33m     \u001b[0mAi\u001b[0m\u001b[1;33m,\u001b[0m \u001b[0m_\u001b[0m \u001b[1;33m=\u001b[0m \u001b[0mdpotri\u001b[0m\u001b[1;33m(\u001b[0m\u001b[0mL\u001b[0m\u001b[1;33m,\u001b[0m \u001b[0mlower\u001b[0m\u001b[1;33m=\u001b[0m\u001b[1;36m1\u001b[0m\u001b[1;33m)\u001b[0m\u001b[1;33m\u001b[0m\u001b[0m\n\u001b[0m\u001b[0;32m    212\u001b[0m     \u001b[1;31m# Ai = np.tril(Ai) + np.tril(Ai,-1).T\u001b[0m\u001b[1;33m\u001b[0m\u001b[1;33m\u001b[0m\u001b[0m\n\u001b[0;32m    213\u001b[0m     \u001b[0msymmetrify\u001b[0m\u001b[1;33m(\u001b[0m\u001b[0mAi\u001b[0m\u001b[1;33m)\u001b[0m\u001b[1;33m\u001b[0m\u001b[0m\n",
      "\u001b[1;32m/home/lionfish/GPy/GPy/util/linalg.pyc\u001b[0m in \u001b[0;36mdpotri\u001b[1;34m(A, lower)\u001b[0m\n\u001b[0;32m    143\u001b[0m     \u001b[0mR\u001b[0m\u001b[1;33m,\u001b[0m \u001b[0minfo\u001b[0m \u001b[1;33m=\u001b[0m \u001b[0mlapack\u001b[0m\u001b[1;33m.\u001b[0m\u001b[0mdpotri\u001b[0m\u001b[1;33m(\u001b[0m\u001b[0mA\u001b[0m\u001b[1;33m,\u001b[0m \u001b[0mlower\u001b[0m\u001b[1;33m=\u001b[0m\u001b[0mlower\u001b[0m\u001b[1;33m)\u001b[0m \u001b[1;31m#needs to be zero here, seems to be a scipy bug\u001b[0m\u001b[1;33m\u001b[0m\u001b[0m\n\u001b[0;32m    144\u001b[0m \u001b[1;33m\u001b[0m\u001b[0m\n\u001b[1;32m--> 145\u001b[1;33m     \u001b[0msymmetrify\u001b[0m\u001b[1;33m(\u001b[0m\u001b[0mR\u001b[0m\u001b[1;33m)\u001b[0m\u001b[1;33m\u001b[0m\u001b[0m\n\u001b[0m\u001b[0;32m    146\u001b[0m     \u001b[1;32mreturn\u001b[0m \u001b[0mR\u001b[0m\u001b[1;33m,\u001b[0m \u001b[0minfo\u001b[0m\u001b[1;33m\u001b[0m\u001b[0m\n\u001b[0;32m    147\u001b[0m \u001b[1;33m\u001b[0m\u001b[0m\n",
      "\u001b[1;32m/home/lionfish/GPy/GPy/util/linalg.pyc\u001b[0m in \u001b[0;36msymmetrify\u001b[1;34m(A, upper)\u001b[0m\n\u001b[0;32m    366\u001b[0m         \u001b[0m_symmetrify_cython\u001b[0m\u001b[1;33m(\u001b[0m\u001b[0mA\u001b[0m\u001b[1;33m,\u001b[0m \u001b[0mupper\u001b[0m\u001b[1;33m)\u001b[0m\u001b[1;33m\u001b[0m\u001b[0m\n\u001b[0;32m    367\u001b[0m     \u001b[1;32melse\u001b[0m\u001b[1;33m:\u001b[0m\u001b[1;33m\u001b[0m\u001b[0m\n\u001b[1;32m--> 368\u001b[1;33m         \u001b[0m_symmetrify_numpy\u001b[0m\u001b[1;33m(\u001b[0m\u001b[0mA\u001b[0m\u001b[1;33m,\u001b[0m \u001b[0mupper\u001b[0m\u001b[1;33m)\u001b[0m\u001b[1;33m\u001b[0m\u001b[0m\n\u001b[0m\u001b[0;32m    369\u001b[0m \u001b[1;33m\u001b[0m\u001b[0m\n\u001b[0;32m    370\u001b[0m \u001b[1;33m\u001b[0m\u001b[0m\n",
      "\u001b[1;32m/home/lionfish/GPy/GPy/util/linalg.pyc\u001b[0m in \u001b[0;36m_symmetrify_numpy\u001b[1;34m(A, upper)\u001b[0m\n\u001b[0;32m    373\u001b[0m \u001b[1;33m\u001b[0m\u001b[0m\n\u001b[0;32m    374\u001b[0m \u001b[1;32mdef\u001b[0m \u001b[0m_symmetrify_numpy\u001b[0m\u001b[1;33m(\u001b[0m\u001b[0mA\u001b[0m\u001b[1;33m,\u001b[0m \u001b[0mupper\u001b[0m\u001b[1;33m=\u001b[0m\u001b[0mFalse\u001b[0m\u001b[1;33m)\u001b[0m\u001b[1;33m:\u001b[0m\u001b[1;33m\u001b[0m\u001b[0m\n\u001b[1;32m--> 375\u001b[1;33m     \u001b[0mtriu\u001b[0m \u001b[1;33m=\u001b[0m \u001b[0mnp\u001b[0m\u001b[1;33m.\u001b[0m\u001b[0mtriu_indices_from\u001b[0m\u001b[1;33m(\u001b[0m\u001b[0mA\u001b[0m\u001b[1;33m,\u001b[0m\u001b[0mk\u001b[0m\u001b[1;33m=\u001b[0m\u001b[1;36m1\u001b[0m\u001b[1;33m)\u001b[0m\u001b[1;33m\u001b[0m\u001b[0m\n\u001b[0m\u001b[0;32m    376\u001b[0m     \u001b[1;32mif\u001b[0m \u001b[0mupper\u001b[0m\u001b[1;33m:\u001b[0m\u001b[1;33m\u001b[0m\u001b[0m\n\u001b[0;32m    377\u001b[0m         \u001b[0mA\u001b[0m\u001b[1;33m.\u001b[0m\u001b[0mT\u001b[0m\u001b[1;33m[\u001b[0m\u001b[0mtriu\u001b[0m\u001b[1;33m]\u001b[0m \u001b[1;33m=\u001b[0m \u001b[0mA\u001b[0m\u001b[1;33m[\u001b[0m\u001b[0mtriu\u001b[0m\u001b[1;33m]\u001b[0m\u001b[1;33m\u001b[0m\u001b[0m\n",
      "\u001b[1;32m/home/lionfish/anaconda2/lib/python2.7/site-packages/numpy/lib/twodim_base.pyc\u001b[0m in \u001b[0;36mtriu_indices_from\u001b[1;34m(arr, k)\u001b[0m\n\u001b[0;32m   1005\u001b[0m     \u001b[1;32mif\u001b[0m \u001b[0marr\u001b[0m\u001b[1;33m.\u001b[0m\u001b[0mndim\u001b[0m \u001b[1;33m!=\u001b[0m \u001b[1;36m2\u001b[0m\u001b[1;33m:\u001b[0m\u001b[1;33m\u001b[0m\u001b[0m\n\u001b[0;32m   1006\u001b[0m         \u001b[1;32mraise\u001b[0m \u001b[0mValueError\u001b[0m\u001b[1;33m(\u001b[0m\u001b[1;34m\"input array must be 2-d\"\u001b[0m\u001b[1;33m)\u001b[0m\u001b[1;33m\u001b[0m\u001b[0m\n\u001b[1;32m-> 1007\u001b[1;33m     \u001b[1;32mreturn\u001b[0m \u001b[0mtriu_indices\u001b[0m\u001b[1;33m(\u001b[0m\u001b[0marr\u001b[0m\u001b[1;33m.\u001b[0m\u001b[0mshape\u001b[0m\u001b[1;33m[\u001b[0m\u001b[1;33m-\u001b[0m\u001b[1;36m2\u001b[0m\u001b[1;33m]\u001b[0m\u001b[1;33m,\u001b[0m \u001b[0mk\u001b[0m\u001b[1;33m=\u001b[0m\u001b[0mk\u001b[0m\u001b[1;33m,\u001b[0m \u001b[0mm\u001b[0m\u001b[1;33m=\u001b[0m\u001b[0marr\u001b[0m\u001b[1;33m.\u001b[0m\u001b[0mshape\u001b[0m\u001b[1;33m[\u001b[0m\u001b[1;33m-\u001b[0m\u001b[1;36m1\u001b[0m\u001b[1;33m]\u001b[0m\u001b[1;33m)\u001b[0m\u001b[1;33m\u001b[0m\u001b[0m\n\u001b[0m",
      "\u001b[1;32m/home/lionfish/anaconda2/lib/python2.7/site-packages/numpy/lib/twodim_base.pyc\u001b[0m in \u001b[0;36mtriu_indices\u001b[1;34m(n, k, m)\u001b[0m\n\u001b[0;32m    973\u001b[0m \u001b[1;33m\u001b[0m\u001b[0m\n\u001b[0;32m    974\u001b[0m     \"\"\"\n\u001b[1;32m--> 975\u001b[1;33m     \u001b[1;32mreturn\u001b[0m \u001b[0mwhere\u001b[0m\u001b[1;33m(\u001b[0m\u001b[1;33m~\u001b[0m\u001b[0mtri\u001b[0m\u001b[1;33m(\u001b[0m\u001b[0mn\u001b[0m\u001b[1;33m,\u001b[0m \u001b[0mm\u001b[0m\u001b[1;33m,\u001b[0m \u001b[0mk\u001b[0m\u001b[1;33m=\u001b[0m\u001b[0mk\u001b[0m\u001b[1;33m-\u001b[0m\u001b[1;36m1\u001b[0m\u001b[1;33m,\u001b[0m \u001b[0mdtype\u001b[0m\u001b[1;33m=\u001b[0m\u001b[0mbool\u001b[0m\u001b[1;33m)\u001b[0m\u001b[1;33m)\u001b[0m\u001b[1;33m\u001b[0m\u001b[0m\n\u001b[0m\u001b[0;32m    976\u001b[0m \u001b[1;33m\u001b[0m\u001b[0m\n\u001b[0;32m    977\u001b[0m \u001b[1;33m\u001b[0m\u001b[0m\n",
      "\u001b[1;31mMemoryError\u001b[0m: "
     ]
    }
   ],
   "source": [
    "#inputs, ys = get_house_prices()\n",
    "inputs, ys = get_citibike_data()\n",
    "\n",
    "#FOR CITIBIKE\n",
    "#squash data into 0-2000 seconds range\n",
    "ys[ys>2000] = 2000\n",
    "ys[ys<0] = 0\n",
    "sens = 2000-0\n",
    "kernvar = 10.0\n",
    "kern_ls = np.array([0.01,0.01,0.01,0.01])*5.0\n",
    "\n",
    "#FOR HOUSE PRICES\n",
    "#squash data into £10k-£500k range\n",
    "#ys[ys>5e5] = 5e5\n",
    "#ys[ys<1e4] = 1e4\n",
    "#sens = 5e5-1e4\n",
    "#kernvar = 1.0\n",
    "#kern_ls = [15e3,15e3,50*31536000,5.0]\n",
    "\n",
    "ys_mean = np.mean(ys)\n",
    "ys_std = np.std(ys)\n",
    "ys = ys - ys_mean\n",
    "ys = ys / ys_std\n",
    "sens = sens / ys_std\n",
    "\n",
    "training_inputs = inputs[0:-100,:]\n",
    "training_ys = ys[0:-100][:,None]\n",
    "test_inputs = inputs[-100:,:]\n",
    "test_ys = ys[-100:][:,None]\n",
    "\n",
    "fns = [get_noDP_prediction, get_integral_prediction, get_cloaking_prediction]#,get_pseudo_prediction,get_standard_prediction]\n",
    "labels = [\"No DP\",\"Integral\",\"Cloaking\"]   #\"Pseudo\",\"Standard\"]\n",
    "\n",
    "for steps in [1,3,6,10]:\n",
    "    for eps in [0.01,0.1,0.2,0.5,1.0]:\n",
    "        results = []\n",
    "        for fn,label in zip(fns,labels):\n",
    "            preds, cov = fn(training_inputs,training_ys,test_inputs,sens,eps,0.01,10.0,1.0, kernvar, kern_ls, steps)\n",
    "            RMSE = np.sqrt(np.mean((test_ys-preds)**2))\n",
    "            results.append({'label':label, 'preds':preds, 'cov':cov, 'RMSE':RMSE})\n",
    "        print \"EPSILON = %0.3f\" % eps\n",
    "        print \"STEPS = %0.3f\" % steps\n",
    "        for r in results:\n",
    "            print r['label'],r['RMSE']"
   ]
  },
  {
   "cell_type": "code",
   "execution_count": 15,
   "metadata": {
    "collapsed": false
   },
   "outputs": [
    {
     "name": "stdout",
     "output_type": "stream",
     "text": [
      "No DP 0.675569194489\n",
      "Integral 1.39811547635\n"
     ]
    }
   ],
   "source": [
    "for r in results:\n",
    "    print r['label'],r['RMSE']#*ys_std\n",
    "\n",
    "#5000 users\n",
    "#NO DIFFERENTIAL PRIVACY\n",
    "# LS,  VAR    RMSE\n",
    "#0.05  100 ->  -\n",
    "#0.05    1 -> 0.76\n",
    "#0.05   10 -> 0.67\n",
    "#0.02   10 -> 0.64\n",
    "#0.01, 100 -> 0.65\n",
    "#0.01,  10 -> 0.66\n",
    "#0.005,100 -> 0.78\n",
    "\n",
    "#LS=0.05, VAR=10, EPSILON=1\n",
    "#NO DP            0.6755\n",
    "#INTEGRAL(step=1) 0.9755 [not enough iterations allowed] !! ONE BIN !!\n",
    "#INTEGRAL(step=4) 1.3314\n",
    "#INTEGRAL(step=6) 1.3981\n",
    "#CLOAK            0.7539\n",
    "\n",
    "\n"
   ]
  },
  {
   "cell_type": "markdown",
   "metadata": {
    "collapsed": true
   },
   "source": [
    "DATA FOR HOUSE PRICES - DELETE ALL THIS !!! OLD BROKEN!!!\n",
    "\n",
    "    Number of data: 1000 points\n",
    "    (training_inputs,training_ys[:,None],test_inputs,sens,1.0,0.01,2.0,1.0)\n",
    "    .RBF(training_inputs.shape[1],1.0,[15e3,15e3,50*31536000,5.0],ARD=True)\n",
    "    integral grid steps = 10 (1000 points!)\n",
    "    nits = 100\n",
    "\n",
    "        No DP 1.07821272291\n",
    "        Integral 0.995404374762\n",
    "        Cloaking 1.56684865485\n",
    "\n",
    "    (training_inputs.shape[1],1.0,[15e3,15e3,50*31536000,5.0],ARD=True)\n",
    "    .RBF(training_inputs.shape[1],1.0,[25e3,25e3,50*31536000,5.0],ARD=True)\n",
    "    (Xtest,training_inputs,step,ys,lengthscale=[25e3,25e3])\n",
    "        No DP 1.07821272291\n",
    "        Integral 1.07568810881\n",
    "        Cloaking 1.39788247853\n",
    "\n",
    "\n"
   ]
  },
  {
   "cell_type": "markdown",
   "metadata": {},
   "source": [
    "\n",
    "    Noise = 5.0, lengthscale = 5km\n",
    "    (training_inputs,training_ys[:,None],test_inputs,sens,1.0,0.01,5.0,1.0)\n",
    "    ===500 points (400 training, 100 test)===\n",
    "    2d\n",
    "    Cloaking 1.97518575121\n",
    "    Pseudo 150.294285029\n",
    "    Standard 3.30680222508\n",
    "\n",
    "    4d\n",
    "    Cloaking 2.70756061351\n",
    "    Pseudo 81.3098354009\n",
    "    Standard 2.81548412873\n",
    "    \n",
    "\n",
    "    ===5000 points (4900 training, 100 test)===\n",
    "\n",
    "    4d\n",
    "    Cloaking 1.12417092118\n",
    "    Pseudo 653.231209888\n",
    "    Standard 5.89137411916\n",
    "    \n",
    "    More lengthscale;\n",
    "    Noise = 5.0, lengthscale = 15km\n",
    "    (training_inputs.shape[1],1.0,[15e3,15e3,50*31536000,5.0],ARD=True)\n",
    "    ===5000 points (4900 training, 100 test)===\n",
    "    \n",
    "    4d\n",
    "    Cloaking 1.13735358897\n",
    "    Pseudo 6653.4975417\n",
    "    Standard 6.43561788669\n",
    "\n",
    "    Less noise;\n",
    "    Noise = 2.0, lengthscale = 15km\n",
    "    (training_inputs.shape[1],1.0,[15e3,15e3,50*31536000,5.0],ARD=True)\n",
    "    ===5000 points (4900 training, 100 test)===\n",
    "    4d\n",
    "    Cloaking 1.17823238187\n",
    "    Pseudo 12793.3710843\n",
    "    Standard 19.4062574837\n",
    "\n",
    "    ===10k points===\n",
    "    4d\n",
    "    Cloaking 1.2916\n",
    "    Pseudo 82754.88\n",
    "    \n",
    "    It looks like more points doesn't help over ~1k   \n",
    "    \n",
    "    fn(training_inputs,training_ys[:,None],test_inputs,sens,1.0,0.01,2.0,1.0)\n",
    "    (training_inputs.shape[1],1.0,[15e3,15e3,50*31536000,5.0],ARD=True)\n",
    "    ===1000 points (900 training, 100 test)===\n",
    "    4d\n",
    "    Cloaking 1.51661914526\n",
    "    Pseudo 935.593475553\n",
    "    Standard 17.311877784"
   ]
  },
  {
   "cell_type": "markdown",
   "metadata": {},
   "source": [
    "### Other code"
   ]
  },
  {
   "cell_type": "code",
   "execution_count": null,
   "metadata": {
    "collapsed": false
   },
   "outputs": [],
   "source": [
    "plt.figure(figsize=[14,10])\n",
    "for i,r in enumerate(results):\n",
    "    \n",
    "    plt.subplot(2,2,i+1)\n",
    "    plt.title(r['label'])\n",
    "    plt.errorbar(test_ys,r['preds'],1.96*np.sqrt(np.diag(r['cov'])),fmt=None,color='k',alpha=0.2)\n",
    "    plt.plot(test_ys,r['preds'],'+k')\n",
    "    #plt.xlim([0,1e6])\n",
    "    #plt.ylim([0,1e6])\n",
    "    #plt.plot([0,1e6],[0,1e6],'k-')\n",
    "    plt.xlim([-2,4])\n",
    "    plt.ylim([-2,4])\n",
    "    plt.plot([-2,4],[-2,4],'k-')\n"
   ]
  },
  {
   "cell_type": "code",
   "execution_count": null,
   "metadata": {
    "collapsed": false
   },
   "outputs": [],
   "source": [
    "def plot_cloaking_prediction(training_inputs, training_ys, test_inputs, sens, eps, delta,noise,modvar):\n",
    "    rbf = GPy.kern.RBF(training_inputs.shape[1],1.0,[5e3,5e3,50*31536000,5.0],ARD=True)\n",
    "    #rbf = GPy.kern.RBF(training_inputs.shape[1],modvar,[5e3,5e3],ARD=True)\n",
    "    mod = GPy.models.GPRegression(training_inputs,training_ys,rbf)\n",
    "    mod.Gaussian_noise = noise\n",
    "    dpgp = dp4gp.DPGP_cloaking(mod,sens,eps,delta)\n",
    "    return dpgp\n",
    "dpgp = plot_cloaking_prediction(training_inputs,training_ys[:,None],test_inputs,sens,1.0,0.01,5.0,1.0)"
   ]
  },
  {
   "cell_type": "code",
   "execution_count": null,
   "metadata": {
    "collapsed": false
   },
   "outputs": [],
   "source": []
  },
  {
   "cell_type": "code",
   "execution_count": null,
   "metadata": {
    "collapsed": false
   },
   "outputs": [],
   "source": [
    "dpgp.plot(fixed_inputs=[(2,np.mean(training_inputs[:,2])),(3,np.mean(training_inputs[:,3]))])"
   ]
  },
  {
   "cell_type": "code",
   "execution_count": null,
   "metadata": {
    "collapsed": false
   },
   "outputs": [],
   "source": [
    "np.mgrid[0:2]"
   ]
  },
  {
   "cell_type": "code",
   "execution_count": null,
   "metadata": {
    "collapsed": false
   },
   "outputs": [],
   "source": [
    "np.mgrid[0:2,0:3]"
   ]
  },
  {
   "cell_type": "code",
   "execution_count": null,
   "metadata": {
    "collapsed": false
   },
   "outputs": [],
   "source": [
    "np.mgrid[0:2,0:3,0:4][0].flatten()"
   ]
  },
  {
   "cell_type": "code",
   "execution_count": null,
   "metadata": {
    "collapsed": true
   },
   "outputs": [],
   "source": []
  }
 ],
 "metadata": {
  "kernelspec": {
   "display_name": "Python 2",
   "language": "python",
   "name": "python2"
  },
  "language_info": {
   "codemirror_mode": {
    "name": "ipython",
    "version": 2
   },
   "file_extension": ".py",
   "mimetype": "text/x-python",
   "name": "python",
   "nbconvert_exporter": "python",
   "pygments_lexer": "ipython2",
   "version": "2.7.12"
  }
 },
 "nbformat": 4,
 "nbformat_minor": 0
}
