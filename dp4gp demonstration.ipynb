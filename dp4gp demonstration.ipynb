{
 "cells": [
  {
   "cell_type": "code",
   "execution_count": null,
   "metadata": {
    "collapsed": false
   },
   "outputs": [],
   "source": [
    "import dp4gp_datasets as datasets\n",
    "import dp4gp\n",
    "import GPy\n",
    "\n",
    "import pandas as pd\n",
    "import dp4gp_datasets as datasets\n",
    "import matplotlib.pyplot as plt\n",
    "import numpy as np\n",
    "%matplotlib inline\n",
    "import dp4gp\n"
   ]
  },
  {
   "cell_type": "markdown",
   "metadata": {},
   "source": [
    "# Citibike Demo"
   ]
  },
  {
   "cell_type": "code",
   "execution_count": null,
   "metadata": {
    "collapsed": false
   },
   "outputs": [],
   "source": [
    "\n",
    "df = datasets.load_citibike()\n",
    "datasets.add_citibike_extra_columns(df)"
   ]
  },
  {
   "cell_type": "code",
   "execution_count": null,
   "metadata": {
    "collapsed": false
   },
   "outputs": [],
   "source": [
    "boundarylist = [('hours',0,24*1,0.5), ('tripduration_mins',0,60.0,20.0)]\n",
    "output,point_row_form,area_row_form,output_row_form,bins = dp4gp.bin_dataframe(df,boundarylist,verbose=True)\n",
    "\n",
    "#output_row_form -= np.mean(output_row_form)\n",
    "#output_row_form /= np.std(output_row_form)\n",
    "kernel = GPy.kern.Multidimensional_Integral_Limits(input_dim=area_row_form.shape[1],lengthscale=[10.0,1.0],variances=[1.0])\n",
    "m_int = GPy.models.GPRegression(1.0*area_row_form,1.0*output_row_form[:,None],kernel)\n",
    "m_int.optimize(messages=True,max_iters=50)"
   ]
  },
  {
   "cell_type": "code",
   "execution_count": null,
   "metadata": {
    "collapsed": false
   },
   "outputs": [],
   "source": [
    "import numpy as np\n",
    "import matplotlib.pyplot as plt\n",
    "%matplotlib inline\n",
    "y = []\n",
    "x = []\n",
    "for h in np.arange(0,48,0.1):\n",
    "    x.append(h)\n",
    "    res,cov = m_int.predict_noiseless(np.array([[h+0.1,h,0.1,0.0]]))\n",
    "    y.append(res[0][0])\n",
    "plt.plot(x,np.array(y)*10) #x10 because step size during training was 0.5 x 20 = 10\n",
    "plt.plot(area_row_form[area_row_form[:,2]==20,0]-1,output_row_form[area_row_form[:,2]==20])"
   ]
  },
  {
   "cell_type": "markdown",
   "metadata": {},
   "source": [
    "TO DO: Include GP for DP version"
   ]
  },
  {
   "cell_type": "markdown",
   "metadata": {},
   "source": [
    "# House price example"
   ]
  },
  {
   "cell_type": "code",
   "execution_count": null,
   "metadata": {
    "collapsed": false
   },
   "outputs": [],
   "source": [
    "complete = datasets.load_prices_and_postcode()"
   ]
  },
  {
   "cell_type": "code",
   "execution_count": null,
   "metadata": {
    "collapsed": false
   },
   "outputs": [],
   "source": [
    "ys = complete['price'].values\n",
    "#ys = np.log(complete['price'].values)\n",
    "training_inputs = np.vstack([complete['easting'].values,complete['northing'].values]).T\n"
   ]
  },
  {
   "cell_type": "code",
   "execution_count": null,
   "metadata": {
    "collapsed": false
   },
   "outputs": [],
   "source": [
    "#squash data into £200k-£700k range\n",
    "ys[ys>7e5] = 7e5\n",
    "ys[ys<2e5] = 2e5\n",
    "#ys = np.log(ys)\n",
    "#sens = np.log(7e5)-np.log(2e5)\n",
    "sens = 7e5-2e5\n",
    "\n",
    "london_east = 530000\n",
    "london_north = 180000\n",
    "size = 100000\n",
    "samp = (training_inputs[:,0]>london_east-size) & (training_inputs[:,0]<london_east+size) & (training_inputs[:,1]>london_north-size) & (training_inputs[:,1]<london_north+size)\n",
    "ys = ys[samp]\n",
    "training_inputs = training_inputs[samp,:]\n",
    "\n",
    "import random\n",
    "samp = random.sample(range(1, len(ys)), 1000)\n",
    "ys = ys[samp]\n",
    "training_inputs = training_inputs[samp,:]\n",
    "\n",
    "#use logs\n",
    "#ys = np.log(ys)"
   ]
  },
  {
   "cell_type": "code",
   "execution_count": null,
   "metadata": {
    "collapsed": false
   },
   "outputs": [],
   "source": [
    "from sklearn.cluster import KMeans\n",
    "kmeans = KMeans(n_clusters=5).fit(training_inputs) #50 cities, so using about 70 inducing inputs. just london - use 10\n",
    "\n",
    "centres = kmeans.cluster_centers_\n",
    "sparse = []\n",
    "for i, c in enumerate(centres):\n",
    "    skip = False\n",
    "    for d in centres[0:i]:\n",
    "        if (np.sum((d-c)**2)<12000**2):\n",
    "            skip = True\n",
    "            break\n",
    "    if not skip:\n",
    "        sparse.append(c)\n",
    "sparse = np.array(sparse)"
   ]
  },
  {
   "cell_type": "code",
   "execution_count": null,
   "metadata": {
    "collapsed": true
   },
   "outputs": [],
   "source": [
    "test_inputs = []\n",
    "step = 5000\n",
    "for easting in np.arange(london_east-size,london_east+size,step):\n",
    "    for northing in np.arange(london_north-size,london_north+size,step):\n",
    "        test_inputs.append([easting,northing])\n",
    "    \n",
    "test_inputs = np.array(test_inputs)"
   ]
  },
  {
   "cell_type": "code",
   "execution_count": null,
   "metadata": {
    "collapsed": false
   },
   "outputs": [],
   "source": [
    "pseudo_inputs = sparse\n",
    "lengthscales = 2500.0\n",
    "sigma = np.ones_like(ys) * sens * 0.1\n",
    "test_cov, normal_msense, pseudo_msense, normal_peroutput_msense, pseudo_peroutput_msense, normal_mu, pseudo_mu, K_normal, K_pseudo = dp4gp.get_noise_scale(ys,test_inputs,training_inputs,pseudo_inputs,lengthscales,sigma,calc_normal=True)"
   ]
  },
  {
   "cell_type": "code",
   "execution_count": null,
   "metadata": {
    "collapsed": false
   },
   "outputs": [],
   "source": [
    "normal_msense"
   ]
  },
  {
   "cell_type": "code",
   "execution_count": null,
   "metadata": {
    "collapsed": false
   },
   "outputs": [],
   "source": [
    "pseudo_msense"
   ]
  },
  {
   "cell_type": "code",
   "execution_count": null,
   "metadata": {
    "collapsed": false
   },
   "outputs": [],
   "source": [
    "np.mean(normal_peroutput_msense)"
   ]
  },
  {
   "cell_type": "code",
   "execution_count": null,
   "metadata": {
    "collapsed": false
   },
   "outputs": [],
   "source": [
    "np.mean(pseudo_peroutput_msense)"
   ]
  },
  {
   "cell_type": "code",
   "execution_count": null,
   "metadata": {
    "collapsed": false
   },
   "outputs": [],
   "source": [
    "plt.plot(normal_peroutput_msense,'g--')\n",
    "plt.plot(pseudo_peroutput_msense,'k-')\n",
    "plt.plot([0,150],[pseudo_msense,pseudo_msense],'k-')\n",
    "plt.plot([0,150],[normal_msense,normal_msense],'g--')"
   ]
  },
  {
   "cell_type": "code",
   "execution_count": null,
   "metadata": {
    "collapsed": false
   },
   "outputs": [],
   "source": [
    "for it in range(5):\n",
    "    plt.figure()\n",
    "    msense = normal_peroutput_msense\n",
    "    preds = dp4gp.draw_sample(test_cov, test_inputs, pseudo_mu, msense, sens=sens, delta=0.01, eps=1.0)\n",
    "    #preds = np.exp(preds)\n",
    "    preds = 25*(preds - np.min(preds))/(np.max(preds)-np.min(preds))\n",
    "    \n",
    "    for x,y,p,pms,nms in zip(test_inputs[:,0],test_inputs[:,1],preds,pseudo_peroutput_msense,normal_peroutput_msense):\n",
    "        #plt.plot(x,y,'ko',markersize=p)\n",
    "        plt.plot(x,y,'go',markersize=pms*20)\n",
    "        plt.plot(x,y,'bo',markersize=nms*20)\n",
    "    plt.plot(sparse[:,0],sparse[:,1],'bx',markersize=10,alpha=1.0,markeredgewidth=5)    "
   ]
  },
  {
   "cell_type": "code",
   "execution_count": null,
   "metadata": {
    "collapsed": false
   },
   "outputs": [],
   "source": [
    "msense = normal_peroutput_msense\n",
    "noiseless_preds = dp4gp.draw_sample(test_cov, test_inputs, pseudo_mu, msense, sens=0, delta=0.01, eps=1.0)\n",
    "#noiseless_preds = np.exp(noiseless_preds)\n",
    "noiseless_preds = 25*(noiseless_preds - np.min(noiseless_preds))/(np.max(noiseless_preds)-np.min(noiseless_preds))\n",
    "for x,y,p in zip(test_inputs[:,0],test_inputs[:,1],noiseless_preds):\n",
    "    plt.plot(x,y,'ko',markersize=p*0.3)\n",
    "plt.plot(sparse[:,0],sparse[:,1],'bx',markersize=10,alpha=1.0,markeredgewidth=5)  "
   ]
  },
  {
   "cell_type": "code",
   "execution_count": null,
   "metadata": {
    "collapsed": false
   },
   "outputs": [],
   "source": [
    "plt.figure(figsize=(20,10))\n",
    "\n",
    "ranges = np.array([0,100,200,500,1000,10000]) * 1000\n",
    "cols = ['red','orange','yellow','#aaaaff','white']\n",
    "for rlow,rhigh,col in zip(ranges[0:-1],ranges[1:],cols):\n",
    "    df = complete[(complete['price']>rlow) & (complete['price']<rhigh)]\n",
    "    plt.plot(df['easting'], df['northing'],'.',alpha=0.2,markersize=20,color=col)\n",
    "plt.axis('equal')\n",
    "ax = plt.gca()\n",
    "ax.set_axis_bgcolor('black')\n",
    "\n",
    "plt.plot(sparse[:,0],sparse[:,1],'bx',markersize=10,alpha=1.0,markeredgewidth=5)\n",
    "plt.xlim([london_east-size,london_east+size])\n",
    "plt.ylim([london_north-size,london_north+size])\n",
    "\n",
    "msense = normal_peroutput_msense\n",
    "for x,y,p,n in zip(test_inputs[:,0],test_inputs[:,1],preds,msense):\n",
    "#for x,y,p in zip(test_inputs[:,0],test_inputs[:,1],noiseless_preds):\n",
    "    plt.plot(x,y,'wo',markersize=p*5.0,alpha=0.5)\n",
    "   # plt.plot(x,y,'wo',markersize=n*50.0,alpha=0.5)    "
   ]
  },
  {
   "cell_type": "code",
   "execution_count": null,
   "metadata": {
    "collapsed": false
   },
   "outputs": [],
   "source": [
    "plt.plot(preds)"
   ]
  },
  {
   "cell_type": "code",
   "execution_count": 22,
   "metadata": {
    "collapsed": false
   },
   "outputs": [
    {
     "data": {
      "text/plain": [
       "[<matplotlib.lines.Line2D at 0x7f3a8c046fd0>]"
      ]
     },
     "execution_count": 22,
     "metadata": {},
     "output_type": "execute_result"
    },
    {
     "data": {
      "image/png": "[encoded data removed]",
      "text/plain": [
       "<matplotlib.figure.Figure at 0x7f3a8c204250>"
      ]
     },
     "metadata": {},
     "output_type": "display_data"
    }
   ],
   "source": [
    "plt.plot(X,Y,'o',alpha=0.4,markersize=15)"
   ]
  },
  {
   "cell_type": "code",
   "execution_count": 23,
   "metadata": {
    "collapsed": false
   },
   "outputs": [
    {
     "name": "stdout",
     "output_type": "stream",
     "text": [
      "Calculating covariance between test inputs\n",
      "Calculating covariance between training inputs and test inputs\n",
      "Calculating K_NM\n",
      "Calculating K_MM\n",
      "Calculating K_NN diagonals\n",
      "Calculating K_star\n",
      "Calculating K_NN\n",
      "Calculating lambda\n",
      "Shapes of K_Nstar, Kstar, K_NM, K_pseudo, invCov\n",
      "(34, 360)\n",
      "(360, 5)\n",
      "(34, 5)\n",
      "(5, 34)\n",
      "(34, 34)\n"
     ]
    }
   ],
   "source": [
    "test_inputs = np.arange(-100,260,1)\n",
    "pseudo_inputs = np.array([0,40,80,120,160])\n",
    "lengthscales = 18.973\n",
    "sigma = 0.1\n",
    "\n",
    "test_cov, normal_msense, pseudo_msense, normal_peroutput_msense, pseudo_peroutput_msense, normal_mu, pseudo_mu, K_normal, K_pseudo = dp4gp.get_noise_scale(Y,test_inputs,X,pseudo_inputs,lengthscales,sigma,calc_normal=True)"
   ]
  },
  {
   "cell_type": "code",
   "execution_count": 24,
   "metadata": {
    "collapsed": false
   },
   "outputs": [
    {
     "name": "stdout",
     "output_type": "stream",
     "text": [
      "17.6035285234\n",
      "1.59146666995\n",
      "0.281253360722\n",
      "0.151901020262\n"
     ]
    }
   ],
   "source": [
    "print normal_msense\n",
    "print pseudo_msense\n",
    "print np.mean(normal_peroutput_msense)\n",
    "print np.mean(pseudo_peroutput_msense)"
   ]
  },
  {
   "cell_type": "code",
   "execution_count": 28,
   "metadata": {
    "collapsed": false
   },
   "outputs": [
    {
     "data": {
      "text/plain": [
       "<matplotlib.collections.LineCollection at 0x7f3a87ee3e10>"
      ]
     },
     "execution_count": 28,
     "metadata": {},
     "output_type": "execute_result"
    },
    {
     "data": {
      "image/png": "[encoded data removed]",
      "text/plain": [
       "<matplotlib.figure.Figure at 0x7f3a87fb7910>"
      ]
     },
     "metadata": {},
     "output_type": "display_data"
    }
   ],
   "source": [
    "plt.plot(test_inputs,pseudo_peroutput_msense)\n",
    "plt.plot(test_inputs,normal_peroutput_msense)\n",
    "plt.vlines(X,0,0.1)\n",
    "plt.hlines(pseudo_msense,-100,250)\n",
    "#plt.hlines(normal_msense,-100,250)"
   ]
  },
  {
   "cell_type": "code",
   "execution_count": 26,
   "metadata": {
    "collapsed": false
   },
   "outputs": [
    {
     "data": {
      "text/plain": [
       "array([ -50.,   14.,   28.,   41.,   55.,   69.,   83.,   97.,  111.,\n",
       "        125.,  139.,  153.,   14.,   28.,   41.,   55.,   69.,   83.,\n",
       "         97.,  111.,  125.,  139.,  153.,   14.,   28.,   41.,   55.,\n",
       "         69.,   83.,   97.,  111.,  125.,  139.,  153.])"
      ]
     },
     "execution_count": 26,
     "metadata": {},
     "output_type": "execute_result"
    }
   ],
   "source": [
    "X"
   ]
  },
  {
   "cell_type": "code",
   "execution_count": null,
   "metadata": {
    "collapsed": true
   },
   "outputs": [],
   "source": []
  }
 ],
 "metadata": {
  "kernelspec": {
   "display_name": "Python 2",
   "language": "python",
   "name": "python2"
  },
  "language_info": {
   "codemirror_mode": {
    "name": "ipython",
    "version": 2
   },
   "file_extension": ".py",
   "mimetype": "text/x-python",
   "name": "python",
   "nbconvert_exporter": "python",
   "pygments_lexer": "ipython2",
   "version": "2.7.12"
  }
 },
 "nbformat": 4,
 "nbformat_minor": 0
}
