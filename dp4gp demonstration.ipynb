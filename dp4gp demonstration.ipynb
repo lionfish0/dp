{
 "cells": [
  {
   "cell_type": "code",
   "execution_count": null,
   "metadata": {
    "collapsed": false
   },
   "outputs": [],
   "source": [
    "import dp4gp_datasets as datasets\n",
    "import dp4gp\n",
    "import GPy"
   ]
  },
  {
   "cell_type": "markdown",
   "metadata": {},
   "source": [
    "# Citibike Demo"
   ]
  },
  {
   "cell_type": "code",
   "execution_count": null,
   "metadata": {
    "collapsed": false
   },
   "outputs": [],
   "source": [
    "\n",
    "df = datasets.load_citibike()\n",
    "datasets.add_citibike_extra_columns(df)"
   ]
  },
  {
   "cell_type": "code",
   "execution_count": null,
   "metadata": {
    "collapsed": false
   },
   "outputs": [],
   "source": [
    "boundarylist = [('hours',0,24*1,0.5), ('tripduration_mins',0,60.0,20.0)]\n",
    "output,point_row_form,area_row_form,output_row_form,bins = dp4gp.bin_dataframe(df,boundarylist,verbose=True)\n",
    "\n",
    "#output_row_form -= np.mean(output_row_form)\n",
    "#output_row_form /= np.std(output_row_form)\n",
    "kernel = GPy.kern.Multidimensional_Integral_Limits(input_dim=area_row_form.shape[1],lengthscale=[10.0,1.0],variances=[1.0])\n",
    "m_int = GPy.models.GPRegression(1.0*area_row_form,1.0*output_row_form[:,None],kernel)\n",
    "m_int.optimize(messages=True,max_iters=50)"
   ]
  },
  {
   "cell_type": "code",
   "execution_count": null,
   "metadata": {
    "collapsed": false
   },
   "outputs": [],
   "source": [
    "import numpy as np\n",
    "import matplotlib.pyplot as plt\n",
    "%matplotlib inline\n",
    "y = []\n",
    "x = []\n",
    "for h in np.arange(0,48,0.1):\n",
    "    x.append(h)\n",
    "    res,cov = m_int.predict_noiseless(np.array([[h+0.1,h,0.1,0.0]]))\n",
    "    y.append(res[0][0])\n",
    "plt.plot(x,np.array(y)*10) #x10 because step size during training was 0.5 x 20 = 10\n",
    "plt.plot(area_row_form[area_row_form[:,2]==20,0]-1,output_row_form[area_row_form[:,2]==20])"
   ]
  },
  {
   "cell_type": "markdown",
   "metadata": {},
   "source": [
    "# House price example"
   ]
  },
  {
   "cell_type": "code",
   "execution_count": 1,
   "metadata": {
    "collapsed": false
   },
   "outputs": [
    {
     "name": "stdout",
     "output_type": "stream",
     "text": [
      "warning in stationary: failed to import cython module: falling back to numpy\n"
     ]
    }
   ],
   "source": [
    "import pandas as pd\n",
    "import dp4gp_datasets as datasets\n",
    "import matplotlib.pyplot as plt\n",
    "import numpy as np\n",
    "%matplotlib inline\n",
    "import dp4gp\n",
    "\n",
    "complete = datasets.load_prices_and_postcode()"
   ]
  },
  {
   "cell_type": "code",
   "execution_count": 2,
   "metadata": {
    "collapsed": false
   },
   "outputs": [],
   "source": [
    "ys = complete['price'].values\n",
    "#ys = np.log(complete['price'].values)\n",
    "training_inputs = np.vstack([complete['easting'].values,complete['northing'].values]).T\n"
   ]
  },
  {
   "cell_type": "code",
   "execution_count": 3,
   "metadata": {
    "collapsed": false
   },
   "outputs": [],
   "source": [
    "#squash data into £200k-£700k range\n",
    "ys[ys>7e5] = 7e5\n",
    "ys[ys<2e5] = 2e5\n",
    "#ys = np.log(ys)\n",
    "#sens = np.log(7e5)-np.log(2e5)\n",
    "sens = 7e5-2e5\n",
    "\n",
    "london_east = 530000\n",
    "london_north = 180000\n",
    "size = 30000\n",
    "samp = (training_inputs[:,0]>london_east-size) & (training_inputs[:,0]<london_east+size) & (training_inputs[:,1]>london_north-size) & (training_inputs[:,1]<london_north+size)\n",
    "#import random\n",
    "#samp = random.sample(range(1, len(ys)), 5000)\n",
    "ys = ys[samp]\n",
    "training_inputs = training_inputs[samp,:]\n",
    "\n",
    "#use logs\n",
    "#ys = np.log(ys)"
   ]
  },
  {
   "cell_type": "code",
   "execution_count": 4,
   "metadata": {
    "collapsed": false
   },
   "outputs": [],
   "source": [
    "from sklearn.cluster import KMeans\n",
    "kmeans = KMeans(n_clusters=5).fit(training_inputs) #50 cities, so using about 70 inducing inputs. just london - use 10\n",
    "\n",
    "centres = kmeans.cluster_centers_\n",
    "sparse = []\n",
    "for i, c in enumerate(centres):\n",
    "    skip = False\n",
    "    for d in centres[0:i]:\n",
    "        if (np.sum((d-c)**2)<12000**2):\n",
    "            skip = True\n",
    "            break\n",
    "    if not skip:\n",
    "        sparse.append(c)\n",
    "sparse = np.array(sparse)"
   ]
  },
  {
   "cell_type": "code",
   "execution_count": 5,
   "metadata": {
    "collapsed": true
   },
   "outputs": [],
   "source": [
    "test_inputs = []\n",
    "step = 5000\n",
    "for easting in np.arange(london_east-size,london_east+size,step):\n",
    "    for northing in np.arange(london_north-size,london_north+size,step):\n",
    "        test_inputs.append([easting,northing])\n",
    "    \n",
    "test_inputs = np.array(test_inputs)"
   ]
  },
  {
   "cell_type": "code",
   "execution_count": 22,
   "metadata": {
    "collapsed": false
   },
   "outputs": [
    {
     "name": "stdout",
     "output_type": "stream",
     "text": [
      "Calculating covariance between test inputs\n",
      "Calculating covariance between training inputs and test inputs\n",
      "Calculating K_NM\n",
      "Calculating K_MM\n",
      "Calculating K_NN diagonals\n",
      "Calculating K_star\n",
      "Calculating lambda\n"
     ]
    }
   ],
   "source": [
    "pseudo_inputs = sparse\n",
    "lengthscales = 9000.0\n",
    "#sigma = sens\n",
    "sigma = np.ones_like(ys) * sens\n",
    "\n",
    "test_cov, pseudo_msense, pseudo_mu, K_pseudo = dp4gp.get_noise_scale(ys,test_inputs,training_inputs,pseudo_inputs,lengthscales,sigma)"
   ]
  },
  {
   "cell_type": "code",
   "execution_count": 23,
   "metadata": {
    "collapsed": false
   },
   "outputs": [
    {
     "data": {
      "image/png": "[encoded data removed]",
      "text/plain": [
       "<matplotlib.figure.Figure at 0x7ff154b244d0>"
      ]
     },
     "metadata": {},
     "output_type": "display_data"
    }
   ],
   "source": [
    "plt.plot(K_pseudo[0,:].T);"
   ]
  },
  {
   "cell_type": "code",
   "execution_count": 24,
   "metadata": {
    "collapsed": false
   },
   "outputs": [],
   "source": [
    "std = np.std(K_pseudo)\n",
    "weaken = np.zeros(len(ys), dtype=bool)\n",
    "for it in range(5):\n",
    "    weaken = weaken | (np.abs(K_pseudo[it,:])>std)"
   ]
  },
  {
   "cell_type": "code",
   "execution_count": 43,
   "metadata": {
    "collapsed": false
   },
   "outputs": [
    {
     "data": {
      "text/plain": [
       "(5, 7035)"
      ]
     },
     "execution_count": 43,
     "metadata": {},
     "output_type": "execute_result"
    }
   ],
   "source": [
    "K_pseudo.shape"
   ]
  },
  {
   "cell_type": "code",
   "execution_count": 41,
   "metadata": {
    "collapsed": false
   },
   "outputs": [
    {
     "data": {
      "text/plain": [
       "[<matplotlib.lines.Line2D at 0x7ff1555f3e90>]"
      ]
     },
     "execution_count": 41,
     "metadata": {},
     "output_type": "execute_result"
    },
    {
     "data": {
      "image/png": "[encoded data removed]",
      "text/plain": [
       "<matplotlib.figure.Figure at 0x7ff155f83b10>"
      ]
     },
     "metadata": {},
     "output_type": "display_data"
    }
   ],
   "source": [
    "np.mean(np.abs(K_pseudo),0)/np.mean(np.abs(K_pseudo))"
   ]
  },
  {
   "cell_type": "code",
   "execution_count": 54,
   "metadata": {
    "collapsed": false
   },
   "outputs": [],
   "source": [
    "sigma = np.ones_like(ys) * sens\n",
    "sigma = sigma / (np.mean(np.abs(K_pseudo),0)/np.mean(np.abs(K_pseudo)))"
   ]
  },
  {
   "cell_type": "code",
   "execution_count": 55,
   "metadata": {
    "collapsed": false
   },
   "outputs": [
    {
     "name": "stdout",
     "output_type": "stream",
     "text": [
      "Calculating covariance between test inputs\n",
      "Calculating covariance between training inputs and test inputs\n",
      "Calculating K_NM\n",
      "Calculating K_MM\n",
      "Calculating K_NN diagonals\n",
      "Calculating K_star\n",
      "Calculating lambda\n"
     ]
    }
   ],
   "source": [
    "test_cov, pseudo_msense, pseudo_mu, K_pseudo = dp4gp.get_noise_scale(ys,test_inputs,training_inputs,pseudo_inputs,lengthscales,sigma)"
   ]
  },
  {
   "cell_type": "code",
   "execution_count": 56,
   "metadata": {
    "collapsed": false
   },
   "outputs": [
    {
     "data": {
      "image/png": "[encoded data removed]",
      "text/plain": [
       "<matplotlib.figure.Figure at 0x7ff153733e10>"
      ]
     },
     "metadata": {},
     "output_type": "display_data"
    }
   ],
   "source": [
    "plt.plot(K_pseudo[0,:].T);"
   ]
  },
  {
   "cell_type": "code",
   "execution_count": 57,
   "metadata": {
    "collapsed": false
   },
   "outputs": [
    {
     "name": "stdout",
     "output_type": "stream",
     "text": [
      "1.44760328969\n",
      "1.69547527837\n",
      "1.63919112427\n",
      "2.22076137863\n",
      "1.64912296078\n"
     ]
    }
   ],
   "source": [
    "for it in range(5):\n",
    "    print np.sum(K_pseudo[it,:].copy().clip(min=0))"
   ]
  },
  {
   "cell_type": "code",
   "execution_count": 58,
   "metadata": {
    "collapsed": false
   },
   "outputs": [
    {
     "data": {
      "text/plain": [
       "2.2207613786300984"
      ]
     },
     "execution_count": 58,
     "metadata": {},
     "output_type": "execute_result"
    }
   ],
   "source": [
    "dp4gp.msense(K_pseudo)"
   ]
  },
  {
   "cell_type": "code",
   "execution_count": 59,
   "metadata": {
    "collapsed": false
   },
   "outputs": [
    {
     "data": {
      "text/plain": [
       "2.2207613786300984"
      ]
     },
     "execution_count": 59,
     "metadata": {},
     "output_type": "execute_result"
    }
   ],
   "source": [
    "pseudo_msense"
   ]
  },
  {
   "cell_type": "code",
   "execution_count": null,
   "metadata": {
    "collapsed": false
   },
   "outputs": [],
   "source": [
    "for it in range(5):\n",
    "    plt.figure()\n",
    "    preds = dp4gp.draw_sample(test_cov, test_inputs, pseudo_mu, pseudo_msense, sens=sens, delta=0.01, eps=100.0)\n",
    "    #preds = np.exp(preds)\n",
    "    preds = 25*(preds - np.min(preds))/(np.max(preds)-np.min(preds))\n",
    "    \n",
    "    for x,y,p in zip(test_inputs[:,0],test_inputs[:,1],preds):\n",
    "        plt.plot(x,y,'ko',markersize=p)\n",
    "    plt.plot(sparse[:,0],sparse[:,1],'bx',markersize=10,alpha=1.0,markeredgewidth=5)    "
   ]
  },
  {
   "cell_type": "code",
   "execution_count": null,
   "metadata": {
    "collapsed": false
   },
   "outputs": [],
   "source": [
    "noiseless_preds = dp4gp.draw_sample(test_cov, test_inputs, pseudo_mu, pseudo_msense, sens=0, delta=0.01, eps=5.0)\n",
    "#noiseless_preds = np.exp(noiseless_preds)\n",
    "noiseless_preds = 25*(noiseless_preds - np.min(noiseless_preds))/(np.max(noiseless_preds)-np.min(noiseless_preds))\n",
    "for x,y,p in zip(test_inputs[:,0],test_inputs[:,1],noiseless_preds):\n",
    "    plt.plot(x,y,'ko',markersize=p)\n",
    "plt.plot(sparse[:,0],sparse[:,1],'bx',markersize=10,alpha=1.0,markeredgewidth=5)  "
   ]
  },
  {
   "cell_type": "code",
   "execution_count": null,
   "metadata": {
    "collapsed": false
   },
   "outputs": [],
   "source": [
    "plt.figure(figsize=(20,10))\n",
    "\n",
    "ranges = np.array([0,100,200,500,1000,10000]) * 1000\n",
    "cols = ['red','orange','yellow','#aaaaff','white']\n",
    "for rlow,rhigh,col in zip(ranges[0:-1],ranges[1:],cols):\n",
    "    df = complete[(complete['price']>rlow) & (complete['price']<rhigh)]\n",
    "    plt.plot(df['easting'], df['northing'],'.',alpha=0.2,markersize=20,color=col)\n",
    "plt.axis('equal')\n",
    "ax = plt.gca()\n",
    "ax.set_axis_bgcolor('black')\n",
    "\n",
    "plt.plot(sparse[:,0],sparse[:,1],'bx',markersize=10,alpha=1.0,markeredgewidth=5)\n",
    "plt.xlim([london_east-size,london_east+size])\n",
    "plt.ylim([london_north-size,london_north+size])\n",
    "\n",
    "for x,y,p in zip(test_inputs[:,0],test_inputs[:,1],noiseless_preds):\n",
    "    plt.plot(x,y,'wo',markersize=p,alpha=0.5)"
   ]
  },
  {
   "cell_type": "code",
   "execution_count": null,
   "metadata": {
    "collapsed": false
   },
   "outputs": [],
   "source": [
    "A = np.array([[1,2,1],[1,1,1],[3,3,3],[1,1,1]])\n",
    "d = np.array([1,2,3])\n",
    "D = np.diag(d)\n",
    "np.dot(A,D)"
   ]
  },
  {
   "cell_type": "code",
   "execution_count": null,
   "metadata": {
    "collapsed": false
   },
   "outputs": [],
   "source": [
    "A*d"
   ]
  },
  {
   "cell_type": "code",
   "execution_count": null,
   "metadata": {
    "collapsed": true
   },
   "outputs": [],
   "source": []
  }
 ],
 "metadata": {
  "kernelspec": {
   "display_name": "Python 2",
   "language": "python",
   "name": "python2"
  },
  "language_info": {
   "codemirror_mode": {
    "name": "ipython",
    "version": 2
   },
   "file_extension": ".py",
   "mimetype": "text/x-python",
   "name": "python",
   "nbconvert_exporter": "python",
   "pygments_lexer": "ipython2",
   "version": "2.7.12"
  }
 },
 "nbformat": 4,
 "nbformat_minor": 0
}
